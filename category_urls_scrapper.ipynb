{
  "nbformat": 4,
  "nbformat_minor": 0,
  "metadata": {
    "colab": {
      "name": "category_urls_scrapper.ipynb",
      "provenance": [],
      "collapsed_sections": [],
      "authorship_tag": "ABX9TyOS/xPyGIuR3vn2xkDbsWyB"
    },
    "kernelspec": {
      "name": "python3",
      "display_name": "Python 3"
    }
  },
  "cells": [
    {
      "cell_type": "markdown",
      "metadata": {
        "id": "uiNqe4BPYpTC"
      },
      "source": [
        "# Mounting Google Drive and import necessary libraries"
      ]
    },
    {
      "cell_type": "code",
      "metadata": {
        "id": "Xpsd-LOyJWpf",
        "colab": {
          "base_uri": "https://localhost:8080/"
        },
        "outputId": "62ec50fe-3659-48d8-9f72-87149907c0e7"
      },
      "source": [
        "from google.colab import drive\n",
        "drive.mount('/content/drive')"
      ],
      "execution_count": 1,
      "outputs": [
        {
          "output_type": "stream",
          "text": [
            "Drive already mounted at /content/drive; to attempt to forcibly remount, call drive.mount(\"/content/drive\", force_remount=True).\n"
          ],
          "name": "stdout"
        }
      ]
    },
    {
      "cell_type": "code",
      "metadata": {
        "id": "irVT3Z-emblM",
        "colab": {
          "base_uri": "https://localhost:8080/"
        },
        "outputId": "f1aded0f-46f7-452e-da05-af3d8ba9f256"
      },
      "source": [
        "#install required Packages\n",
        "!pip install selenium\n",
        "!apt-get update \n",
        "!apt install chromium-chromedriver"
      ],
      "execution_count": 2,
      "outputs": [
        {
          "output_type": "stream",
          "text": [
            "Requirement already satisfied: selenium in /usr/local/lib/python3.7/dist-packages (3.141.0)\n",
            "Requirement already satisfied: urllib3 in /usr/local/lib/python3.7/dist-packages (from selenium) (1.24.3)\n",
            "Hit:1 https://cloud.r-project.org/bin/linux/ubuntu bionic-cran40/ InRelease\n",
            "Ign:2 https://developer.download.nvidia.com/compute/cuda/repos/ubuntu1804/x86_64  InRelease\n",
            "Ign:3 https://developer.download.nvidia.com/compute/machine-learning/repos/ubuntu1804/x86_64  InRelease\n",
            "Hit:4 https://developer.download.nvidia.com/compute/cuda/repos/ubuntu1804/x86_64  Release\n",
            "Hit:5 https://developer.download.nvidia.com/compute/machine-learning/repos/ubuntu1804/x86_64  Release\n",
            "Hit:6 http://security.ubuntu.com/ubuntu bionic-security InRelease\n",
            "Hit:7 http://ppa.launchpad.net/c2d4u.team/c2d4u4.0+/ubuntu bionic InRelease\n",
            "Hit:8 http://archive.ubuntu.com/ubuntu bionic InRelease\n",
            "Hit:9 http://archive.ubuntu.com/ubuntu bionic-updates InRelease\n",
            "Hit:11 http://ppa.launchpad.net/cran/libgit2/ubuntu bionic InRelease\n",
            "Hit:12 http://archive.ubuntu.com/ubuntu bionic-backports InRelease\n",
            "Hit:14 http://ppa.launchpad.net/deadsnakes/ppa/ubuntu bionic InRelease\n",
            "Hit:15 http://ppa.launchpad.net/graphics-drivers/ppa/ubuntu bionic InRelease\n",
            "Reading package lists... Done\n",
            "Reading package lists... Done\n",
            "Building dependency tree       \n",
            "Reading state information... Done\n",
            "chromium-chromedriver is already the newest version (87.0.4280.66-0ubuntu0.18.04.1).\n",
            "0 upgraded, 0 newly installed, 0 to remove and 32 not upgraded.\n"
          ],
          "name": "stdout"
        }
      ]
    },
    {
      "cell_type": "code",
      "metadata": {
        "id": "q1e7lmbZoJYm",
        "colab": {
          "base_uri": "https://localhost:8080/"
        },
        "outputId": "5c38b4b4-0ccf-4241-fcd8-78e83e43dfd9"
      },
      "source": [
        "from selenium import webdriver\n",
        "chrome_options = webdriver.ChromeOptions()\n",
        "chrome_options.add_argument('--headless')\n",
        "chrome_options.add_argument('--no-sandbox')\n",
        "chrome_options.add_argument('--disable-dev-shm-usage')\n",
        "chrome_options.add_argument('incognito')\n",
        " \n",
        "driver = webdriver.Chrome('chromedriver',chrome_options=chrome_options)"
      ],
      "execution_count": 3,
      "outputs": [
        {
          "output_type": "stream",
          "text": [
            "/usr/local/lib/python3.7/dist-packages/ipykernel_launcher.py:8: DeprecationWarning: use options instead of chrome_options\n",
            "  \n"
          ],
          "name": "stderr"
        }
      ]
    },
    {
      "cell_type": "code",
      "metadata": {
        "id": "vY1OliexmLJZ",
        "cellView": "code"
      },
      "source": [
        "import time\n",
        "from datetime import datetime\n",
        "import pandas as pd"
      ],
      "execution_count": 4,
      "outputs": []
    },
    {
      "cell_type": "markdown",
      "metadata": {
        "id": "02Vji3Hei39r"
      },
      "source": [
        "# The Hindu"
      ]
    },
    {
      "cell_type": "code",
      "metadata": {
        "id": "WZM8kXPIGD7L",
        "colab": {
          "base_uri": "https://localhost:8080/",
          "height": 35
        },
        "outputId": "62b59430-beb1-4e7a-fdc3-78a5aeaa21dc"
      },
      "source": [
        "base_url = 'https://www.thehindu.com/'\r\n",
        "driver.get(base_url)\r\n",
        "driver.title"
      ],
      "execution_count": 5,
      "outputs": [
        {
          "output_type": "execute_result",
          "data": {
            "application/vnd.google.colaboratory.intrinsic+json": {
              "type": "string"
            },
            "text/plain": [
              "'The Hindu: Breaking News, India News, Sports News and Live Updates'"
            ]
          },
          "metadata": {
            "tags": []
          },
          "execution_count": 5
        }
      ]
    },
    {
      "cell_type": "code",
      "metadata": {
        "id": "fVlYWiG6i6KJ"
      },
      "source": [
        "menu_icon = driver.find_element_by_class_name('menu-icon')\r\n",
        "menu_icon.click()\r\n",
        "time.sleep(1)\r\n",
        "driver.execute_script(\"window.scrollTo(0, window.scrollY + 100);\")"
      ],
      "execution_count": 6,
      "outputs": []
    },
    {
      "cell_type": "code",
      "metadata": {
        "colab": {
          "base_uri": "https://localhost:8080/"
        },
        "id": "8kxlvPVLi6E6",
        "outputId": "072e6199-adfa-4c36-90f4-a17477d3e1f2"
      },
      "source": [
        "the_hindu_category = []\r\n",
        "for i in range(1,7):\r\n",
        "  for j in range(1,15):\r\n",
        "    try:\r\n",
        "      cat = driver.find_element_by_xpath(f'//*[@id=\"popup-menu\"]/div[2]/div[1]/ul[{i}]/li[{j}]/a')\r\n",
        "      the_hindu_category.append(cat.text)\r\n",
        "      print(i,j,cat.text)\r\n",
        "    except:\r\n",
        "      pass"
      ],
      "execution_count": 7,
      "outputs": [
        {
          "output_type": "stream",
          "text": [
            "1 1 Subscription\n",
            "1 2 Latest News\n",
            "1 3 Today's Paper\n",
            "1 4 ePaper\n",
            "1 5 Housing\n",
            "1 6 Coupons\n",
            "1 7 News\n",
            "1 8 Coronavirus\n",
            "1 9 States\n",
            "1 10 Business\n",
            "1 11 Real Estate\n",
            "2 1 Crossword+ \"Free Games\"\n",
            "2 2 Cities\n",
            "2 3 Elections\n",
            "3 1 Opinion\n",
            "3 2 Sport\n",
            "4 1 Entertainment\n",
            "4 2 Society\n",
            "4 3 Books\n",
            "4 4 Children\n",
            "5 1 Life & Style\n",
            "5 2 Technology\n",
            "5 3 Sci-Tech\n",
            "6 1 Education\n",
            "6 2 Multimedia\n",
            "6 3 Data\n",
            "6 4 Specials\n",
            "6 5 Resources\n",
            "6 6 Tags\n",
            "6 7 thREAD\n",
            "6 8 Theatre - Fest\n",
            "6 9 November Fest\n",
            "6 10 Lit for Life\n",
            "6 11 Tamil Nadu Smiling\n",
            "6 12 Newsletter\n"
          ],
          "name": "stdout"
        }
      ]
    },
    {
      "cell_type": "code",
      "metadata": {
        "colab": {
          "base_uri": "https://localhost:8080/"
        },
        "id": "czLJ_ICgCWB6",
        "outputId": "085bf550-009d-4481-a26d-61f736d9fee0"
      },
      "source": [
        "the_hindu_category = the_hindu_category[9:-11]\r\n",
        "the_hindu_category "
      ],
      "execution_count": 8,
      "outputs": [
        {
          "output_type": "execute_result",
          "data": {
            "text/plain": [
              "['Business',\n",
              " 'Real Estate',\n",
              " 'Crossword+ \"Free Games\"',\n",
              " 'Cities',\n",
              " 'Elections',\n",
              " 'Opinion',\n",
              " 'Sport',\n",
              " 'Entertainment',\n",
              " 'Society',\n",
              " 'Books',\n",
              " 'Children',\n",
              " 'Life & Style',\n",
              " 'Technology',\n",
              " 'Sci-Tech',\n",
              " 'Education']"
            ]
          },
          "metadata": {
            "tags": []
          },
          "execution_count": 8
        }
      ]
    },
    {
      "cell_type": "code",
      "metadata": {
        "colab": {
          "base_uri": "https://localhost:8080/"
        },
        "id": "4-SyC2hiElx8",
        "outputId": "666067d6-4a53-419a-9294-99b604fdf7de"
      },
      "source": [
        "the_hindu_category = [x for x in the_hindu_category if x not in ('Crossword+ \"Free Games\"','Cities','Opinion')]\r\n",
        "the_hindu_category "
      ],
      "execution_count": 9,
      "outputs": [
        {
          "output_type": "execute_result",
          "data": {
            "text/plain": [
              "['Business',\n",
              " 'Real Estate',\n",
              " 'Elections',\n",
              " 'Sport',\n",
              " 'Entertainment',\n",
              " 'Society',\n",
              " 'Books',\n",
              " 'Children',\n",
              " 'Life & Style',\n",
              " 'Technology',\n",
              " 'Sci-Tech',\n",
              " 'Education']"
            ]
          },
          "metadata": {
            "tags": []
          },
          "execution_count": 9
        }
      ]
    },
    {
      "cell_type": "code",
      "metadata": {
        "id": "_JsvLw9WImiy"
      },
      "source": [
        "the_hindu_category[1] = 'Real-Estate'\r\n",
        "the_hindu_category[-4] = 'Life-and-Style'"
      ],
      "execution_count": 10,
      "outputs": []
    },
    {
      "cell_type": "code",
      "metadata": {
        "id": "wGv5i5KOJlOo"
      },
      "source": [
        "categories = {\r\n",
        "    'url': [],\r\n",
        "    'category': [],\r\n",
        "    'sub_categories': [],\r\n",
        "    'sub_category_urls': [],\r\n",
        "    'tags':[]\r\n",
        "}"
      ],
      "execution_count": 11,
      "outputs": []
    },
    {
      "cell_type": "code",
      "metadata": {
        "colab": {
          "base_uri": "https://localhost:8080/"
        },
        "id": "f4Bx-apUF_Va",
        "outputId": "9f97ec60-1527-49f6-c906-10c12319ac31"
      },
      "source": [
        "for category in the_hindu_category:\r\n",
        "  print(category)\r\n",
        "  categories['category'].append(category)                               #saving to dictionary\r\n",
        "\r\n",
        "  #Going to the category page\r\n",
        "  url = base_url+category+'/'\r\n",
        "  categories['url'].append(url)                               #saving to dictionary\r\n",
        "  driver.get(url)\r\n",
        "  categories['tags'].append(driver.title)                               #saving to dictionary\r\n",
        "  \r\n",
        "\r\n",
        "  #fetching subcategories\r\n",
        "  subcat = []\r\n",
        "  subcaturls = []\r\n",
        "  try:\r\n",
        "    subcat_menu_div = driver.find_element_by_class_name('city-menu-1')               #menu div\r\n",
        "    nav_element = subcat_menu_div.find_element_by_tag_name('nav')                    #inside nav\r\n",
        "    a_elements = nav_element.find_elements_by_tag_name('a')                          #inside a to extract links\r\n",
        "     \r\n",
        "    #loop to extract links\r\n",
        "    for a in a_elements:\r\n",
        "      subcat.append(a.text)                         #getting text\r\n",
        "      link = a.get_attribute(\"href\")                #getting link\r\n",
        "      if base_url in link:                #blocking if any 3rd party url like businessline\r\n",
        "        subcaturls.append(link)\r\n",
        "\r\n",
        "  except:\r\n",
        "    pass\r\n",
        "  \r\n",
        "  #ensuring non empty\r\n",
        "  if len(subcat) == 0:\r\n",
        "    print('I am in')\r\n",
        "    subcat.append(category)\r\n",
        "    subcaturls.append(url)\r\n",
        "    print(subcat,subcaturls)\r\n",
        "\r\n",
        "  categories['sub_categories'].append(subcat)                               #saving to dictionary\r\n",
        "  categories['sub_category_urls'].append(subcaturls)                        #saving to dictionary\r\n",
        "\r\n"
      ],
      "execution_count": 12,
      "outputs": [
        {
          "output_type": "stream",
          "text": [
            "Business\n",
            "Real-Estate\n",
            "I am in\n",
            "['Real-Estate'] ['https://www.thehindu.com/Real-Estate/']\n",
            "Elections\n",
            "I am in\n",
            "['Elections'] ['https://www.thehindu.com/Elections/']\n",
            "Sport\n",
            "Entertainment\n",
            "Society\n",
            "Books\n",
            "Children\n",
            "I am in\n",
            "['Children'] ['https://www.thehindu.com/Children/']\n",
            "Life-and-Style\n",
            "Technology\n",
            "I am in\n",
            "['Technology'] ['https://www.thehindu.com/Technology/']\n",
            "Sci-Tech\n",
            "Education\n"
          ],
          "name": "stdout"
        }
      ]
    },
    {
      "cell_type": "code",
      "metadata": {
        "colab": {
          "base_uri": "https://localhost:8080/"
        },
        "id": "c1HdcqwLWLkw",
        "outputId": "2987424a-b808-426a-a9d3-d0667053c728"
      },
      "source": [
        "for key in categories.keys():\r\n",
        "  print(key,len(categories[key]))"
      ],
      "execution_count": 13,
      "outputs": [
        {
          "output_type": "stream",
          "text": [
            "url 12\n",
            "category 12\n",
            "sub_categories 12\n",
            "sub_category_urls 12\n",
            "tags 12\n"
          ],
          "name": "stdout"
        }
      ]
    },
    {
      "cell_type": "code",
      "metadata": {
        "colab": {
          "base_uri": "https://localhost:8080/",
          "height": 574
        },
        "id": "u9uA0JSCSBbw",
        "outputId": "0fb203e7-ef8e-4aa1-e9d2-d931fe7a6568"
      },
      "source": [
        "df = pd.DataFrame(categories)\r\n",
        "df"
      ],
      "execution_count": 14,
      "outputs": [
        {
          "output_type": "execute_result",
          "data": {
            "text/html": [
              "<div>\n",
              "<style scoped>\n",
              "    .dataframe tbody tr th:only-of-type {\n",
              "        vertical-align: middle;\n",
              "    }\n",
              "\n",
              "    .dataframe tbody tr th {\n",
              "        vertical-align: top;\n",
              "    }\n",
              "\n",
              "    .dataframe thead th {\n",
              "        text-align: right;\n",
              "    }\n",
              "</style>\n",
              "<table border=\"1\" class=\"dataframe\">\n",
              "  <thead>\n",
              "    <tr style=\"text-align: right;\">\n",
              "      <th></th>\n",
              "      <th>url</th>\n",
              "      <th>category</th>\n",
              "      <th>sub_categories</th>\n",
              "      <th>sub_category_urls</th>\n",
              "      <th>tags</th>\n",
              "    </tr>\n",
              "  </thead>\n",
              "  <tbody>\n",
              "    <tr>\n",
              "      <th>0</th>\n",
              "      <td>https://www.thehindu.com/Business/</td>\n",
              "      <td>Business</td>\n",
              "      <td>[BUSINESS, AGRI-BUSINESS, INDUSTRY, ECONOMY, M...</td>\n",
              "      <td>[https://www.thehindu.com/business/, https://w...</td>\n",
              "      <td>Business News, Finance News, Market News, Stoc...</td>\n",
              "    </tr>\n",
              "    <tr>\n",
              "      <th>1</th>\n",
              "      <td>https://www.thehindu.com/Real-Estate/</td>\n",
              "      <td>Real-Estate</td>\n",
              "      <td>[Real-Estate]</td>\n",
              "      <td>[https://www.thehindu.com/Real-Estate/]</td>\n",
              "      <td>Real Estate News - The Hindu</td>\n",
              "    </tr>\n",
              "    <tr>\n",
              "      <th>2</th>\n",
              "      <td>https://www.thehindu.com/Elections/</td>\n",
              "      <td>Elections</td>\n",
              "      <td>[Elections]</td>\n",
              "      <td>[https://www.thehindu.com/Elections/]</td>\n",
              "      <td>Assembly Elections 2020 latest news, updates, ...</td>\n",
              "    </tr>\n",
              "    <tr>\n",
              "      <th>3</th>\n",
              "      <td>https://www.thehindu.com/Sport/</td>\n",
              "      <td>Sport</td>\n",
              "      <td>[SPORT, CRICKET, FOOTBALL, HOCKEY, TENNIS, ATH...</td>\n",
              "      <td>[https://www.thehindu.com/sport/, https://www....</td>\n",
              "      <td>Live Scores, Latest Sports News, Results, Cric...</td>\n",
              "    </tr>\n",
              "    <tr>\n",
              "      <th>4</th>\n",
              "      <td>https://www.thehindu.com/Entertainment/</td>\n",
              "      <td>Entertainment</td>\n",
              "      <td>[ENTERTAINMENT, ART, DANCE, MOVIES, MUSIC, REV...</td>\n",
              "      <td>[https://www.thehindu.com/entertainment/, http...</td>\n",
              "      <td>Entertainment News, Cinema News, Movie Reviews...</td>\n",
              "    </tr>\n",
              "    <tr>\n",
              "      <th>5</th>\n",
              "      <td>https://www.thehindu.com/Society/</td>\n",
              "      <td>Society</td>\n",
              "      <td>[SOCIETY, FAITH, HISTORY &amp; CULTURE]</td>\n",
              "      <td>[https://www.thehindu.com/society/, https://ww...</td>\n",
              "      <td>Society News, Religion, History, Culture, Monu...</td>\n",
              "    </tr>\n",
              "    <tr>\n",
              "      <th>6</th>\n",
              "      <td>https://www.thehindu.com/Books/</td>\n",
              "      <td>Books</td>\n",
              "      <td>[BOOKS, REVIEWS, AUTHORS]</td>\n",
              "      <td>[https://www.thehindu.com/books/, https://www....</td>\n",
              "      <td>Book Reviews, Launches, Author Interviews, Exc...</td>\n",
              "    </tr>\n",
              "    <tr>\n",
              "      <th>7</th>\n",
              "      <td>https://www.thehindu.com/Children/</td>\n",
              "      <td>Children</td>\n",
              "      <td>[Children]</td>\n",
              "      <td>[https://www.thehindu.com/Children/]</td>\n",
              "      <td>Children News - The Hindu</td>\n",
              "    </tr>\n",
              "    <tr>\n",
              "      <th>8</th>\n",
              "      <td>https://www.thehindu.com/Life-and-Style/</td>\n",
              "      <td>Life-and-Style</td>\n",
              "      <td>[LIFE &amp; STYLE, FASHION, FITNESS, FOOD, MOTORIN...</td>\n",
              "      <td>[https://www.thehindu.com/life-and-style/, htt...</td>\n",
              "      <td>Lifestyle News, Fashion News, Lifestyle And He...</td>\n",
              "    </tr>\n",
              "    <tr>\n",
              "      <th>9</th>\n",
              "      <td>https://www.thehindu.com/Technology/</td>\n",
              "      <td>Technology</td>\n",
              "      <td>[Technology]</td>\n",
              "      <td>[https://www.thehindu.com/Technology/]</td>\n",
              "      <td>Page not found News - The Hindu</td>\n",
              "    </tr>\n",
              "    <tr>\n",
              "      <th>10</th>\n",
              "      <td>https://www.thehindu.com/Sci-Tech/</td>\n",
              "      <td>Sci-Tech</td>\n",
              "      <td>[SCI-TECH, SCIENCE, TECHNOLOGY, HEALTH, AGRICU...</td>\n",
              "      <td>[https://www.thehindu.com/sci-tech/, https://w...</td>\n",
              "      <td>Science News, Nature, Technology, Gadgets - Th...</td>\n",
              "    </tr>\n",
              "    <tr>\n",
              "      <th>11</th>\n",
              "      <td>https://www.thehindu.com/Education/</td>\n",
              "      <td>Education</td>\n",
              "      <td>[EDUCATION, CAREERS, COLLEGES, SCHOOLS]</td>\n",
              "      <td>[https://www.thehindu.com/education/, https://...</td>\n",
              "      <td>Education News, Schools, Colleges, Higher Educ...</td>\n",
              "    </tr>\n",
              "  </tbody>\n",
              "</table>\n",
              "</div>"
            ],
            "text/plain": [
              "                                         url  ...                                               tags\n",
              "0         https://www.thehindu.com/Business/  ...  Business News, Finance News, Market News, Stoc...\n",
              "1      https://www.thehindu.com/Real-Estate/  ...                       Real Estate News - The Hindu\n",
              "2        https://www.thehindu.com/Elections/  ...  Assembly Elections 2020 latest news, updates, ...\n",
              "3            https://www.thehindu.com/Sport/  ...  Live Scores, Latest Sports News, Results, Cric...\n",
              "4    https://www.thehindu.com/Entertainment/  ...  Entertainment News, Cinema News, Movie Reviews...\n",
              "5          https://www.thehindu.com/Society/  ...  Society News, Religion, History, Culture, Monu...\n",
              "6            https://www.thehindu.com/Books/  ...  Book Reviews, Launches, Author Interviews, Exc...\n",
              "7         https://www.thehindu.com/Children/  ...                          Children News - The Hindu\n",
              "8   https://www.thehindu.com/Life-and-Style/  ...  Lifestyle News, Fashion News, Lifestyle And He...\n",
              "9       https://www.thehindu.com/Technology/  ...                    Page not found News - The Hindu\n",
              "10        https://www.thehindu.com/Sci-Tech/  ...  Science News, Nature, Technology, Gadgets - Th...\n",
              "11       https://www.thehindu.com/Education/  ...  Education News, Schools, Colleges, Higher Educ...\n",
              "\n",
              "[12 rows x 5 columns]"
            ]
          },
          "metadata": {
            "tags": []
          },
          "execution_count": 14
        }
      ]
    },
    {
      "cell_type": "code",
      "metadata": {
        "id": "gYj-LgWRSBYs"
      },
      "source": [
        "#storing new dataset in google drive\r\n",
        "df.to_csv('/content/drive/MyDrive/Datasets/News_Scrap/The_Hindu_urls.csv',index = False)"
      ],
      "execution_count": 15,
      "outputs": []
    },
    {
      "cell_type": "markdown",
      "metadata": {
        "id": "-DoYJhREreRc"
      },
      "source": [
        "# The Indian express"
      ]
    },
    {
      "cell_type": "code",
      "metadata": {
        "colab": {
          "base_uri": "https://localhost:8080/",
          "height": 35
        },
        "id": "ckVkA2-Ei59z",
        "outputId": "b0cb4600-5de8-4728-bc02-0acb1de9e8b4"
      },
      "source": [
        "base_url = 'https://indianexpress.com/'\r\n",
        "driver.get(base_url)\r\n",
        "driver.title "
      ],
      "execution_count": 16,
      "outputs": [
        {
          "output_type": "execute_result",
          "data": {
            "application/vnd.google.colaboratory.intrinsic+json": {
              "type": "string"
            },
            "text/plain": [
              "\"Latest News, India News, Breaking News, Today's News Headlines Online|The Indian Express\""
            ]
          },
          "metadata": {
            "tags": []
          },
          "execution_count": 16
        }
      ]
    },
    {
      "cell_type": "code",
      "metadata": {
        "id": "ZfSMwFKPi57b"
      },
      "source": [
        "#avoid overlay if any\r\n",
        "try:\r\n",
        "  driver.find_element_by_xpath('//*[@id=\"wrapper\"]/div[4]/div[1]').click()\r\n",
        "  driver.find_element_by_xpath('//*[@id=\"id_newsletter_subscription_popup\"]/div/div/img').click()\r\n",
        "except:\r\n",
        "  pass\r\n",
        "\r\n",
        "#click menu\r\n",
        "menu_icon = driver.find_element_by_class_name('toggle-menu')#'hamburger-menu')\r\n",
        "menu_icon.click()\r\n",
        "time.sleep(1)\r\n",
        "driver.execute_script(\"window.scrollTo(0, window.scrollY + 100);\")"
      ],
      "execution_count": 17,
      "outputs": []
    },
    {
      "cell_type": "code",
      "metadata": {
        "colab": {
          "base_uri": "https://localhost:8080/"
        },
        "id": "3x0K_P-wi526",
        "outputId": "484068a0-d430-4d3c-b33f-38edaba9cf26"
      },
      "source": [
        "the_indian_express_category = []\r\n",
        "\r\n",
        "for i in range(1,20):\r\n",
        "    try:\r\n",
        "        cat = driver.find_element_by_xpath(f'//*[@id=\"section-nav\"]/ul/li[{i}]/a')\r\n",
        "        the_indian_express_category.append(cat.text)\r\n",
        "        print(i,cat.text)\r\n",
        "    except:\r\n",
        "        pass"
      ],
      "execution_count": 18,
      "outputs": [
        {
          "output_type": "stream",
          "text": [
            "1 Home\n",
            "2 Photos\n",
            "3 Videos\n",
            "4 Audio\n",
            "6 Entertainment\n",
            "8 Sports\n",
            "9 Tech\n",
            "10 Lifestyle\n",
            "11 Trending\n",
            "12 Cities News\n",
            "13 Jobs\n",
            "14 Business\n",
            "15 Education\n"
          ],
          "name": "stdout"
        }
      ]
    },
    {
      "cell_type": "code",
      "metadata": {
        "id": "k1-brtwtdFT2"
      },
      "source": [
        "the_indian_express_category = the_indian_express_category[4:]"
      ],
      "execution_count": 19,
      "outputs": []
    },
    {
      "cell_type": "code",
      "metadata": {
        "id": "ujrHGPf-dLPR"
      },
      "source": [
        "the_indian_express_category.remove('Trending')\r\n",
        "the_indian_express_category.remove('Cities News')\r\n",
        "the_indian_express_category.append('parenting')"
      ],
      "execution_count": 20,
      "outputs": []
    },
    {
      "cell_type": "code",
      "metadata": {
        "colab": {
          "base_uri": "https://localhost:8080/"
        },
        "id": "YUVdF4b9dLMn",
        "outputId": "5b31fa02-50ef-4558-a00f-c3d3289bcabe"
      },
      "source": [
        "the_indian_express_category "
      ],
      "execution_count": 21,
      "outputs": [
        {
          "output_type": "execute_result",
          "data": {
            "text/plain": [
              "['Entertainment',\n",
              " 'Sports',\n",
              " 'Tech',\n",
              " 'Lifestyle',\n",
              " 'Jobs',\n",
              " 'Business',\n",
              " 'Education',\n",
              " 'parenting']"
            ]
          },
          "metadata": {
            "tags": []
          },
          "execution_count": 21
        }
      ]
    },
    {
      "cell_type": "code",
      "metadata": {
        "id": "hc2vo17_eO7K"
      },
      "source": [
        "categories = {\r\n",
        "    'url': [],\r\n",
        "    'category': [],\r\n",
        "    'sub_categories': [],\r\n",
        "    'sub_category_urls': [],\r\n",
        "    'tags':[]\r\n",
        "}"
      ],
      "execution_count": 22,
      "outputs": []
    },
    {
      "cell_type": "code",
      "metadata": {
        "colab": {
          "base_uri": "https://localhost:8080/"
        },
        "id": "aaHuS_dmd5g0",
        "outputId": "48e81314-ef52-4ec2-838e-f5f0ab666d66"
      },
      "source": [
        "for category in the_indian_express_category:\r\n",
        "  print(category)\r\n",
        "  categories['category'].append(category)                               #saving to dictionary\r\n",
        "\r\n",
        "  #Going to the category page\r\n",
        "  url = base_url+'section/'+category+'/'\r\n",
        "  categories['url'].append(url)                               #saving to dictionary\r\n",
        "  driver.get(url)\r\n",
        "  categories['tags'].append(driver.title)                               #saving to dictionary\r\n",
        "  \r\n",
        "\r\n",
        "  #fetching subcategories\r\n",
        "  subcat = []\r\n",
        "  subcaturls = []\r\n",
        "  try:\r\n",
        "    subcat_menu_div = driver.find_element_by_class_name('page-nav')               #menu div\r\n",
        "    a_elements = subcat_menu_div.find_elements_by_tag_name('a')                          #inside a to extract links\r\n",
        "     \r\n",
        "    #loop to extract links\r\n",
        "    for a in a_elements:\r\n",
        "      subcat.append(a.get_attribute(\"innerHTML\"))                         #getting text\r\n",
        "      link = a.get_attribute(\"href\")                #getting link\r\n",
        "      if base_url in link:                #blocking if any 3rd party url like businessline\r\n",
        "        subcaturls.append(link)\r\n",
        "\r\n",
        "  except:\r\n",
        "    pass\r\n",
        "  \r\n",
        "  #ensuring non empty\r\n",
        "  if len(subcat) == 0:\r\n",
        "    print('I am in')\r\n",
        "    subcat.append(category)\r\n",
        "    subcaturls.append(url)\r\n",
        "    print(subcat,subcaturls)\r\n",
        "\r\n",
        "  categories['sub_categories'].append(subcat)                               #saving to dictionary\r\n",
        "  categories['sub_category_urls'].append(subcaturls)                        #saving to dictionary\r\n",
        "\r\n"
      ],
      "execution_count": 23,
      "outputs": [
        {
          "output_type": "stream",
          "text": [
            "Entertainment\n",
            "Sports\n",
            "Tech\n",
            "I am in\n",
            "['Tech'] ['https://indianexpress.com/section/Tech/']\n",
            "Lifestyle\n",
            "Jobs\n",
            "I am in\n",
            "['Jobs'] ['https://indianexpress.com/section/Jobs/']\n",
            "Business\n",
            "Education\n",
            "parenting\n"
          ],
          "name": "stdout"
        }
      ]
    },
    {
      "cell_type": "code",
      "metadata": {
        "colab": {
          "base_uri": "https://localhost:8080/"
        },
        "id": "D4ZNWxm1d5eH",
        "outputId": "c9f2b3b3-3113-4a62-c525-3e27d67095ef"
      },
      "source": [
        "for key in categories.keys():\r\n",
        "  print(key,len(categories[key]))"
      ],
      "execution_count": 24,
      "outputs": [
        {
          "output_type": "stream",
          "text": [
            "url 8\n",
            "category 8\n",
            "sub_categories 8\n",
            "sub_category_urls 8\n",
            "tags 8\n"
          ],
          "name": "stdout"
        }
      ]
    },
    {
      "cell_type": "code",
      "metadata": {
        "colab": {
          "base_uri": "https://localhost:8080/"
        },
        "id": "xlvdSQ_BkLRK",
        "outputId": "e3881bef-e150-477e-a20e-103cbc283edb"
      },
      "source": [
        "categories['sub_categories']"
      ],
      "execution_count": 25,
      "outputs": [
        {
          "output_type": "execute_result",
          "data": {
            "text/plain": [
              "[['Entertainment',\n",
              "  'Bollywood',\n",
              "  'Hollywood',\n",
              "  'Television',\n",
              "  'Tamil',\n",
              "  'Telugu',\n",
              "  'Malayalam',\n",
              "  'Web series',\n",
              "  'Reviews'],\n",
              " ['Sports',\n",
              "  'ISL 2020-21',\n",
              "  'Cricket',\n",
              "  'Football',\n",
              "  'Tennis',\n",
              "  'WWE',\n",
              "  'PHOTOS',\n",
              "  'PODCAST'],\n",
              " ['Tech'],\n",
              " ['Living',\n",
              "  'Health',\n",
              "  'Food',\n",
              "  'Fashion',\n",
              "  'Books',\n",
              "  'Relationships',\n",
              "  'Travel',\n",
              "  'Fitness',\n",
              "  'Art &amp; Culture',\n",
              "  'Workplace'],\n",
              " ['Jobs'],\n",
              " ['Economy', 'Market', 'Banking &amp; Finance', 'Companies'],\n",
              " ['Education', 'Jobs', 'Students Voice', 'Study Abroad', 'Mock Test'],\n",
              " ['Parenting',\n",
              "  'Food',\n",
              "  'Health &amp; Fitness',\n",
              "  'Learning',\n",
              "  'Family',\n",
              "  'Audio',\n",
              "  'Videos',\n",
              "  'Gallery',\n",
              "  'Learning',\n",
              "  'Blogs',\n",
              "  'Things To Do']]"
            ]
          },
          "metadata": {
            "tags": []
          },
          "execution_count": 25
        }
      ]
    },
    {
      "cell_type": "code",
      "metadata": {
        "colab": {
          "base_uri": "https://localhost:8080/",
          "height": 433
        },
        "id": "NUX6W6msga1W",
        "outputId": "d9e0f817-d263-42ee-a9c8-fb19015e3778"
      },
      "source": [
        "df = pd.DataFrame(categories)\r\n",
        "df"
      ],
      "execution_count": 26,
      "outputs": [
        {
          "output_type": "execute_result",
          "data": {
            "text/html": [
              "<div>\n",
              "<style scoped>\n",
              "    .dataframe tbody tr th:only-of-type {\n",
              "        vertical-align: middle;\n",
              "    }\n",
              "\n",
              "    .dataframe tbody tr th {\n",
              "        vertical-align: top;\n",
              "    }\n",
              "\n",
              "    .dataframe thead th {\n",
              "        text-align: right;\n",
              "    }\n",
              "</style>\n",
              "<table border=\"1\" class=\"dataframe\">\n",
              "  <thead>\n",
              "    <tr style=\"text-align: right;\">\n",
              "      <th></th>\n",
              "      <th>url</th>\n",
              "      <th>category</th>\n",
              "      <th>sub_categories</th>\n",
              "      <th>sub_category_urls</th>\n",
              "      <th>tags</th>\n",
              "    </tr>\n",
              "  </thead>\n",
              "  <tbody>\n",
              "    <tr>\n",
              "      <th>0</th>\n",
              "      <td>https://indianexpress.com/section/Entertainment/</td>\n",
              "      <td>Entertainment</td>\n",
              "      <td>[Entertainment, Bollywood, Hollywood, Televisi...</td>\n",
              "      <td>[https://indianexpress.com/section/entertainme...</td>\n",
              "      <td>Entertainment News: Latest Bollywood &amp; Hollywo...</td>\n",
              "    </tr>\n",
              "    <tr>\n",
              "      <th>1</th>\n",
              "      <td>https://indianexpress.com/section/Sports/</td>\n",
              "      <td>Sports</td>\n",
              "      <td>[Sports, ISL 2020-21, Cricket, Football, Tenni...</td>\n",
              "      <td>[https://indianexpress.com/sports/, https://in...</td>\n",
              "      <td>Sports News, Latest Sports News Headlines, Cri...</td>\n",
              "    </tr>\n",
              "    <tr>\n",
              "      <th>2</th>\n",
              "      <td>https://indianexpress.com/section/Tech/</td>\n",
              "      <td>Tech</td>\n",
              "      <td>[Tech]</td>\n",
              "      <td>[https://indianexpress.com/section/Tech/]</td>\n",
              "      <td>Page not found | The Indian Express</td>\n",
              "    </tr>\n",
              "    <tr>\n",
              "      <th>3</th>\n",
              "      <td>https://indianexpress.com/section/Lifestyle/</td>\n",
              "      <td>Lifestyle</td>\n",
              "      <td>[Living, Health, Food, Fashion, Books, Relatio...</td>\n",
              "      <td>[https://indianexpress.com/section/lifestyle/l...</td>\n",
              "      <td>Lifestyle: Latest Lifestyle News, Fashion Tren...</td>\n",
              "    </tr>\n",
              "    <tr>\n",
              "      <th>4</th>\n",
              "      <td>https://indianexpress.com/section/Jobs/</td>\n",
              "      <td>Jobs</td>\n",
              "      <td>[Jobs]</td>\n",
              "      <td>[https://indianexpress.com/section/Jobs/]</td>\n",
              "      <td>Jobs News: Employment News, Govt Jobs Notifica...</td>\n",
              "    </tr>\n",
              "    <tr>\n",
              "      <th>5</th>\n",
              "      <td>https://indianexpress.com/section/Business/</td>\n",
              "      <td>Business</td>\n",
              "      <td>[Economy, Market, Banking &amp;amp; Finance, Compa...</td>\n",
              "      <td>[https://indianexpress.com/section/business/ec...</td>\n",
              "      <td>Business News: Latest Business News India, Mar...</td>\n",
              "    </tr>\n",
              "    <tr>\n",
              "      <th>6</th>\n",
              "      <td>https://indianexpress.com/section/Education/</td>\n",
              "      <td>Education</td>\n",
              "      <td>[Education, Jobs, Students Voice, Study Abroad...</td>\n",
              "      <td>[https://indianexpress.com/section/education/,...</td>\n",
              "      <td>Education News India: Latest Board Exam, Live ...</td>\n",
              "    </tr>\n",
              "    <tr>\n",
              "      <th>7</th>\n",
              "      <td>https://indianexpress.com/section/parenting/</td>\n",
              "      <td>parenting</td>\n",
              "      <td>[Parenting, Food, Health &amp;amp; Fitness, Learni...</td>\n",
              "      <td>[https://indianexpress.com/parenting/, https:/...</td>\n",
              "      <td>Parenting Tips, Parenting Advice, Good Parenti...</td>\n",
              "    </tr>\n",
              "  </tbody>\n",
              "</table>\n",
              "</div>"
            ],
            "text/plain": [
              "                                                url  ...                                               tags\n",
              "0  https://indianexpress.com/section/Entertainment/  ...  Entertainment News: Latest Bollywood & Hollywo...\n",
              "1         https://indianexpress.com/section/Sports/  ...  Sports News, Latest Sports News Headlines, Cri...\n",
              "2           https://indianexpress.com/section/Tech/  ...                Page not found | The Indian Express\n",
              "3      https://indianexpress.com/section/Lifestyle/  ...  Lifestyle: Latest Lifestyle News, Fashion Tren...\n",
              "4           https://indianexpress.com/section/Jobs/  ...  Jobs News: Employment News, Govt Jobs Notifica...\n",
              "5       https://indianexpress.com/section/Business/  ...  Business News: Latest Business News India, Mar...\n",
              "6      https://indianexpress.com/section/Education/  ...  Education News India: Latest Board Exam, Live ...\n",
              "7      https://indianexpress.com/section/parenting/  ...  Parenting Tips, Parenting Advice, Good Parenti...\n",
              "\n",
              "[8 rows x 5 columns]"
            ]
          },
          "metadata": {
            "tags": []
          },
          "execution_count": 26
        }
      ]
    },
    {
      "cell_type": "code",
      "metadata": {
        "id": "4gLqHwEdd5by"
      },
      "source": [
        "#storing new dataset in google drive\r\n",
        "df.to_csv('/content/drive/MyDrive/Datasets/News_Scrap/The_IndianExpress_urls.csv',index = False)"
      ],
      "execution_count": 27,
      "outputs": []
    },
    {
      "cell_type": "markdown",
      "metadata": {
        "id": "CamBgikZjsza"
      },
      "source": [
        "# Category URLs are succesfully scrapped. \r\n",
        "Now time to scrap the actual news. \r\n",
        "\r\n",
        "https://github.com/G0rav/Automatic_News_Segmentation"
      ]
    }
  ]
}
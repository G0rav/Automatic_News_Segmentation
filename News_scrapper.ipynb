{
  "nbformat": 4,
  "nbformat_minor": 0,
  "metadata": {
    "colab": {
      "name": "News_scrapper.ipynb",
      "provenance": [],
      "collapsed_sections": [],
      "authorship_tag": "ABX9TyMc5vEM0XrHq8kmRn3ietP1"
    },
    "kernelspec": {
      "name": "python3",
      "display_name": "Python 3"
    }
  },
  "cells": [
    {
      "cell_type": "markdown",
      "metadata": {
        "id": "uiNqe4BPYpTC"
      },
      "source": [
        "## import"
      ]
    },
    {
      "cell_type": "code",
      "metadata": {
        "id": "Xpsd-LOyJWpf",
        "colab": {
          "base_uri": "https://localhost:8080/"
        },
        "outputId": "d1ce401e-c0eb-485d-eb9d-a9089742bbe0"
      },
      "source": [
        "from google.colab import drive\n",
        "drive.mount('/content/drive')"
      ],
      "execution_count": 1,
      "outputs": [
        {
          "output_type": "stream",
          "text": [
            "Mounted at /content/drive\n"
          ],
          "name": "stdout"
        }
      ]
    },
    {
      "cell_type": "code",
      "metadata": {
        "id": "irVT3Z-emblM",
        "colab": {
          "base_uri": "https://localhost:8080/"
        },
        "outputId": "9b88b236-fa7b-4dbb-fc2c-997c68da6fd1"
      },
      "source": [
        "#install required Packages\n",
        "!pip install selenium\n",
        "!apt-get update \n",
        "!apt install chromium-chromedriver"
      ],
      "execution_count": 2,
      "outputs": [
        {
          "output_type": "stream",
          "text": [
            "Collecting selenium\n",
            "\u001b[?25l  Downloading https://files.pythonhosted.org/packages/80/d6/4294f0b4bce4de0abf13e17190289f9d0613b0a44e5dd6a7f5ca98459853/selenium-3.141.0-py2.py3-none-any.whl (904kB)\n",
            "\r\u001b[K     |▍                               | 10kB 15.8MB/s eta 0:00:01\r\u001b[K     |▊                               | 20kB 20.9MB/s eta 0:00:01\r\u001b[K     |█                               | 30kB 11.4MB/s eta 0:00:01\r\u001b[K     |█▌                              | 40kB 9.4MB/s eta 0:00:01\r\u001b[K     |█▉                              | 51kB 5.4MB/s eta 0:00:01\r\u001b[K     |██▏                             | 61kB 5.7MB/s eta 0:00:01\r\u001b[K     |██▌                             | 71kB 5.9MB/s eta 0:00:01\r\u001b[K     |███                             | 81kB 6.3MB/s eta 0:00:01\r\u001b[K     |███▎                            | 92kB 6.7MB/s eta 0:00:01\r\u001b[K     |███▋                            | 102kB 6.9MB/s eta 0:00:01\r\u001b[K     |████                            | 112kB 6.9MB/s eta 0:00:01\r\u001b[K     |████▍                           | 122kB 6.9MB/s eta 0:00:01\r\u001b[K     |████▊                           | 133kB 6.9MB/s eta 0:00:01\r\u001b[K     |█████                           | 143kB 6.9MB/s eta 0:00:01\r\u001b[K     |█████▍                          | 153kB 6.9MB/s eta 0:00:01\r\u001b[K     |█████▉                          | 163kB 6.9MB/s eta 0:00:01\r\u001b[K     |██████▏                         | 174kB 6.9MB/s eta 0:00:01\r\u001b[K     |██████▌                         | 184kB 6.9MB/s eta 0:00:01\r\u001b[K     |██████▉                         | 194kB 6.9MB/s eta 0:00:01\r\u001b[K     |███████▎                        | 204kB 6.9MB/s eta 0:00:01\r\u001b[K     |███████▋                        | 215kB 6.9MB/s eta 0:00:01\r\u001b[K     |████████                        | 225kB 6.9MB/s eta 0:00:01\r\u001b[K     |████████▎                       | 235kB 6.9MB/s eta 0:00:01\r\u001b[K     |████████▊                       | 245kB 6.9MB/s eta 0:00:01\r\u001b[K     |█████████                       | 256kB 6.9MB/s eta 0:00:01\r\u001b[K     |█████████▍                      | 266kB 6.9MB/s eta 0:00:01\r\u001b[K     |█████████▉                      | 276kB 6.9MB/s eta 0:00:01\r\u001b[K     |██████████▏                     | 286kB 6.9MB/s eta 0:00:01\r\u001b[K     |██████████▌                     | 296kB 6.9MB/s eta 0:00:01\r\u001b[K     |██████████▉                     | 307kB 6.9MB/s eta 0:00:01\r\u001b[K     |███████████▎                    | 317kB 6.9MB/s eta 0:00:01\r\u001b[K     |███████████▋                    | 327kB 6.9MB/s eta 0:00:01\r\u001b[K     |████████████                    | 337kB 6.9MB/s eta 0:00:01\r\u001b[K     |████████████▎                   | 348kB 6.9MB/s eta 0:00:01\r\u001b[K     |████████████▊                   | 358kB 6.9MB/s eta 0:00:01\r\u001b[K     |█████████████                   | 368kB 6.9MB/s eta 0:00:01\r\u001b[K     |█████████████▍                  | 378kB 6.9MB/s eta 0:00:01\r\u001b[K     |█████████████▊                  | 389kB 6.9MB/s eta 0:00:01\r\u001b[K     |██████████████▏                 | 399kB 6.9MB/s eta 0:00:01\r\u001b[K     |██████████████▌                 | 409kB 6.9MB/s eta 0:00:01\r\u001b[K     |██████████████▉                 | 419kB 6.9MB/s eta 0:00:01\r\u001b[K     |███████████████▏                | 430kB 6.9MB/s eta 0:00:01\r\u001b[K     |███████████████▋                | 440kB 6.9MB/s eta 0:00:01\r\u001b[K     |████████████████                | 450kB 6.9MB/s eta 0:00:01\r\u001b[K     |████████████████▎               | 460kB 6.9MB/s eta 0:00:01\r\u001b[K     |████████████████▋               | 471kB 6.9MB/s eta 0:00:01\r\u001b[K     |█████████████████               | 481kB 6.9MB/s eta 0:00:01\r\u001b[K     |█████████████████▍              | 491kB 6.9MB/s eta 0:00:01\r\u001b[K     |█████████████████▊              | 501kB 6.9MB/s eta 0:00:01\r\u001b[K     |██████████████████▏             | 512kB 6.9MB/s eta 0:00:01\r\u001b[K     |██████████████████▌             | 522kB 6.9MB/s eta 0:00:01\r\u001b[K     |██████████████████▉             | 532kB 6.9MB/s eta 0:00:01\r\u001b[K     |███████████████████▏            | 542kB 6.9MB/s eta 0:00:01\r\u001b[K     |███████████████████▋            | 552kB 6.9MB/s eta 0:00:01\r\u001b[K     |████████████████████            | 563kB 6.9MB/s eta 0:00:01\r\u001b[K     |████████████████████▎           | 573kB 6.9MB/s eta 0:00:01\r\u001b[K     |████████████████████▋           | 583kB 6.9MB/s eta 0:00:01\r\u001b[K     |█████████████████████           | 593kB 6.9MB/s eta 0:00:01\r\u001b[K     |█████████████████████▍          | 604kB 6.9MB/s eta 0:00:01\r\u001b[K     |█████████████████████▊          | 614kB 6.9MB/s eta 0:00:01\r\u001b[K     |██████████████████████          | 624kB 6.9MB/s eta 0:00:01\r\u001b[K     |██████████████████████▌         | 634kB 6.9MB/s eta 0:00:01\r\u001b[K     |██████████████████████▉         | 645kB 6.9MB/s eta 0:00:01\r\u001b[K     |███████████████████████▏        | 655kB 6.9MB/s eta 0:00:01\r\u001b[K     |███████████████████████▌        | 665kB 6.9MB/s eta 0:00:01\r\u001b[K     |████████████████████████        | 675kB 6.9MB/s eta 0:00:01\r\u001b[K     |████████████████████████▎       | 686kB 6.9MB/s eta 0:00:01\r\u001b[K     |████████████████████████▋       | 696kB 6.9MB/s eta 0:00:01\r\u001b[K     |█████████████████████████       | 706kB 6.9MB/s eta 0:00:01\r\u001b[K     |█████████████████████████▍      | 716kB 6.9MB/s eta 0:00:01\r\u001b[K     |█████████████████████████▊      | 727kB 6.9MB/s eta 0:00:01\r\u001b[K     |██████████████████████████      | 737kB 6.9MB/s eta 0:00:01\r\u001b[K     |██████████████████████████▍     | 747kB 6.9MB/s eta 0:00:01\r\u001b[K     |██████████████████████████▉     | 757kB 6.9MB/s eta 0:00:01\r\u001b[K     |███████████████████████████▏    | 768kB 6.9MB/s eta 0:00:01\r\u001b[K     |███████████████████████████▌    | 778kB 6.9MB/s eta 0:00:01\r\u001b[K     |████████████████████████████    | 788kB 6.9MB/s eta 0:00:01\r\u001b[K     |████████████████████████████▎   | 798kB 6.9MB/s eta 0:00:01\r\u001b[K     |████████████████████████████▋   | 808kB 6.9MB/s eta 0:00:01\r\u001b[K     |█████████████████████████████   | 819kB 6.9MB/s eta 0:00:01\r\u001b[K     |█████████████████████████████▍  | 829kB 6.9MB/s eta 0:00:01\r\u001b[K     |█████████████████████████████▊  | 839kB 6.9MB/s eta 0:00:01\r\u001b[K     |██████████████████████████████  | 849kB 6.9MB/s eta 0:00:01\r\u001b[K     |██████████████████████████████▍ | 860kB 6.9MB/s eta 0:00:01\r\u001b[K     |██████████████████████████████▉ | 870kB 6.9MB/s eta 0:00:01\r\u001b[K     |███████████████████████████████▏| 880kB 6.9MB/s eta 0:00:01\r\u001b[K     |███████████████████████████████▌| 890kB 6.9MB/s eta 0:00:01\r\u001b[K     |███████████████████████████████▉| 901kB 6.9MB/s eta 0:00:01\r\u001b[K     |████████████████████████████████| 911kB 6.9MB/s \n",
            "\u001b[?25hRequirement already satisfied: urllib3 in /usr/local/lib/python3.7/dist-packages (from selenium) (1.24.3)\n",
            "Installing collected packages: selenium\n",
            "Successfully installed selenium-3.141.0\n",
            "Get:1 http://security.ubuntu.com/ubuntu bionic-security InRelease [88.7 kB]\n",
            "Get:2 https://cloud.r-project.org/bin/linux/ubuntu bionic-cran40/ InRelease [3,626 B]\n",
            "Ign:3 https://developer.download.nvidia.com/compute/cuda/repos/ubuntu1804/x86_64  InRelease\n",
            "Ign:4 https://developer.download.nvidia.com/compute/machine-learning/repos/ubuntu1804/x86_64  InRelease\n",
            "Hit:5 https://developer.download.nvidia.com/compute/cuda/repos/ubuntu1804/x86_64  Release\n",
            "Get:6 http://ppa.launchpad.net/c2d4u.team/c2d4u4.0+/ubuntu bionic InRelease [15.9 kB]\n",
            "Hit:7 https://developer.download.nvidia.com/compute/machine-learning/repos/ubuntu1804/x86_64  Release\n",
            "Hit:8 http://archive.ubuntu.com/ubuntu bionic InRelease\n",
            "Get:9 http://archive.ubuntu.com/ubuntu bionic-updates InRelease [88.7 kB]\n",
            "Hit:10 http://ppa.launchpad.net/cran/libgit2/ubuntu bionic InRelease\n",
            "Get:11 http://security.ubuntu.com/ubuntu bionic-security/universe amd64 Packages [1,392 kB]\n",
            "Hit:12 http://ppa.launchpad.net/deadsnakes/ppa/ubuntu bionic InRelease\n",
            "Get:13 http://archive.ubuntu.com/ubuntu bionic-backports InRelease [74.6 kB]\n",
            "Get:14 http://security.ubuntu.com/ubuntu bionic-security/main amd64 Packages [1,964 kB]\n",
            "Hit:15 http://ppa.launchpad.net/graphics-drivers/ppa/ubuntu bionic InRelease\n",
            "Get:18 http://ppa.launchpad.net/c2d4u.team/c2d4u4.0+/ubuntu bionic/main Sources [1,738 kB]\n",
            "Get:19 http://archive.ubuntu.com/ubuntu bionic-updates/main amd64 Packages [2,394 kB]\n",
            "Get:20 http://archive.ubuntu.com/ubuntu bionic-updates/universe amd64 Packages [2,163 kB]\n",
            "Get:21 http://ppa.launchpad.net/c2d4u.team/c2d4u4.0+/ubuntu bionic/main amd64 Packages [889 kB]\n",
            "Fetched 10.8 MB in 3s (3,187 kB/s)\n",
            "Reading package lists... Done\n",
            "Reading package lists... Done\n",
            "Building dependency tree       \n",
            "Reading state information... Done\n",
            "The following additional packages will be installed:\n",
            "  chromium-browser chromium-browser-l10n chromium-codecs-ffmpeg-extra\n",
            "Suggested packages:\n",
            "  webaccounts-chromium-extension unity-chromium-extension adobe-flashplugin\n",
            "The following NEW packages will be installed:\n",
            "  chromium-browser chromium-browser-l10n chromium-chromedriver\n",
            "  chromium-codecs-ffmpeg-extra\n",
            "0 upgraded, 4 newly installed, 0 to remove and 32 not upgraded.\n",
            "Need to get 81.0 MB of archives.\n",
            "After this operation, 273 MB of additional disk space will be used.\n",
            "Get:1 http://archive.ubuntu.com/ubuntu bionic-updates/universe amd64 chromium-codecs-ffmpeg-extra amd64 87.0.4280.66-0ubuntu0.18.04.1 [1,122 kB]\n",
            "Get:2 http://archive.ubuntu.com/ubuntu bionic-updates/universe amd64 chromium-browser amd64 87.0.4280.66-0ubuntu0.18.04.1 [71.7 MB]\n",
            "Get:3 http://archive.ubuntu.com/ubuntu bionic-updates/universe amd64 chromium-browser-l10n all 87.0.4280.66-0ubuntu0.18.04.1 [3,716 kB]\n",
            "Get:4 http://archive.ubuntu.com/ubuntu bionic-updates/universe amd64 chromium-chromedriver amd64 87.0.4280.66-0ubuntu0.18.04.1 [4,488 kB]\n",
            "Fetched 81.0 MB in 4s (21.7 MB/s)\n",
            "Selecting previously unselected package chromium-codecs-ffmpeg-extra.\n",
            "(Reading database ... 149406 files and directories currently installed.)\n",
            "Preparing to unpack .../chromium-codecs-ffmpeg-extra_87.0.4280.66-0ubuntu0.18.04.1_amd64.deb ...\n",
            "Unpacking chromium-codecs-ffmpeg-extra (87.0.4280.66-0ubuntu0.18.04.1) ...\n",
            "Selecting previously unselected package chromium-browser.\n",
            "Preparing to unpack .../chromium-browser_87.0.4280.66-0ubuntu0.18.04.1_amd64.deb ...\n",
            "Unpacking chromium-browser (87.0.4280.66-0ubuntu0.18.04.1) ...\n",
            "Selecting previously unselected package chromium-browser-l10n.\n",
            "Preparing to unpack .../chromium-browser-l10n_87.0.4280.66-0ubuntu0.18.04.1_all.deb ...\n",
            "Unpacking chromium-browser-l10n (87.0.4280.66-0ubuntu0.18.04.1) ...\n",
            "Selecting previously unselected package chromium-chromedriver.\n",
            "Preparing to unpack .../chromium-chromedriver_87.0.4280.66-0ubuntu0.18.04.1_amd64.deb ...\n",
            "Unpacking chromium-chromedriver (87.0.4280.66-0ubuntu0.18.04.1) ...\n",
            "Setting up chromium-codecs-ffmpeg-extra (87.0.4280.66-0ubuntu0.18.04.1) ...\n",
            "Setting up chromium-browser (87.0.4280.66-0ubuntu0.18.04.1) ...\n",
            "update-alternatives: using /usr/bin/chromium-browser to provide /usr/bin/x-www-browser (x-www-browser) in auto mode\n",
            "update-alternatives: using /usr/bin/chromium-browser to provide /usr/bin/gnome-www-browser (gnome-www-browser) in auto mode\n",
            "Setting up chromium-chromedriver (87.0.4280.66-0ubuntu0.18.04.1) ...\n",
            "Setting up chromium-browser-l10n (87.0.4280.66-0ubuntu0.18.04.1) ...\n",
            "Processing triggers for hicolor-icon-theme (0.17-2) ...\n",
            "Processing triggers for mime-support (3.60ubuntu1) ...\n",
            "Processing triggers for man-db (2.8.3-2ubuntu0.1) ...\n"
          ],
          "name": "stdout"
        }
      ]
    },
    {
      "cell_type": "code",
      "metadata": {
        "id": "q1e7lmbZoJYm",
        "colab": {
          "base_uri": "https://localhost:8080/"
        },
        "outputId": "27d0810a-2bf6-4a09-e54d-73b4cb0eab45"
      },
      "source": [
        "from selenium import webdriver\n",
        "chrome_options = webdriver.ChromeOptions()\n",
        "chrome_options.add_argument('--headless')\n",
        "chrome_options.add_argument('--no-sandbox')\n",
        "chrome_options.add_argument('--disable-dev-shm-usage')\n",
        "chrome_options.add_argument('incognito')\n",
        " \n",
        "driver = webdriver.Chrome('chromedriver',chrome_options=chrome_options)"
      ],
      "execution_count": 3,
      "outputs": [
        {
          "output_type": "stream",
          "text": [
            "/usr/local/lib/python3.7/dist-packages/ipykernel_launcher.py:8: DeprecationWarning: use options instead of chrome_options\n",
            "  \n"
          ],
          "name": "stderr"
        }
      ]
    },
    {
      "cell_type": "code",
      "metadata": {
        "id": "vY1OliexmLJZ",
        "cellView": "code"
      },
      "source": [
        "import time\n",
        "from datetime import datetime\n",
        "import pandas as pd"
      ],
      "execution_count": 4,
      "outputs": []
    },
    {
      "cell_type": "code",
      "metadata": {
        "id": "OFwd7VlYi3nL"
      },
      "source": [
        ""
      ],
      "execution_count": null,
      "outputs": []
    },
    {
      "cell_type": "markdown",
      "metadata": {
        "id": "02Vji3Hei39r"
      },
      "source": [
        "## The Hindu"
      ]
    },
    {
      "cell_type": "code",
      "metadata": {
        "id": "QIU9b568e_AY",
        "colab": {
          "base_uri": "https://localhost:8080/",
          "height": 35
        },
        "outputId": "2e484d3d-5604-4bef-8eca-17c2b6e5e68c"
      },
      "source": [
        "driver.get('https://www.thehindu.com/')\n",
        "driver.title"
      ],
      "execution_count": 19,
      "outputs": [
        {
          "output_type": "execute_result",
          "data": {
            "application/vnd.google.colaboratory.intrinsic+json": {
              "type": "string"
            },
            "text/plain": [
              "'The Hindu: Breaking News, India News, Sports News and Live Updates'"
            ]
          },
          "metadata": {
            "tags": []
          },
          "execution_count": 19
        }
      ]
    },
    {
      "cell_type": "code",
      "metadata": {
        "id": "fVlYWiG6i6KJ"
      },
      "source": [
        "menu_icon = driver.find_element_by_class_name('menu-icon')\r\n",
        "menu_icon.click()\r\n",
        "time.sleep(1)\r\n",
        "driver.execute_script(\"window.scrollTo(0, window.scrollY + 100);\")"
      ],
      "execution_count": 20,
      "outputs": []
    },
    {
      "cell_type": "code",
      "metadata": {
        "colab": {
          "base_uri": "https://localhost:8080/"
        },
        "id": "8kxlvPVLi6E6",
        "outputId": "695ea031-9300-4e7a-efc8-5669dc0a9a82"
      },
      "source": [
        "the_hindu_category = []\r\n",
        "for i in range(1,7):\r\n",
        "  for j in range(1,15):\r\n",
        "    try:\r\n",
        "      cat = driver.find_element_by_xpath(f'//*[@id=\"popup-menu\"]/div[2]/div[1]/ul[{i}]/li[{j}]/a')\r\n",
        "      the_hindu_category.append(cat.text)\r\n",
        "      print(i,j,cat.text)\r\n",
        "    except:\r\n",
        "      pass"
      ],
      "execution_count": 24,
      "outputs": [
        {
          "output_type": "stream",
          "text": [
            "1 1 Subscription\n",
            "1 2 Latest News\n",
            "1 3 Today's Paper\n",
            "1 4 ePaper\n",
            "1 5 Housing\n",
            "1 6 Coupons\n",
            "1 7 News\n",
            "1 8 Coronavirus\n",
            "1 9 States\n",
            "1 10 Business\n",
            "1 11 Real Estate\n",
            "2 1 Crossword+ \"Free Games\"\n",
            "2 2 Cities\n",
            "2 3 Elections\n",
            "3 1 Opinion\n",
            "3 2 Sport\n",
            "4 1 Entertainment\n",
            "4 2 Society\n",
            "4 3 Books\n",
            "4 4 Children\n",
            "5 1 Life & Style\n",
            "5 2 Technology\n",
            "5 3 Sci-Tech\n",
            "6 1 Education\n",
            "6 2 Multimedia\n",
            "6 3 Data\n",
            "6 4 Specials\n",
            "6 5 Resources\n",
            "6 6 Tags\n",
            "6 7 thREAD\n",
            "6 8 Theatre - Fest\n",
            "6 9 November Fest\n",
            "6 10 Lit for Life\n",
            "6 11 Tamil Nadu Smiling\n",
            "6 12 Newsletter\n"
          ],
          "name": "stdout"
        }
      ]
    },
    {
      "cell_type": "code",
      "metadata": {
        "id": "ZdXA38aq0uYt"
      },
      "source": [
        "#https://www.thehindu.com/entertainment/"
      ],
      "execution_count": null,
      "outputs": []
    },
    {
      "cell_type": "code",
      "metadata": {
        "id": "7wuLh20wi6AN"
      },
      "source": [
        "#category page sub category links\r\n",
        "/html/body/div[2]/header/div/div/div/nav[3]/div[1]/nav/ul/li[1]/a\r\n",
        "/html/body/div[2]/header/div/div/div/nav[3]/div[1]/nav/ul/li[2]/a\r\n",
        "\r\n",
        "/html/body/div[2]/header/div/div/div/nav[3]/div[1]/nav/ul/li[2]/a"
      ],
      "execution_count": null,
      "outputs": []
    },
    {
      "cell_type": "markdown",
      "metadata": {
        "id": "-DoYJhREreRc"
      },
      "source": [
        "## The Indian express"
      ]
    },
    {
      "cell_type": "code",
      "metadata": {
        "colab": {
          "base_uri": "https://localhost:8080/",
          "height": 35
        },
        "id": "ckVkA2-Ei59z",
        "outputId": "826d3307-871b-409f-c345-f6cf4005cf18"
      },
      "source": [
        "driver.get('https://indianexpress.com/')\r\n",
        "driver.title"
      ],
      "execution_count": 32,
      "outputs": [
        {
          "output_type": "execute_result",
          "data": {
            "application/vnd.google.colaboratory.intrinsic+json": {
              "type": "string"
            },
            "text/plain": [
              "\"Latest News, India News, Breaking News, Today's News Headlines Online|The Indian Express\""
            ]
          },
          "metadata": {
            "tags": []
          },
          "execution_count": 32
        }
      ]
    },
    {
      "cell_type": "code",
      "metadata": {
        "id": "ZfSMwFKPi57b"
      },
      "source": [
        "#avoid overlay if any\r\n",
        "if driver.find_element_by_xpath('//*[@id=\"wrapper\"]/div[4]/div[1]'):\r\n",
        "    driver.find_element_by_xpath('//*[@id=\"wrapper\"]/div[4]/div[1]').click()\r\n",
        "\r\n",
        "if driver.find_element_by_xpath('//*[@id=\"id_newsletter_subscription_popup\"]/div/div/img'):\r\n",
        "    driver.find_element_by_xpath('//*[@id=\"id_newsletter_subscription_popup\"]/div/div/img').click()\r\n",
        "\r\n",
        "#click menu\r\n",
        "menu_icon = driver.find_element_by_class_name('toggle-menu')#'hamburger-menu')\r\n",
        "menu_icon.click()\r\n",
        "time.sleep(1)\r\n",
        "driver.execute_script(\"window.scrollTo(0, window.scrollY + 100);\")"
      ],
      "execution_count": 33,
      "outputs": []
    },
    {
      "cell_type": "code",
      "metadata": {
        "id": "jHkkkK2ti55P"
      },
      "source": [
        "'''\r\n",
        "//*[@id=\"section-nav\"]/ul/li[8]/a\r\n",
        "\r\n",
        "//*[@id=\"section-nav\"]/ul/li[9]/a\r\n",
        "\r\n",
        "//*[@id=\"section-nav\"]/ul/li[15]/a\r\n",
        "'''"
      ],
      "execution_count": null,
      "outputs": []
    },
    {
      "cell_type": "code",
      "metadata": {
        "colab": {
          "base_uri": "https://localhost:8080/"
        },
        "id": "3x0K_P-wi526",
        "outputId": "f3217d87-36d6-4f18-b141-415bf7ea3e35"
      },
      "source": [
        "the_indian_express_category = []\r\n",
        "\r\n",
        "for i in range(1,20):\r\n",
        "    try:\r\n",
        "        cat = driver.find_element_by_xpath(f'//*[@id=\"section-nav\"]/ul/li[{i}]/a')\r\n",
        "        the_indian_express_category.append(cat.text)\r\n",
        "        print(i,cat.text)\r\n",
        "    except:\r\n",
        "        pass"
      ],
      "execution_count": 35,
      "outputs": [
        {
          "output_type": "stream",
          "text": [
            "1 Home\n",
            "2 Photos\n",
            "3 Videos\n",
            "4 Audio\n",
            "6 Entertainment\n",
            "8 Sports\n",
            "9 Tech\n",
            "10 Lifestyle\n",
            "11 Trending\n",
            "12 Cities News\n",
            "13 Jobs\n",
            "14 Business\n",
            "15 Education\n"
          ],
          "name": "stdout"
        }
      ]
    },
    {
      "cell_type": "code",
      "metadata": {
        "id": "WAcN_JfG0IaS"
      },
      "source": [
        "# https://indianexpress.com/section/cities/\r\n",
        "\r\n",
        "# https://indianexpress.com/parenting/"
      ],
      "execution_count": null,
      "outputs": []
    },
    {
      "cell_type": "code",
      "metadata": {
        "id": "Angh_EIy0Ich"
      },
      "source": [
        "'''\r\n",
        "//*[@id=\"section\"]/div/div[2]/div[1]/div[2]/ul/li[2]/a\r\n",
        "\r\n",
        "//*[@id=\"section\"]/div/div[2]/div[1]/div[2]/ul/li[3]/a\r\n",
        "'''"
      ],
      "execution_count": null,
      "outputs": []
    },
    {
      "cell_type": "markdown",
      "metadata": {
        "id": "Yo1WsF7F27Nl"
      },
      "source": [
        "## Section"
      ]
    }
  ]
}
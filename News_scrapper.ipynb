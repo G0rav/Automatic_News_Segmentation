{
  "nbformat": 4,
  "nbformat_minor": 0,
  "metadata": {
    "colab": {
      "name": "News_scrapper.ipynb",
      "provenance": [],
      "collapsed_sections": [],
      "authorship_tag": "ABX9TyOzhSRWqW2KgSo3mzhIju8H"
    },
    "kernelspec": {
      "name": "python3",
      "display_name": "Python 3"
    }
  },
  "cells": [
    {
      "cell_type": "markdown",
      "metadata": {
        "id": "uiNqe4BPYpTC"
      },
      "source": [
        "## import"
      ]
    },
    {
      "cell_type": "code",
      "metadata": {
        "id": "Xpsd-LOyJWpf",
        "colab": {
          "base_uri": "https://localhost:8080/"
        },
        "outputId": "70679a47-b047-4710-ff9e-b70279036def"
      },
      "source": [
        "from google.colab import drive\n",
        "drive.mount('/content/drive')"
      ],
      "execution_count": 4,
      "outputs": [
        {
          "output_type": "stream",
          "text": [
            "Mounted at /content/drive\n"
          ],
          "name": "stdout"
        }
      ]
    },
    {
      "cell_type": "code",
      "metadata": {
        "id": "irVT3Z-emblM",
        "colab": {
          "base_uri": "https://localhost:8080/"
        },
        "outputId": "1ab8cdb1-75dc-4105-cb46-cdcf1394aa00"
      },
      "source": [
        "#install required Packages\n",
        "!pip install selenium\n",
        "!apt-get update \n",
        "!apt install chromium-chromedriver"
      ],
      "execution_count": 5,
      "outputs": [
        {
          "output_type": "stream",
          "text": [
            "Collecting selenium\n",
            "\u001b[?25l  Downloading https://files.pythonhosted.org/packages/80/d6/4294f0b4bce4de0abf13e17190289f9d0613b0a44e5dd6a7f5ca98459853/selenium-3.141.0-py2.py3-none-any.whl (904kB)\n",
            "\r\u001b[K     |▍                               | 10kB 12.4MB/s eta 0:00:01\r\u001b[K     |▊                               | 20kB 13.6MB/s eta 0:00:01\r\u001b[K     |█                               | 30kB 9.5MB/s eta 0:00:01\r\u001b[K     |█▌                              | 40kB 8.6MB/s eta 0:00:01\r\u001b[K     |█▉                              | 51kB 5.2MB/s eta 0:00:01\r\u001b[K     |██▏                             | 61kB 5.8MB/s eta 0:00:01\r\u001b[K     |██▌                             | 71kB 5.8MB/s eta 0:00:01\r\u001b[K     |███                             | 81kB 6.3MB/s eta 0:00:01\r\u001b[K     |███▎                            | 92kB 5.9MB/s eta 0:00:01\r\u001b[K     |███▋                            | 102kB 6.5MB/s eta 0:00:01\r\u001b[K     |████                            | 112kB 6.5MB/s eta 0:00:01\r\u001b[K     |████▍                           | 122kB 6.5MB/s eta 0:00:01\r\u001b[K     |████▊                           | 133kB 6.5MB/s eta 0:00:01\r\u001b[K     |█████                           | 143kB 6.5MB/s eta 0:00:01\r\u001b[K     |█████▍                          | 153kB 6.5MB/s eta 0:00:01\r\u001b[K     |█████▉                          | 163kB 6.5MB/s eta 0:00:01\r\u001b[K     |██████▏                         | 174kB 6.5MB/s eta 0:00:01\r\u001b[K     |██████▌                         | 184kB 6.5MB/s eta 0:00:01\r\u001b[K     |██████▉                         | 194kB 6.5MB/s eta 0:00:01\r\u001b[K     |███████▎                        | 204kB 6.5MB/s eta 0:00:01\r\u001b[K     |███████▋                        | 215kB 6.5MB/s eta 0:00:01\r\u001b[K     |████████                        | 225kB 6.5MB/s eta 0:00:01\r\u001b[K     |████████▎                       | 235kB 6.5MB/s eta 0:00:01\r\u001b[K     |████████▊                       | 245kB 6.5MB/s eta 0:00:01\r\u001b[K     |█████████                       | 256kB 6.5MB/s eta 0:00:01\r\u001b[K     |█████████▍                      | 266kB 6.5MB/s eta 0:00:01\r\u001b[K     |█████████▉                      | 276kB 6.5MB/s eta 0:00:01\r\u001b[K     |██████████▏                     | 286kB 6.5MB/s eta 0:00:01\r\u001b[K     |██████████▌                     | 296kB 6.5MB/s eta 0:00:01\r\u001b[K     |██████████▉                     | 307kB 6.5MB/s eta 0:00:01\r\u001b[K     |███████████▎                    | 317kB 6.5MB/s eta 0:00:01\r\u001b[K     |███████████▋                    | 327kB 6.5MB/s eta 0:00:01\r\u001b[K     |████████████                    | 337kB 6.5MB/s eta 0:00:01\r\u001b[K     |████████████▎                   | 348kB 6.5MB/s eta 0:00:01\r\u001b[K     |████████████▊                   | 358kB 6.5MB/s eta 0:00:01\r\u001b[K     |█████████████                   | 368kB 6.5MB/s eta 0:00:01\r\u001b[K     |█████████████▍                  | 378kB 6.5MB/s eta 0:00:01\r\u001b[K     |█████████████▊                  | 389kB 6.5MB/s eta 0:00:01\r\u001b[K     |██████████████▏                 | 399kB 6.5MB/s eta 0:00:01\r\u001b[K     |██████████████▌                 | 409kB 6.5MB/s eta 0:00:01\r\u001b[K     |██████████████▉                 | 419kB 6.5MB/s eta 0:00:01\r\u001b[K     |███████████████▏                | 430kB 6.5MB/s eta 0:00:01\r\u001b[K     |███████████████▋                | 440kB 6.5MB/s eta 0:00:01\r\u001b[K     |████████████████                | 450kB 6.5MB/s eta 0:00:01\r\u001b[K     |████████████████▎               | 460kB 6.5MB/s eta 0:00:01\r\u001b[K     |████████████████▋               | 471kB 6.5MB/s eta 0:00:01\r\u001b[K     |█████████████████               | 481kB 6.5MB/s eta 0:00:01\r\u001b[K     |█████████████████▍              | 491kB 6.5MB/s eta 0:00:01\r\u001b[K     |█████████████████▊              | 501kB 6.5MB/s eta 0:00:01\r\u001b[K     |██████████████████▏             | 512kB 6.5MB/s eta 0:00:01\r\u001b[K     |██████████████████▌             | 522kB 6.5MB/s eta 0:00:01\r\u001b[K     |██████████████████▉             | 532kB 6.5MB/s eta 0:00:01\r\u001b[K     |███████████████████▏            | 542kB 6.5MB/s eta 0:00:01\r\u001b[K     |███████████████████▋            | 552kB 6.5MB/s eta 0:00:01\r\u001b[K     |████████████████████            | 563kB 6.5MB/s eta 0:00:01\r\u001b[K     |████████████████████▎           | 573kB 6.5MB/s eta 0:00:01\r\u001b[K     |████████████████████▋           | 583kB 6.5MB/s eta 0:00:01\r\u001b[K     |█████████████████████           | 593kB 6.5MB/s eta 0:00:01\r\u001b[K     |█████████████████████▍          | 604kB 6.5MB/s eta 0:00:01\r\u001b[K     |█████████████████████▊          | 614kB 6.5MB/s eta 0:00:01\r\u001b[K     |██████████████████████          | 624kB 6.5MB/s eta 0:00:01\r\u001b[K     |██████████████████████▌         | 634kB 6.5MB/s eta 0:00:01\r\u001b[K     |██████████████████████▉         | 645kB 6.5MB/s eta 0:00:01\r\u001b[K     |███████████████████████▏        | 655kB 6.5MB/s eta 0:00:01\r\u001b[K     |███████████████████████▌        | 665kB 6.5MB/s eta 0:00:01\r\u001b[K     |████████████████████████        | 675kB 6.5MB/s eta 0:00:01\r\u001b[K     |████████████████████████▎       | 686kB 6.5MB/s eta 0:00:01\r\u001b[K     |████████████████████████▋       | 696kB 6.5MB/s eta 0:00:01\r\u001b[K     |█████████████████████████       | 706kB 6.5MB/s eta 0:00:01\r\u001b[K     |█████████████████████████▍      | 716kB 6.5MB/s eta 0:00:01\r\u001b[K     |█████████████████████████▊      | 727kB 6.5MB/s eta 0:00:01\r\u001b[K     |██████████████████████████      | 737kB 6.5MB/s eta 0:00:01\r\u001b[K     |██████████████████████████▍     | 747kB 6.5MB/s eta 0:00:01\r\u001b[K     |██████████████████████████▉     | 757kB 6.5MB/s eta 0:00:01\r\u001b[K     |███████████████████████████▏    | 768kB 6.5MB/s eta 0:00:01\r\u001b[K     |███████████████████████████▌    | 778kB 6.5MB/s eta 0:00:01\r\u001b[K     |████████████████████████████    | 788kB 6.5MB/s eta 0:00:01\r\u001b[K     |████████████████████████████▎   | 798kB 6.5MB/s eta 0:00:01\r\u001b[K     |████████████████████████████▋   | 808kB 6.5MB/s eta 0:00:01\r\u001b[K     |█████████████████████████████   | 819kB 6.5MB/s eta 0:00:01\r\u001b[K     |█████████████████████████████▍  | 829kB 6.5MB/s eta 0:00:01\r\u001b[K     |█████████████████████████████▊  | 839kB 6.5MB/s eta 0:00:01\r\u001b[K     |██████████████████████████████  | 849kB 6.5MB/s eta 0:00:01\r\u001b[K     |██████████████████████████████▍ | 860kB 6.5MB/s eta 0:00:01\r\u001b[K     |██████████████████████████████▉ | 870kB 6.5MB/s eta 0:00:01\r\u001b[K     |███████████████████████████████▏| 880kB 6.5MB/s eta 0:00:01\r\u001b[K     |███████████████████████████████▌| 890kB 6.5MB/s eta 0:00:01\r\u001b[K     |███████████████████████████████▉| 901kB 6.5MB/s eta 0:00:01\r\u001b[K     |████████████████████████████████| 911kB 6.5MB/s \n",
            "\u001b[?25hRequirement already satisfied: urllib3 in /usr/local/lib/python3.7/dist-packages (from selenium) (1.24.3)\n",
            "Installing collected packages: selenium\n",
            "Successfully installed selenium-3.141.0\n",
            "Get:1 https://cloud.r-project.org/bin/linux/ubuntu bionic-cran40/ InRelease [3,626 B]\n",
            "Ign:2 https://developer.download.nvidia.com/compute/cuda/repos/ubuntu1804/x86_64  InRelease\n",
            "Get:3 http://security.ubuntu.com/ubuntu bionic-security InRelease [88.7 kB]\n",
            "Ign:4 https://developer.download.nvidia.com/compute/machine-learning/repos/ubuntu1804/x86_64  InRelease\n",
            "Hit:5 https://developer.download.nvidia.com/compute/cuda/repos/ubuntu1804/x86_64  Release\n",
            "Hit:6 https://developer.download.nvidia.com/compute/machine-learning/repos/ubuntu1804/x86_64  Release\n",
            "Get:7 http://ppa.launchpad.net/c2d4u.team/c2d4u4.0+/ubuntu bionic InRelease [15.9 kB]\n",
            "Hit:8 http://archive.ubuntu.com/ubuntu bionic InRelease\n",
            "Get:9 http://archive.ubuntu.com/ubuntu bionic-updates InRelease [88.7 kB]\n",
            "Hit:10 http://ppa.launchpad.net/cran/libgit2/ubuntu bionic InRelease\n",
            "Hit:12 http://ppa.launchpad.net/deadsnakes/ppa/ubuntu bionic InRelease\n",
            "Get:14 http://archive.ubuntu.com/ubuntu bionic-backports InRelease [74.6 kB]\n",
            "Hit:15 http://ppa.launchpad.net/graphics-drivers/ppa/ubuntu bionic InRelease\n",
            "Get:16 http://security.ubuntu.com/ubuntu bionic-security/universe amd64 Packages [1,392 kB]\n",
            "Get:17 http://security.ubuntu.com/ubuntu bionic-security/main amd64 Packages [1,963 kB]\n",
            "Get:18 http://ppa.launchpad.net/c2d4u.team/c2d4u4.0+/ubuntu bionic/main Sources [1,738 kB]\n",
            "Get:19 http://archive.ubuntu.com/ubuntu bionic-updates/universe amd64 Packages [2,163 kB]\n",
            "Get:20 http://ppa.launchpad.net/c2d4u.team/c2d4u4.0+/ubuntu bionic/main amd64 Packages [889 kB]\n",
            "Get:21 http://archive.ubuntu.com/ubuntu bionic-updates/main amd64 Packages [2,394 kB]\n",
            "Fetched 10.8 MB in 4s (3,024 kB/s)\n",
            "Reading package lists... Done\n",
            "Reading package lists... Done\n",
            "Building dependency tree       \n",
            "Reading state information... Done\n",
            "The following additional packages will be installed:\n",
            "  chromium-browser chromium-browser-l10n chromium-codecs-ffmpeg-extra\n",
            "Suggested packages:\n",
            "  webaccounts-chromium-extension unity-chromium-extension adobe-flashplugin\n",
            "The following NEW packages will be installed:\n",
            "  chromium-browser chromium-browser-l10n chromium-chromedriver\n",
            "  chromium-codecs-ffmpeg-extra\n",
            "0 upgraded, 4 newly installed, 0 to remove and 32 not upgraded.\n",
            "Need to get 81.0 MB of archives.\n",
            "After this operation, 273 MB of additional disk space will be used.\n",
            "Get:1 http://archive.ubuntu.com/ubuntu bionic-updates/universe amd64 chromium-codecs-ffmpeg-extra amd64 87.0.4280.66-0ubuntu0.18.04.1 [1,122 kB]\n",
            "Get:2 http://archive.ubuntu.com/ubuntu bionic-updates/universe amd64 chromium-browser amd64 87.0.4280.66-0ubuntu0.18.04.1 [71.7 MB]\n",
            "Get:3 http://archive.ubuntu.com/ubuntu bionic-updates/universe amd64 chromium-browser-l10n all 87.0.4280.66-0ubuntu0.18.04.1 [3,716 kB]\n",
            "Get:4 http://archive.ubuntu.com/ubuntu bionic-updates/universe amd64 chromium-chromedriver amd64 87.0.4280.66-0ubuntu0.18.04.1 [4,488 kB]\n",
            "Fetched 81.0 MB in 4s (18.9 MB/s)\n",
            "Selecting previously unselected package chromium-codecs-ffmpeg-extra.\n",
            "(Reading database ... 149406 files and directories currently installed.)\n",
            "Preparing to unpack .../chromium-codecs-ffmpeg-extra_87.0.4280.66-0ubuntu0.18.04.1_amd64.deb ...\n",
            "Unpacking chromium-codecs-ffmpeg-extra (87.0.4280.66-0ubuntu0.18.04.1) ...\n",
            "Selecting previously unselected package chromium-browser.\n",
            "Preparing to unpack .../chromium-browser_87.0.4280.66-0ubuntu0.18.04.1_amd64.deb ...\n",
            "Unpacking chromium-browser (87.0.4280.66-0ubuntu0.18.04.1) ...\n",
            "Selecting previously unselected package chromium-browser-l10n.\n",
            "Preparing to unpack .../chromium-browser-l10n_87.0.4280.66-0ubuntu0.18.04.1_all.deb ...\n",
            "Unpacking chromium-browser-l10n (87.0.4280.66-0ubuntu0.18.04.1) ...\n",
            "Selecting previously unselected package chromium-chromedriver.\n",
            "Preparing to unpack .../chromium-chromedriver_87.0.4280.66-0ubuntu0.18.04.1_amd64.deb ...\n",
            "Unpacking chromium-chromedriver (87.0.4280.66-0ubuntu0.18.04.1) ...\n",
            "Setting up chromium-codecs-ffmpeg-extra (87.0.4280.66-0ubuntu0.18.04.1) ...\n",
            "Setting up chromium-browser (87.0.4280.66-0ubuntu0.18.04.1) ...\n",
            "update-alternatives: using /usr/bin/chromium-browser to provide /usr/bin/x-www-browser (x-www-browser) in auto mode\n",
            "update-alternatives: using /usr/bin/chromium-browser to provide /usr/bin/gnome-www-browser (gnome-www-browser) in auto mode\n",
            "Setting up chromium-chromedriver (87.0.4280.66-0ubuntu0.18.04.1) ...\n",
            "Setting up chromium-browser-l10n (87.0.4280.66-0ubuntu0.18.04.1) ...\n",
            "Processing triggers for hicolor-icon-theme (0.17-2) ...\n",
            "Processing triggers for mime-support (3.60ubuntu1) ...\n",
            "Processing triggers for man-db (2.8.3-2ubuntu0.1) ...\n"
          ],
          "name": "stdout"
        }
      ]
    },
    {
      "cell_type": "code",
      "metadata": {
        "id": "q1e7lmbZoJYm",
        "colab": {
          "base_uri": "https://localhost:8080/"
        },
        "outputId": "f6d326a4-be3a-4cce-9f1c-1de786aacd16"
      },
      "source": [
        "from selenium import webdriver\n",
        "chrome_options = webdriver.ChromeOptions()\n",
        "chrome_options.add_argument('--headless')\n",
        "chrome_options.add_argument('--no-sandbox')\n",
        "chrome_options.add_argument('--disable-dev-shm-usage')\n",
        "chrome_options.add_argument('incognito')\n",
        " \n",
        "driver = webdriver.Chrome('chromedriver',chrome_options=chrome_options)"
      ],
      "execution_count": 6,
      "outputs": [
        {
          "output_type": "stream",
          "text": [
            "/usr/local/lib/python3.7/dist-packages/ipykernel_launcher.py:8: DeprecationWarning: use options instead of chrome_options\n",
            "  \n"
          ],
          "name": "stderr"
        }
      ]
    },
    {
      "cell_type": "code",
      "metadata": {
        "id": "vY1OliexmLJZ",
        "cellView": "code"
      },
      "source": [
        "import time\n",
        "from datetime import datetime\n",
        "import pandas as pd"
      ],
      "execution_count": 7,
      "outputs": []
    },
    {
      "cell_type": "markdown",
      "metadata": {
        "id": "02Vji3Hei39r"
      },
      "source": [
        "## The Hindu"
      ]
    },
    {
      "cell_type": "code",
      "metadata": {
        "id": "WZM8kXPIGD7L"
      },
      "source": [
        "base_url = 'https://www.thehindu.com/'"
      ],
      "execution_count": 40,
      "outputs": []
    },
    {
      "cell_type": "code",
      "metadata": {
        "id": "QIU9b568e_AY",
        "colab": {
          "base_uri": "https://localhost:8080/",
          "height": 35
        },
        "outputId": "a6d491bd-dfe7-4e7a-cce4-93b50f66101d"
      },
      "source": [
        "driver.get(url)\n",
        "driver.title"
      ],
      "execution_count": 8,
      "outputs": [
        {
          "output_type": "execute_result",
          "data": {
            "application/vnd.google.colaboratory.intrinsic+json": {
              "type": "string"
            },
            "text/plain": [
              "'The Hindu: Breaking News, India News, Sports News and Live Updates'"
            ]
          },
          "metadata": {
            "tags": []
          },
          "execution_count": 8
        }
      ]
    },
    {
      "cell_type": "code",
      "metadata": {
        "id": "fVlYWiG6i6KJ"
      },
      "source": [
        "menu_icon = driver.find_element_by_class_name('menu-icon')\r\n",
        "menu_icon.click()\r\n",
        "time.sleep(1)\r\n",
        "driver.execute_script(\"window.scrollTo(0, window.scrollY + 100);\")"
      ],
      "execution_count": 9,
      "outputs": []
    },
    {
      "cell_type": "code",
      "metadata": {
        "colab": {
          "base_uri": "https://localhost:8080/"
        },
        "id": "8kxlvPVLi6E6",
        "outputId": "41d8fdc5-bfb6-4913-8104-5a80596c0237"
      },
      "source": [
        "the_hindu_category = []\r\n",
        "for i in range(1,7):\r\n",
        "  for j in range(1,15):\r\n",
        "    try:\r\n",
        "      cat = driver.find_element_by_xpath(f'//*[@id=\"popup-menu\"]/div[2]/div[1]/ul[{i}]/li[{j}]/a')\r\n",
        "      the_hindu_category.append(cat.text)\r\n",
        "      print(i,j,cat.text)\r\n",
        "    except:\r\n",
        "      pass"
      ],
      "execution_count": 10,
      "outputs": [
        {
          "output_type": "stream",
          "text": [
            "1 1 Subscription\n",
            "1 2 Latest News\n",
            "1 3 Today's Paper\n",
            "1 4 ePaper\n",
            "1 5 Housing\n",
            "1 6 Coupons\n",
            "1 7 News\n",
            "1 8 Coronavirus\n",
            "1 9 States\n",
            "1 10 Business\n",
            "1 11 Real Estate\n",
            "2 1 Crossword+ \"Free Games\"\n",
            "2 2 Cities\n",
            "2 3 Elections\n",
            "3 1 Opinion\n",
            "3 2 Sport\n",
            "4 1 Entertainment\n",
            "4 2 Society\n",
            "4 3 Books\n",
            "4 4 Children\n",
            "5 1 Life & Style\n",
            "5 2 Technology\n",
            "5 3 Sci-Tech\n",
            "6 1 Education\n",
            "6 2 Multimedia\n",
            "6 3 Data\n",
            "6 4 Specials\n",
            "6 5 Resources\n",
            "6 6 Tags\n",
            "6 7 thREAD\n",
            "6 8 Theatre - Fest\n",
            "6 9 November Fest\n",
            "6 10 Lit for Life\n",
            "6 11 Tamil Nadu Smiling\n",
            "6 12 Newsletter\n"
          ],
          "name": "stdout"
        }
      ]
    },
    {
      "cell_type": "code",
      "metadata": {
        "colab": {
          "base_uri": "https://localhost:8080/"
        },
        "id": "czLJ_ICgCWB6",
        "outputId": "c73440f5-55fe-46a3-f839-3e1a1b5e94d6"
      },
      "source": [
        "the_hindu_category = the_hindu_category[9:-11]\r\n",
        "the_hindu_category "
      ],
      "execution_count": 52,
      "outputs": [
        {
          "output_type": "execute_result",
          "data": {
            "text/plain": [
              "['Business',\n",
              " 'Real Estate',\n",
              " 'Crossword+ \"Free Games\"',\n",
              " 'Cities',\n",
              " 'Elections',\n",
              " 'Opinion',\n",
              " 'Sport',\n",
              " 'Entertainment',\n",
              " 'Society',\n",
              " 'Books',\n",
              " 'Children',\n",
              " 'Life & Style',\n",
              " 'Technology',\n",
              " 'Sci-Tech',\n",
              " 'Education']"
            ]
          },
          "metadata": {
            "tags": []
          },
          "execution_count": 52
        }
      ]
    },
    {
      "cell_type": "code",
      "metadata": {
        "colab": {
          "base_uri": "https://localhost:8080/"
        },
        "id": "4-SyC2hiElx8",
        "outputId": "dbc8a1c0-b89d-4972-dd9d-6ec06914f897"
      },
      "source": [
        "the_hindu_category = [x for x in the_hindu_category if x not in ('Crossword+ \"Free Games\"','Cities','Opinion')]\r\n",
        "the_hindu_category "
      ],
      "execution_count": 53,
      "outputs": [
        {
          "output_type": "execute_result",
          "data": {
            "text/plain": [
              "['Business',\n",
              " 'Real Estate',\n",
              " 'Elections',\n",
              " 'Sport',\n",
              " 'Entertainment',\n",
              " 'Society',\n",
              " 'Books',\n",
              " 'Children',\n",
              " 'Life & Style',\n",
              " 'Technology',\n",
              " 'Sci-Tech',\n",
              " 'Education']"
            ]
          },
          "metadata": {
            "tags": []
          },
          "execution_count": 53
        }
      ]
    },
    {
      "cell_type": "code",
      "metadata": {
        "id": "_JsvLw9WImiy"
      },
      "source": [
        "the_hindu_category[1] = 'Real-Estate'\r\n",
        "the_hindu_category[-4] = 'Life-and-Style'"
      ],
      "execution_count": 54,
      "outputs": []
    },
    {
      "cell_type": "code",
      "metadata": {
        "id": "wGv5i5KOJlOo"
      },
      "source": [
        "categories = {\r\n",
        "    'url': [],\r\n",
        "    'category': [],\r\n",
        "    'sub_categories': [],\r\n",
        "    'sub_category_urls': [],\r\n",
        "    'tags':[]\r\n",
        "}"
      ],
      "execution_count": 121,
      "outputs": []
    },
    {
      "cell_type": "code",
      "metadata": {
        "colab": {
          "base_uri": "https://localhost:8080/"
        },
        "id": "f4Bx-apUF_Va",
        "outputId": "6e85ee25-f86a-4ea0-891e-5ffca66ffb06"
      },
      "source": [
        "for category in the_hindu_category:\r\n",
        "  print(category)\r\n",
        "  categories['category'].append(category)                               #saving to dictionary\r\n",
        "\r\n",
        "  #Going to the category page\r\n",
        "  url = base_url+category+'/'\r\n",
        "  categories['url'].append(url)                               #saving to dictionary\r\n",
        "  driver.get(url)\r\n",
        "  categories['tags'].append(driver.title)                               #saving to dictionary\r\n",
        "  \r\n",
        "\r\n",
        "  #fetching subcategories\r\n",
        "  subcat = []\r\n",
        "  subcaturls = []\r\n",
        "  try:\r\n",
        "    subcat_menu_div = driver.find_element_by_class_name('city-menu-1')               #menu div\r\n",
        "    nav_element = subcat_menu_div.find_element_by_tag_name('nav')                    #inside nav\r\n",
        "    a_elements = nav_element.find_elements_by_tag_name('a')                          #inside a to extract links\r\n",
        "     \r\n",
        "    #loop to extract links\r\n",
        "    for a in a_elements:\r\n",
        "      subcat.append(a.text)                         #getting text\r\n",
        "      link = a.get_attribute(\"href\")                #getting link\r\n",
        "      if base_url in link:                #blocking if any 3rd party url like businessline\r\n",
        "        subcaturls.append(link)\r\n",
        "\r\n",
        "  except:\r\n",
        "    pass\r\n",
        "  \r\n",
        "  #ensuring non empty\r\n",
        "  if len(subcat) == 0:\r\n",
        "    print('I am in')\r\n",
        "    subcat.append(category)\r\n",
        "    subcaturls.append(url)\r\n",
        "    print(subcat,subcaturls)\r\n",
        "\r\n",
        "  categories['sub_categories'].append(subcat)                               #saving to dictionary\r\n",
        "  categories['sub_category_urls'].append(subcaturls)                        #saving to dictionary\r\n",
        "\r\n"
      ],
      "execution_count": 122,
      "outputs": [
        {
          "output_type": "stream",
          "text": [
            "Business\n",
            "Real-Estate\n",
            "I am in\n",
            "['Real-Estate'] ['https://www.thehindu.com/Real-Estate/']\n",
            "Elections\n",
            "I am in\n",
            "['Elections'] ['https://www.thehindu.com/Elections/']\n",
            "Sport\n",
            "Entertainment\n",
            "Society\n",
            "Books\n",
            "Children\n",
            "I am in\n",
            "['Children'] ['https://www.thehindu.com/Children/']\n",
            "Life-and-Style\n",
            "Technology\n",
            "I am in\n",
            "['Technology'] ['https://www.thehindu.com/Technology/']\n",
            "Sci-Tech\n",
            "Education\n"
          ],
          "name": "stdout"
        }
      ]
    },
    {
      "cell_type": "code",
      "metadata": {
        "colab": {
          "base_uri": "https://localhost:8080/"
        },
        "id": "c1HdcqwLWLkw",
        "outputId": "05a28d7e-cdb9-4e04-e139-f3086c66a566"
      },
      "source": [
        "for key in categories.keys():\r\n",
        "  print(key,len(categories[key]))"
      ],
      "execution_count": 123,
      "outputs": [
        {
          "output_type": "stream",
          "text": [
            "url 12\n",
            "category 12\n",
            "sub_categories 12\n",
            "sub_category_urls 12\n",
            "tags 12\n"
          ],
          "name": "stdout"
        }
      ]
    },
    {
      "cell_type": "code",
      "metadata": {
        "colab": {
          "base_uri": "https://localhost:8080/",
          "height": 574
        },
        "id": "u9uA0JSCSBbw",
        "outputId": "1357258e-0022-4b84-b016-1d08d09c08bb"
      },
      "source": [
        "df = pd.DataFrame(categories)\r\n",
        "df"
      ],
      "execution_count": 124,
      "outputs": [
        {
          "output_type": "execute_result",
          "data": {
            "text/html": [
              "<div>\n",
              "<style scoped>\n",
              "    .dataframe tbody tr th:only-of-type {\n",
              "        vertical-align: middle;\n",
              "    }\n",
              "\n",
              "    .dataframe tbody tr th {\n",
              "        vertical-align: top;\n",
              "    }\n",
              "\n",
              "    .dataframe thead th {\n",
              "        text-align: right;\n",
              "    }\n",
              "</style>\n",
              "<table border=\"1\" class=\"dataframe\">\n",
              "  <thead>\n",
              "    <tr style=\"text-align: right;\">\n",
              "      <th></th>\n",
              "      <th>url</th>\n",
              "      <th>category</th>\n",
              "      <th>sub_categories</th>\n",
              "      <th>sub_category_urls</th>\n",
              "      <th>tags</th>\n",
              "    </tr>\n",
              "  </thead>\n",
              "  <tbody>\n",
              "    <tr>\n",
              "      <th>0</th>\n",
              "      <td>https://www.thehindu.com/Business/</td>\n",
              "      <td>Business</td>\n",
              "      <td>[BUSINESS, AGRI-BUSINESS, INDUSTRY, ECONOMY, M...</td>\n",
              "      <td>[https://www.thehindu.com/business/, https://w...</td>\n",
              "      <td>Business News, Finance News, Market News, Stoc...</td>\n",
              "    </tr>\n",
              "    <tr>\n",
              "      <th>1</th>\n",
              "      <td>https://www.thehindu.com/Real-Estate/</td>\n",
              "      <td>Real-Estate</td>\n",
              "      <td>[Real-Estate]</td>\n",
              "      <td>[https://www.thehindu.com/Real-Estate/]</td>\n",
              "      <td>Real Estate News - The Hindu</td>\n",
              "    </tr>\n",
              "    <tr>\n",
              "      <th>2</th>\n",
              "      <td>https://www.thehindu.com/Elections/</td>\n",
              "      <td>Elections</td>\n",
              "      <td>[Elections]</td>\n",
              "      <td>[https://www.thehindu.com/Elections/]</td>\n",
              "      <td>Assembly Elections 2020 latest news, updates, ...</td>\n",
              "    </tr>\n",
              "    <tr>\n",
              "      <th>3</th>\n",
              "      <td>https://www.thehindu.com/Sport/</td>\n",
              "      <td>Sport</td>\n",
              "      <td>[SPORT, CRICKET, FOOTBALL, HOCKEY, TENNIS, ATH...</td>\n",
              "      <td>[https://www.thehindu.com/sport/, https://www....</td>\n",
              "      <td>Live Scores, Latest Sports News, Results, Cric...</td>\n",
              "    </tr>\n",
              "    <tr>\n",
              "      <th>4</th>\n",
              "      <td>https://www.thehindu.com/Entertainment/</td>\n",
              "      <td>Entertainment</td>\n",
              "      <td>[ENTERTAINMENT, ART, DANCE, MOVIES, MUSIC, REV...</td>\n",
              "      <td>[https://www.thehindu.com/entertainment/, http...</td>\n",
              "      <td>Entertainment News, Cinema News, Movie Reviews...</td>\n",
              "    </tr>\n",
              "    <tr>\n",
              "      <th>5</th>\n",
              "      <td>https://www.thehindu.com/Society/</td>\n",
              "      <td>Society</td>\n",
              "      <td>[SOCIETY, FAITH, HISTORY &amp; CULTURE]</td>\n",
              "      <td>[https://www.thehindu.com/society/, https://ww...</td>\n",
              "      <td>Society News, Religion, History, Culture, Monu...</td>\n",
              "    </tr>\n",
              "    <tr>\n",
              "      <th>6</th>\n",
              "      <td>https://www.thehindu.com/Books/</td>\n",
              "      <td>Books</td>\n",
              "      <td>[BOOKS, REVIEWS, AUTHORS]</td>\n",
              "      <td>[https://www.thehindu.com/books/, https://www....</td>\n",
              "      <td>Book Reviews, Launches, Author Interviews, Exc...</td>\n",
              "    </tr>\n",
              "    <tr>\n",
              "      <th>7</th>\n",
              "      <td>https://www.thehindu.com/Children/</td>\n",
              "      <td>Children</td>\n",
              "      <td>[Children]</td>\n",
              "      <td>[https://www.thehindu.com/Children/]</td>\n",
              "      <td>Children News - The Hindu</td>\n",
              "    </tr>\n",
              "    <tr>\n",
              "      <th>8</th>\n",
              "      <td>https://www.thehindu.com/Life-and-Style/</td>\n",
              "      <td>Life-and-Style</td>\n",
              "      <td>[LIFE &amp; STYLE, FASHION, FITNESS, FOOD, MOTORIN...</td>\n",
              "      <td>[https://www.thehindu.com/life-and-style/, htt...</td>\n",
              "      <td>Lifestyle News, Fashion News, Lifestyle And He...</td>\n",
              "    </tr>\n",
              "    <tr>\n",
              "      <th>9</th>\n",
              "      <td>https://www.thehindu.com/Technology/</td>\n",
              "      <td>Technology</td>\n",
              "      <td>[Technology]</td>\n",
              "      <td>[https://www.thehindu.com/Technology/]</td>\n",
              "      <td>Page not found News - The Hindu</td>\n",
              "    </tr>\n",
              "    <tr>\n",
              "      <th>10</th>\n",
              "      <td>https://www.thehindu.com/Sci-Tech/</td>\n",
              "      <td>Sci-Tech</td>\n",
              "      <td>[SCI-TECH, SCIENCE, TECHNOLOGY, HEALTH, AGRICU...</td>\n",
              "      <td>[https://www.thehindu.com/sci-tech/, https://w...</td>\n",
              "      <td>Science News, Nature, Technology, Gadgets - Th...</td>\n",
              "    </tr>\n",
              "    <tr>\n",
              "      <th>11</th>\n",
              "      <td>https://www.thehindu.com/Education/</td>\n",
              "      <td>Education</td>\n",
              "      <td>[EDUCATION, CAREERS, COLLEGES, SCHOOLS]</td>\n",
              "      <td>[https://www.thehindu.com/education/, https://...</td>\n",
              "      <td>Education News, Schools, Colleges, Higher Educ...</td>\n",
              "    </tr>\n",
              "  </tbody>\n",
              "</table>\n",
              "</div>"
            ],
            "text/plain": [
              "                                         url  ...                                               tags\n",
              "0         https://www.thehindu.com/Business/  ...  Business News, Finance News, Market News, Stoc...\n",
              "1      https://www.thehindu.com/Real-Estate/  ...                       Real Estate News - The Hindu\n",
              "2        https://www.thehindu.com/Elections/  ...  Assembly Elections 2020 latest news, updates, ...\n",
              "3            https://www.thehindu.com/Sport/  ...  Live Scores, Latest Sports News, Results, Cric...\n",
              "4    https://www.thehindu.com/Entertainment/  ...  Entertainment News, Cinema News, Movie Reviews...\n",
              "5          https://www.thehindu.com/Society/  ...  Society News, Religion, History, Culture, Monu...\n",
              "6            https://www.thehindu.com/Books/  ...  Book Reviews, Launches, Author Interviews, Exc...\n",
              "7         https://www.thehindu.com/Children/  ...                          Children News - The Hindu\n",
              "8   https://www.thehindu.com/Life-and-Style/  ...  Lifestyle News, Fashion News, Lifestyle And He...\n",
              "9       https://www.thehindu.com/Technology/  ...                    Page not found News - The Hindu\n",
              "10        https://www.thehindu.com/Sci-Tech/  ...  Science News, Nature, Technology, Gadgets - Th...\n",
              "11       https://www.thehindu.com/Education/  ...  Education News, Schools, Colleges, Higher Educ...\n",
              "\n",
              "[12 rows x 5 columns]"
            ]
          },
          "metadata": {
            "tags": []
          },
          "execution_count": 124
        }
      ]
    },
    {
      "cell_type": "code",
      "metadata": {
        "id": "gYj-LgWRSBYs"
      },
      "source": [
        "#storing new dataset in google drive\r\n",
        "df.to_csv('/content/drive/MyDrive/Datasets/News_Scrap/The_Hindu_urls.csv',index = False)"
      ],
      "execution_count": 126,
      "outputs": []
    },
    {
      "cell_type": "code",
      "metadata": {
        "id": "UC9ajWfYYaeO"
      },
      "source": [
        ""
      ],
      "execution_count": null,
      "outputs": []
    },
    {
      "cell_type": "code",
      "metadata": {
        "id": "9U57j7e7Flhf"
      },
      "source": [
        "#category page sub category links\r\n",
        "/html/body/div[2]/header/div/div/div/nav[3]/div[1]/nav/ul/li[1]/a\r\n",
        "/html/body/div[2]/header/div/div/div/nav[3]/div[1]/nav/ul/li[2]/a\r\n",
        "\r\n",
        "/html/body/div[2]/header/div/div/div/nav[3]/div[1]/nav/ul/li[2]/a"
      ],
      "execution_count": null,
      "outputs": []
    },
    {
      "cell_type": "code",
      "metadata": {
        "id": "XIEBJPjUFleh"
      },
      "source": [
        ""
      ],
      "execution_count": null,
      "outputs": []
    },
    {
      "cell_type": "code",
      "metadata": {
        "id": "2dS1qivtFlVW"
      },
      "source": [
        ""
      ],
      "execution_count": null,
      "outputs": []
    },
    {
      "cell_type": "code",
      "metadata": {
        "id": "ZdXA38aq0uYt",
        "colab": {
          "base_uri": "https://localhost:8080/",
          "height": 35
        },
        "outputId": "ad993a2b-1019-4eb4-dc9d-e7b66a116d3b"
      },
      "source": [
        "#https://www.thehindu.com/entertainment/\r\n",
        "driver.get('https://www.thehindu.com/sport/cricket/')\r\n",
        "driver.title"
      ],
      "execution_count": 13,
      "outputs": [
        {
          "output_type": "execute_result",
          "data": {
            "application/vnd.google.colaboratory.intrinsic+json": {
              "type": "string"
            },
            "text/plain": [
              "'Live Cricket Scores, Cricket News, Analysis, Results & More - The Hindu'"
            ]
          },
          "metadata": {
            "tags": []
          },
          "execution_count": 13
        }
      ]
    },
    {
      "cell_type": "code",
      "metadata": {
        "colab": {
          "base_uri": "https://localhost:8080/"
        },
        "id": "22y1G2IG_783",
        "outputId": "359e30b8-9bbe-413a-cb49-5e613485f1a7"
      },
      "source": [
        "x = driver.find_elements_by_class_name('Other-StoryCard')\r\n",
        "x\r\n"
      ],
      "execution_count": 17,
      "outputs": [
        {
          "output_type": "execute_result",
          "data": {
            "text/plain": [
              "[<selenium.webdriver.remote.webelement.WebElement (session=\"6f171d98272e62f8e33ed5804cfbc072\", element=\"da3782cd-7958-4fbe-805e-7d4d537f9838\")>,\n",
              " <selenium.webdriver.remote.webelement.WebElement (session=\"6f171d98272e62f8e33ed5804cfbc072\", element=\"0971ada0-1cb4-4271-bf64-73dc70b51d4d\")>,\n",
              " <selenium.webdriver.remote.webelement.WebElement (session=\"6f171d98272e62f8e33ed5804cfbc072\", element=\"73d6e99e-86cd-4022-b93a-f64817e245c1\")>,\n",
              " <selenium.webdriver.remote.webelement.WebElement (session=\"6f171d98272e62f8e33ed5804cfbc072\", element=\"35fb5e71-54d6-42d6-b050-7740f814784c\")>,\n",
              " <selenium.webdriver.remote.webelement.WebElement (session=\"6f171d98272e62f8e33ed5804cfbc072\", element=\"005912c7-2b86-4731-bc5f-6758d215ccc7\")>,\n",
              " <selenium.webdriver.remote.webelement.WebElement (session=\"6f171d98272e62f8e33ed5804cfbc072\", element=\"0fd58738-47d9-48e0-9e9c-68c794a732db\")>,\n",
              " <selenium.webdriver.remote.webelement.WebElement (session=\"6f171d98272e62f8e33ed5804cfbc072\", element=\"86217aee-ddfa-48f4-ac68-cf1e38359ec4\")>,\n",
              " <selenium.webdriver.remote.webelement.WebElement (session=\"6f171d98272e62f8e33ed5804cfbc072\", element=\"3c32ecd5-40bf-4545-877e-e6f573ac16f7\")>,\n",
              " <selenium.webdriver.remote.webelement.WebElement (session=\"6f171d98272e62f8e33ed5804cfbc072\", element=\"9fb9cd91-4824-4c2a-9096-17d8f3f6fc82\")>,\n",
              " <selenium.webdriver.remote.webelement.WebElement (session=\"6f171d98272e62f8e33ed5804cfbc072\", element=\"f21396df-216a-40c1-8f42-153e21458f1b\")>,\n",
              " <selenium.webdriver.remote.webelement.WebElement (session=\"6f171d98272e62f8e33ed5804cfbc072\", element=\"0f320866-fe11-4a42-87b0-2acbaf7acd61\")>,\n",
              " <selenium.webdriver.remote.webelement.WebElement (session=\"6f171d98272e62f8e33ed5804cfbc072\", element=\"a593bd4f-943d-4820-bf00-79def852bb7c\")>,\n",
              " <selenium.webdriver.remote.webelement.WebElement (session=\"6f171d98272e62f8e33ed5804cfbc072\", element=\"6427c114-17f5-4f2c-be0a-e098a2fd383c\")>,\n",
              " <selenium.webdriver.remote.webelement.WebElement (session=\"6f171d98272e62f8e33ed5804cfbc072\", element=\"0ba5ea5b-f84f-4adc-936c-7fe33f7aaf7a\")>,\n",
              " <selenium.webdriver.remote.webelement.WebElement (session=\"6f171d98272e62f8e33ed5804cfbc072\", element=\"09eee24c-5428-40bd-a941-715a7e8a80d9\")>,\n",
              " <selenium.webdriver.remote.webelement.WebElement (session=\"6f171d98272e62f8e33ed5804cfbc072\", element=\"214a6df3-485a-42d8-8557-ccee7a296c5e\")>,\n",
              " <selenium.webdriver.remote.webelement.WebElement (session=\"6f171d98272e62f8e33ed5804cfbc072\", element=\"ebc8b38a-8638-423f-b6c2-0dba6260c05d\")>,\n",
              " <selenium.webdriver.remote.webelement.WebElement (session=\"6f171d98272e62f8e33ed5804cfbc072\", element=\"c3ad8542-3d49-4a4e-a3df-9cfe45a8b1ac\")>,\n",
              " <selenium.webdriver.remote.webelement.WebElement (session=\"6f171d98272e62f8e33ed5804cfbc072\", element=\"3029d9d2-b11d-4813-b46f-bc3f144e3b2c\")>,\n",
              " <selenium.webdriver.remote.webelement.WebElement (session=\"6f171d98272e62f8e33ed5804cfbc072\", element=\"d29c7c73-a729-4074-b257-3386a33dfb50\")>,\n",
              " <selenium.webdriver.remote.webelement.WebElement (session=\"6f171d98272e62f8e33ed5804cfbc072\", element=\"e5d1822a-bd0c-47f5-be98-9274bb187496\")>,\n",
              " <selenium.webdriver.remote.webelement.WebElement (session=\"6f171d98272e62f8e33ed5804cfbc072\", element=\"bae5ddc0-9ab4-4133-b5c9-5ca69a603669\")>,\n",
              " <selenium.webdriver.remote.webelement.WebElement (session=\"6f171d98272e62f8e33ed5804cfbc072\", element=\"17e94982-ea97-4d16-9070-af5b5a35522f\")>,\n",
              " <selenium.webdriver.remote.webelement.WebElement (session=\"6f171d98272e62f8e33ed5804cfbc072\", element=\"bd62ec8a-74a3-4d7b-9eb1-c12364b005b8\")>,\n",
              " <selenium.webdriver.remote.webelement.WebElement (session=\"6f171d98272e62f8e33ed5804cfbc072\", element=\"ccf75ffe-131f-4e39-9638-2c620edab7ff\")>,\n",
              " <selenium.webdriver.remote.webelement.WebElement (session=\"6f171d98272e62f8e33ed5804cfbc072\", element=\"975084f0-062a-46ae-ba8d-c87db5eec266\")>,\n",
              " <selenium.webdriver.remote.webelement.WebElement (session=\"6f171d98272e62f8e33ed5804cfbc072\", element=\"bc256482-4248-42c3-a55b-c5b820ba0d20\")>,\n",
              " <selenium.webdriver.remote.webelement.WebElement (session=\"6f171d98272e62f8e33ed5804cfbc072\", element=\"85ba28f8-5a94-4e95-94fc-753536cbc75c\")>,\n",
              " <selenium.webdriver.remote.webelement.WebElement (session=\"6f171d98272e62f8e33ed5804cfbc072\", element=\"17b27c3a-355d-40c8-97bd-d3b012cef7fb\")>,\n",
              " <selenium.webdriver.remote.webelement.WebElement (session=\"6f171d98272e62f8e33ed5804cfbc072\", element=\"38cd88e5-388b-41ff-ad7c-2bb910953c7d\")>,\n",
              " <selenium.webdriver.remote.webelement.WebElement (session=\"6f171d98272e62f8e33ed5804cfbc072\", element=\"f7d669b0-80cc-4872-a002-197f27f93067\")>,\n",
              " <selenium.webdriver.remote.webelement.WebElement (session=\"6f171d98272e62f8e33ed5804cfbc072\", element=\"6fe04ac0-d03b-4147-8661-e105d3efea5b\")>,\n",
              " <selenium.webdriver.remote.webelement.WebElement (session=\"6f171d98272e62f8e33ed5804cfbc072\", element=\"4070f36c-87ea-48ed-ad44-8f89c0e8f72c\")>,\n",
              " <selenium.webdriver.remote.webelement.WebElement (session=\"6f171d98272e62f8e33ed5804cfbc072\", element=\"6e6c2e38-5f0b-4fef-8909-3b46ed46bd9d\")>,\n",
              " <selenium.webdriver.remote.webelement.WebElement (session=\"6f171d98272e62f8e33ed5804cfbc072\", element=\"f95500e9-7969-45ac-a1d0-af8e3cf88340\")>,\n",
              " <selenium.webdriver.remote.webelement.WebElement (session=\"6f171d98272e62f8e33ed5804cfbc072\", element=\"535fbf15-504d-4602-a33c-9b7987127c1a\")>,\n",
              " <selenium.webdriver.remote.webelement.WebElement (session=\"6f171d98272e62f8e33ed5804cfbc072\", element=\"3a699419-5346-4e59-9a51-b94f1daf3b48\")>,\n",
              " <selenium.webdriver.remote.webelement.WebElement (session=\"6f171d98272e62f8e33ed5804cfbc072\", element=\"a8ec10b9-6742-41ee-b6a8-d8070bcd2f5c\")>,\n",
              " <selenium.webdriver.remote.webelement.WebElement (session=\"6f171d98272e62f8e33ed5804cfbc072\", element=\"74aed849-72c7-40ae-aec9-0c1824d95d56\")>,\n",
              " <selenium.webdriver.remote.webelement.WebElement (session=\"6f171d98272e62f8e33ed5804cfbc072\", element=\"465733bc-dfaf-4936-9fd7-535475d4be40\")>,\n",
              " <selenium.webdriver.remote.webelement.WebElement (session=\"6f171d98272e62f8e33ed5804cfbc072\", element=\"1860b879-245c-4ffc-b3a4-d81003db34a2\")>,\n",
              " <selenium.webdriver.remote.webelement.WebElement (session=\"6f171d98272e62f8e33ed5804cfbc072\", element=\"9aa8d528-5baa-4ece-9d43-276c6a2cdca8\")>]"
            ]
          },
          "metadata": {
            "tags": []
          },
          "execution_count": 17
        }
      ]
    },
    {
      "cell_type": "code",
      "metadata": {
        "colab": {
          "base_uri": "https://localhost:8080/",
          "height": 52
        },
        "id": "HCsoYj98_7Ns",
        "outputId": "35fafb91-5211-4df0-b0a3-9e0bb77a9da4"
      },
      "source": [
        "x[0].text"
      ],
      "execution_count": 16,
      "outputs": [
        {
          "output_type": "execute_result",
          "data": {
            "application/vnd.google.colaboratory.intrinsic+json": {
              "type": "string"
            },
            "text/plain": [
              "'Indian can win against odds in all conditions, a mark of all great teams, says Hayden\\nThe wickets in Chennai and Ahmedabad came in for sharp criticism during the second and third Test of the ongoing series.'"
            ]
          },
          "metadata": {
            "tags": []
          },
          "execution_count": 16
        }
      ]
    },
    {
      "cell_type": "code",
      "metadata": {
        "colab": {
          "base_uri": "https://localhost:8080/",
          "height": 35
        },
        "id": "aJTsLNSG_7K4",
        "outputId": "e91be0b3-ade0-46d0-8413-0f10ad3c6b09"
      },
      "source": [
        "anchorElement = x[1].find_element_by_tag_name('a')\r\n",
        "anchorElement.get_attribute(\"href\")"
      ],
      "execution_count": 24,
      "outputs": [
        {
          "output_type": "execute_result",
          "data": {
            "application/vnd.google.colaboratory.intrinsic+json": {
              "type": "string"
            },
            "text/plain": [
              "'https://www.thehindu.com/sport/cricket/section-of-english-media-blames-team-for-motera-debacle-others-point-fingers-at-pitch/article33941055.ece'"
            ]
          },
          "metadata": {
            "tags": []
          },
          "execution_count": 24
        }
      ]
    },
    {
      "cell_type": "code",
      "metadata": {
        "id": "wXDC8zwb_7Hq"
      },
      "source": [
        ""
      ],
      "execution_count": null,
      "outputs": []
    },
    {
      "cell_type": "code",
      "metadata": {
        "id": "rHRR3W_w_7GH"
      },
      "source": [
        ""
      ],
      "execution_count": null,
      "outputs": []
    },
    {
      "cell_type": "code",
      "metadata": {
        "id": "7wuLh20wi6AN"
      },
      "source": [
        ""
      ],
      "execution_count": null,
      "outputs": []
    },
    {
      "cell_type": "markdown",
      "metadata": {
        "id": "-DoYJhREreRc"
      },
      "source": [
        "## The Indian express"
      ]
    },
    {
      "cell_type": "code",
      "metadata": {
        "colab": {
          "base_uri": "https://localhost:8080/",
          "height": 35
        },
        "id": "ckVkA2-Ei59z",
        "outputId": "e9e6f0e2-e862-4dda-bdfb-0474ad774617"
      },
      "source": [
        "base_url = 'https://indianexpress.com/'\r\n",
        "driver.get(base_url)\r\n",
        "driver.title "
      ],
      "execution_count": 127,
      "outputs": [
        {
          "output_type": "execute_result",
          "data": {
            "application/vnd.google.colaboratory.intrinsic+json": {
              "type": "string"
            },
            "text/plain": [
              "\"Latest News, India News, Breaking News, Today's News Headlines Online|The Indian Express\""
            ]
          },
          "metadata": {
            "tags": []
          },
          "execution_count": 127
        }
      ]
    },
    {
      "cell_type": "code",
      "metadata": {
        "id": "ZfSMwFKPi57b"
      },
      "source": [
        "#avoid overlay if any\r\n",
        "try:\r\n",
        "  driver.find_element_by_xpath('//*[@id=\"wrapper\"]/div[4]/div[1]').click()\r\n",
        "  driver.find_element_by_xpath('//*[@id=\"id_newsletter_subscription_popup\"]/div/div/img').click()\r\n",
        "except:\r\n",
        "  pass\r\n",
        "\r\n",
        "#click menu\r\n",
        "menu_icon = driver.find_element_by_class_name('toggle-menu')#'hamburger-menu')\r\n",
        "menu_icon.click()\r\n",
        "time.sleep(1)\r\n",
        "driver.execute_script(\"window.scrollTo(0, window.scrollY + 100);\")"
      ],
      "execution_count": 129,
      "outputs": []
    },
    {
      "cell_type": "code",
      "metadata": {
        "id": "jHkkkK2ti55P"
      },
      "source": [
        "'''\r\n",
        "//*[@id=\"section-nav\"]/ul/li[8]/a\r\n",
        "\r\n",
        "//*[@id=\"section-nav\"]/ul/li[9]/a\r\n",
        "\r\n",
        "//*[@id=\"section-nav\"]/ul/li[15]/a\r\n",
        "'''"
      ],
      "execution_count": null,
      "outputs": []
    },
    {
      "cell_type": "code",
      "metadata": {
        "colab": {
          "base_uri": "https://localhost:8080/"
        },
        "id": "3x0K_P-wi526",
        "outputId": "f3217d87-36d6-4f18-b141-415bf7ea3e35"
      },
      "source": [
        "the_indian_express_category = []\r\n",
        "\r\n",
        "for i in range(1,20):\r\n",
        "    try:\r\n",
        "        cat = driver.find_element_by_xpath(f'//*[@id=\"section-nav\"]/ul/li[{i}]/a')\r\n",
        "        the_indian_express_category.append(cat.text)\r\n",
        "        print(i,cat.text)\r\n",
        "    except:\r\n",
        "        pass"
      ],
      "execution_count": null,
      "outputs": [
        {
          "output_type": "stream",
          "text": [
            "1 Home\n",
            "2 Photos\n",
            "3 Videos\n",
            "4 Audio\n",
            "6 Entertainment\n",
            "8 Sports\n",
            "9 Tech\n",
            "10 Lifestyle\n",
            "11 Trending\n",
            "12 Cities News\n",
            "13 Jobs\n",
            "14 Business\n",
            "15 Education\n"
          ],
          "name": "stdout"
        }
      ]
    },
    {
      "cell_type": "code",
      "metadata": {
        "id": "DbXqmUXQar6r"
      },
      "source": [
        "driver.get('https://indianexpress.com/section/lifestyle/')"
      ],
      "execution_count": 130,
      "outputs": []
    },
    {
      "cell_type": "code",
      "metadata": {
        "colab": {
          "base_uri": "https://localhost:8080/"
        },
        "id": "n0qeP8WPaorw",
        "outputId": "a960d598-adce-437c-f76e-04aa1c0ca4c0"
      },
      "source": [
        "subcat_menu_div = driver.find_element_by_class_name('page-nav')               #menu div\r\n",
        "a_elements = subcat_menu_div.find_elements_by_tag_name('a')                          #inside a to extract links\r\n",
        "     \r\n",
        "#loop to extract links\r\n",
        "for a in a_elements:\r\n",
        "  print(a.text)                         #getting text\r\n",
        "  link = a.get_attribute(\"href\")                #getting link\r\n",
        "  if base_url in link:                #blocking if any 3rd party url like businessline\r\n",
        "    print(link)\r\n"
      ],
      "execution_count": 131,
      "outputs": [
        {
          "output_type": "stream",
          "text": [
            "\n",
            "https://indianexpress.com/section/lifestyle/life-style/\n",
            "\n",
            "https://indianexpress.com/section/lifestyle/health/\n",
            "\n",
            "https://indianexpress.com/section/lifestyle/food-wine/\n",
            "\n",
            "https://indianexpress.com/section/lifestyle/fashion/\n",
            "\n",
            "https://indianexpress.com/section/lifestyle/books/\n",
            "\n",
            "https://indianexpress.com/section/lifestyle/feelings/\n",
            "\n",
            "https://indianexpress.com/section/lifestyle/destination-of-the-week/\n",
            "\n",
            "https://indianexpress.com/section/lifestyle/fitness/\n",
            "\n",
            "https://indianexpress.com/section/lifestyle/art-and-culture/\n",
            "\n",
            "https://indianexpress.com/section/lifestyle/workplace/\n"
          ],
          "name": "stdout"
        }
      ]
    },
    {
      "cell_type": "code",
      "metadata": {
        "id": "XLkPU6Taaoms"
      },
      "source": [
        ""
      ],
      "execution_count": null,
      "outputs": []
    },
    {
      "cell_type": "code",
      "metadata": {
        "id": "UPf0Vdajaoib"
      },
      "source": [
        ""
      ],
      "execution_count": null,
      "outputs": []
    },
    {
      "cell_type": "code",
      "metadata": {
        "id": "5aP-7kjvaofI"
      },
      "source": [
        ""
      ],
      "execution_count": null,
      "outputs": []
    },
    {
      "cell_type": "code",
      "metadata": {
        "id": "3eCUSv5Naoby"
      },
      "source": [
        ""
      ],
      "execution_count": null,
      "outputs": []
    },
    {
      "cell_type": "code",
      "metadata": {
        "id": "CkOQ1nPsaoW7"
      },
      "source": [
        ""
      ],
      "execution_count": null,
      "outputs": []
    },
    {
      "cell_type": "code",
      "metadata": {
        "id": "WAcN_JfG0IaS"
      },
      "source": [
        "# https://indianexpress.com/section/cities/\r\n",
        "\r\n",
        "# https://indianexpress.com/parenting/"
      ],
      "execution_count": null,
      "outputs": []
    },
    {
      "cell_type": "code",
      "metadata": {
        "id": "Angh_EIy0Ich"
      },
      "source": [
        "'''\r\n",
        "//*[@id=\"section\"]/div/div[2]/div[1]/div[2]/ul/li[2]/a\r\n",
        "\r\n",
        "//*[@id=\"section\"]/div/div[2]/div[1]/div[2]/ul/li[3]/a\r\n",
        "'''"
      ],
      "execution_count": null,
      "outputs": []
    },
    {
      "cell_type": "markdown",
      "metadata": {
        "id": "Yo1WsF7F27Nl"
      },
      "source": [
        "## Section"
      ]
    }
  ]
}
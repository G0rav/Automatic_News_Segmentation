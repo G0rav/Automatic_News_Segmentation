{
  "nbformat": 4,
  "nbformat_minor": 0,
  "metadata": {
    "colab": {
      "name": "scrapping_news.ipynb",
      "provenance": [],
      "collapsed_sections": [],
      "authorship_tag": "ABX9TyO2g9lJdSLdH2Kkjq543+MM"
    },
    "kernelspec": {
      "name": "python3",
      "display_name": "Python 3"
    }
  },
  "cells": [
    {
      "cell_type": "markdown",
      "metadata": {
        "id": "1MwksbNXoSNG"
      },
      "source": [
        "# Mounting Google Drive and import necessary libraries\r\n"
      ]
    },
    {
      "cell_type": "code",
      "metadata": {
        "colab": {
          "base_uri": "https://localhost:8080/"
        },
        "id": "KtCLrk46ht8A",
        "outputId": "c1d8fab9-fe22-4e88-a029-ee395de444b2"
      },
      "source": [
        "from google.colab import drive\r\n",
        "drive.mount('/content/drive')"
      ],
      "execution_count": 1,
      "outputs": [
        {
          "output_type": "stream",
          "text": [
            "Mounted at /content/drive\n"
          ],
          "name": "stdout"
        }
      ]
    },
    {
      "cell_type": "code",
      "metadata": {
        "colab": {
          "base_uri": "https://localhost:8080/"
        },
        "id": "OmHb9vJNoOwz",
        "outputId": "52581b14-d9eb-4cef-929f-9bd6f4030323"
      },
      "source": [
        "#install required Packages\r\n",
        "!pip install selenium\r\n",
        "!apt-get update \r\n",
        "!apt install chromium-chromedriver"
      ],
      "execution_count": 2,
      "outputs": [
        {
          "output_type": "stream",
          "text": [
            "Collecting selenium\n",
            "\u001b[?25l  Downloading https://files.pythonhosted.org/packages/80/d6/4294f0b4bce4de0abf13e17190289f9d0613b0a44e5dd6a7f5ca98459853/selenium-3.141.0-py2.py3-none-any.whl (904kB)\n",
            "\u001b[K     |████████████████████████████████| 911kB 5.4MB/s \n",
            "\u001b[?25hRequirement already satisfied: urllib3 in /usr/local/lib/python3.7/dist-packages (from selenium) (1.24.3)\n",
            "Installing collected packages: selenium\n",
            "Successfully installed selenium-3.141.0\n",
            "Get:1 http://security.ubuntu.com/ubuntu bionic-security InRelease [88.7 kB]\n",
            "Get:2 https://cloud.r-project.org/bin/linux/ubuntu bionic-cran40/ InRelease [3,626 B]\n",
            "Ign:3 https://developer.download.nvidia.com/compute/cuda/repos/ubuntu1804/x86_64  InRelease\n",
            "Hit:4 http://archive.ubuntu.com/ubuntu bionic InRelease\n",
            "Get:5 http://ppa.launchpad.net/c2d4u.team/c2d4u4.0+/ubuntu bionic InRelease [15.9 kB]\n",
            "Ign:6 https://developer.download.nvidia.com/compute/machine-learning/repos/ubuntu1804/x86_64  InRelease\n",
            "Get:7 https://developer.download.nvidia.com/compute/cuda/repos/ubuntu1804/x86_64  Release [697 B]\n",
            "Hit:8 https://developer.download.nvidia.com/compute/machine-learning/repos/ubuntu1804/x86_64  Release\n",
            "Get:9 https://developer.download.nvidia.com/compute/cuda/repos/ubuntu1804/x86_64  Release.gpg [836 B]\n",
            "Get:10 http://archive.ubuntu.com/ubuntu bionic-updates InRelease [88.7 kB]\n",
            "Hit:11 http://ppa.launchpad.net/cran/libgit2/ubuntu bionic InRelease\n",
            "Get:12 http://security.ubuntu.com/ubuntu bionic-security/main amd64 Packages [1,964 kB]\n",
            "Get:13 http://archive.ubuntu.com/ubuntu bionic-backports InRelease [74.6 kB]\n",
            "Hit:14 http://ppa.launchpad.net/deadsnakes/ppa/ubuntu bionic InRelease\n",
            "Hit:15 http://ppa.launchpad.net/graphics-drivers/ppa/ubuntu bionic InRelease\n",
            "Ign:17 https://developer.download.nvidia.com/compute/cuda/repos/ubuntu1804/x86_64  Packages\n",
            "Get:17 https://developer.download.nvidia.com/compute/cuda/repos/ubuntu1804/x86_64  Packages [577 kB]\n",
            "Get:18 http://ppa.launchpad.net/c2d4u.team/c2d4u4.0+/ubuntu bionic/main Sources [1,745 kB]\n",
            "Get:19 http://ppa.launchpad.net/c2d4u.team/c2d4u4.0+/ubuntu bionic/main amd64 Packages [893 kB]\n",
            "Fetched 5,453 kB in 3s (1,729 kB/s)\n",
            "Reading package lists... Done\n",
            "Reading package lists... Done\n",
            "Building dependency tree       \n",
            "Reading state information... Done\n",
            "The following additional packages will be installed:\n",
            "  chromium-browser chromium-browser-l10n chromium-codecs-ffmpeg-extra\n",
            "Suggested packages:\n",
            "  webaccounts-chromium-extension unity-chromium-extension adobe-flashplugin\n",
            "The following NEW packages will be installed:\n",
            "  chromium-browser chromium-browser-l10n chromium-chromedriver\n",
            "  chromium-codecs-ffmpeg-extra\n",
            "0 upgraded, 4 newly installed, 0 to remove and 34 not upgraded.\n",
            "Need to get 81.0 MB of archives.\n",
            "After this operation, 273 MB of additional disk space will be used.\n",
            "Get:1 http://archive.ubuntu.com/ubuntu bionic-updates/universe amd64 chromium-codecs-ffmpeg-extra amd64 87.0.4280.66-0ubuntu0.18.04.1 [1,122 kB]\n",
            "Get:2 http://archive.ubuntu.com/ubuntu bionic-updates/universe amd64 chromium-browser amd64 87.0.4280.66-0ubuntu0.18.04.1 [71.7 MB]\n",
            "Get:3 http://archive.ubuntu.com/ubuntu bionic-updates/universe amd64 chromium-browser-l10n all 87.0.4280.66-0ubuntu0.18.04.1 [3,716 kB]\n",
            "Get:4 http://archive.ubuntu.com/ubuntu bionic-updates/universe amd64 chromium-chromedriver amd64 87.0.4280.66-0ubuntu0.18.04.1 [4,488 kB]\n",
            "Fetched 81.0 MB in 3s (24.4 MB/s)\n",
            "Selecting previously unselected package chromium-codecs-ffmpeg-extra.\n",
            "(Reading database ... 160975 files and directories currently installed.)\n",
            "Preparing to unpack .../chromium-codecs-ffmpeg-extra_87.0.4280.66-0ubuntu0.18.04.1_amd64.deb ...\n",
            "Unpacking chromium-codecs-ffmpeg-extra (87.0.4280.66-0ubuntu0.18.04.1) ...\n",
            "Selecting previously unselected package chromium-browser.\n",
            "Preparing to unpack .../chromium-browser_87.0.4280.66-0ubuntu0.18.04.1_amd64.deb ...\n",
            "Unpacking chromium-browser (87.0.4280.66-0ubuntu0.18.04.1) ...\n",
            "Selecting previously unselected package chromium-browser-l10n.\n",
            "Preparing to unpack .../chromium-browser-l10n_87.0.4280.66-0ubuntu0.18.04.1_all.deb ...\n",
            "Unpacking chromium-browser-l10n (87.0.4280.66-0ubuntu0.18.04.1) ...\n",
            "Selecting previously unselected package chromium-chromedriver.\n",
            "Preparing to unpack .../chromium-chromedriver_87.0.4280.66-0ubuntu0.18.04.1_amd64.deb ...\n",
            "Unpacking chromium-chromedriver (87.0.4280.66-0ubuntu0.18.04.1) ...\n",
            "Setting up chromium-codecs-ffmpeg-extra (87.0.4280.66-0ubuntu0.18.04.1) ...\n",
            "Setting up chromium-browser (87.0.4280.66-0ubuntu0.18.04.1) ...\n",
            "update-alternatives: using /usr/bin/chromium-browser to provide /usr/bin/x-www-browser (x-www-browser) in auto mode\n",
            "update-alternatives: using /usr/bin/chromium-browser to provide /usr/bin/gnome-www-browser (gnome-www-browser) in auto mode\n",
            "Setting up chromium-chromedriver (87.0.4280.66-0ubuntu0.18.04.1) ...\n",
            "Setting up chromium-browser-l10n (87.0.4280.66-0ubuntu0.18.04.1) ...\n",
            "Processing triggers for hicolor-icon-theme (0.17-2) ...\n",
            "Processing triggers for mime-support (3.60ubuntu1) ...\n",
            "Processing triggers for man-db (2.8.3-2ubuntu0.1) ...\n"
          ],
          "name": "stdout"
        }
      ]
    },
    {
      "cell_type": "code",
      "metadata": {
        "colab": {
          "base_uri": "https://localhost:8080/"
        },
        "id": "0eqPbxn1oHc1",
        "outputId": "6ae766a7-8cf7-4896-e9f9-49150e17e13e"
      },
      "source": [
        "from selenium import webdriver\r\n",
        "chrome_options = webdriver.ChromeOptions()\r\n",
        "chrome_options.add_argument('--headless')\r\n",
        "chrome_options.add_argument('--no-sandbox')\r\n",
        "chrome_options.add_argument('--disable-dev-shm-usage')\r\n",
        "chrome_options.add_argument('incognito')\r\n",
        " \r\n",
        "driver = webdriver.Chrome('chromedriver',chrome_options=chrome_options)"
      ],
      "execution_count": 3,
      "outputs": [
        {
          "output_type": "stream",
          "text": [
            "/usr/local/lib/python3.7/dist-packages/ipykernel_launcher.py:8: DeprecationWarning: use options instead of chrome_options\n",
            "  \n"
          ],
          "name": "stderr"
        }
      ]
    },
    {
      "cell_type": "code",
      "metadata": {
        "id": "9Xl7EttkoZel"
      },
      "source": [
        "import time\r\n",
        "from datetime import datetime\r\n",
        "import pandas as pd"
      ],
      "execution_count": 4,
      "outputs": []
    },
    {
      "cell_type": "markdown",
      "metadata": {
        "id": "q8Ki7UQvh17h"
      },
      "source": [
        "# The hindu"
      ]
    },
    {
      "cell_type": "code",
      "metadata": {
        "colab": {
          "base_uri": "https://localhost:8080/",
          "height": 574
        },
        "id": "Qt7SDmmrn1ps",
        "outputId": "9f169fc0-ce06-476d-b81c-f5bdd530d387"
      },
      "source": [
        "hindu_df = pd.read_csv('/content/drive/MyDrive/Datasets/News_Scrap/The_Hindu_urls.csv')\r\n",
        "hindu_df"
      ],
      "execution_count": 57,
      "outputs": [
        {
          "output_type": "execute_result",
          "data": {
            "text/html": [
              "<div>\n",
              "<style scoped>\n",
              "    .dataframe tbody tr th:only-of-type {\n",
              "        vertical-align: middle;\n",
              "    }\n",
              "\n",
              "    .dataframe tbody tr th {\n",
              "        vertical-align: top;\n",
              "    }\n",
              "\n",
              "    .dataframe thead th {\n",
              "        text-align: right;\n",
              "    }\n",
              "</style>\n",
              "<table border=\"1\" class=\"dataframe\">\n",
              "  <thead>\n",
              "    <tr style=\"text-align: right;\">\n",
              "      <th></th>\n",
              "      <th>url</th>\n",
              "      <th>category</th>\n",
              "      <th>sub_categories</th>\n",
              "      <th>sub_category_urls</th>\n",
              "      <th>tags</th>\n",
              "    </tr>\n",
              "  </thead>\n",
              "  <tbody>\n",
              "    <tr>\n",
              "      <th>0</th>\n",
              "      <td>https://www.thehindu.com/Business/</td>\n",
              "      <td>Business</td>\n",
              "      <td>['BUSINESS', 'AGRI-BUSINESS', 'INDUSTRY', 'ECO...</td>\n",
              "      <td>['https://www.thehindu.com/business/', 'https:...</td>\n",
              "      <td>Business News, Finance News, Market News, Stoc...</td>\n",
              "    </tr>\n",
              "    <tr>\n",
              "      <th>1</th>\n",
              "      <td>https://www.thehindu.com/Real-Estate/</td>\n",
              "      <td>Real-Estate</td>\n",
              "      <td>['Real-Estate']</td>\n",
              "      <td>['https://www.thehindu.com/Real-Estate/']</td>\n",
              "      <td>Real Estate News - The Hindu</td>\n",
              "    </tr>\n",
              "    <tr>\n",
              "      <th>2</th>\n",
              "      <td>https://www.thehindu.com/Elections/</td>\n",
              "      <td>Elections</td>\n",
              "      <td>['Elections']</td>\n",
              "      <td>['https://www.thehindu.com/Elections/']</td>\n",
              "      <td>Assembly Elections 2020 latest news, updates, ...</td>\n",
              "    </tr>\n",
              "    <tr>\n",
              "      <th>3</th>\n",
              "      <td>https://www.thehindu.com/Sport/</td>\n",
              "      <td>Sport</td>\n",
              "      <td>['SPORT', 'CRICKET', 'FOOTBALL', 'HOCKEY', 'TE...</td>\n",
              "      <td>['https://www.thehindu.com/sport/', 'https://w...</td>\n",
              "      <td>Live Scores, Latest Sports News, Results, Cric...</td>\n",
              "    </tr>\n",
              "    <tr>\n",
              "      <th>4</th>\n",
              "      <td>https://www.thehindu.com/Entertainment/</td>\n",
              "      <td>Entertainment</td>\n",
              "      <td>['ENTERTAINMENT', 'ART', 'DANCE', 'MOVIES', 'M...</td>\n",
              "      <td>['https://www.thehindu.com/entertainment/', 'h...</td>\n",
              "      <td>Entertainment News, Cinema News, Movie Reviews...</td>\n",
              "    </tr>\n",
              "    <tr>\n",
              "      <th>5</th>\n",
              "      <td>https://www.thehindu.com/Society/</td>\n",
              "      <td>Society</td>\n",
              "      <td>['SOCIETY', 'FAITH', 'HISTORY &amp; CULTURE']</td>\n",
              "      <td>['https://www.thehindu.com/society/', 'https:/...</td>\n",
              "      <td>Society News, Religion, History, Culture, Monu...</td>\n",
              "    </tr>\n",
              "    <tr>\n",
              "      <th>6</th>\n",
              "      <td>https://www.thehindu.com/Books/</td>\n",
              "      <td>Books</td>\n",
              "      <td>['BOOKS', 'REVIEWS', 'AUTHORS']</td>\n",
              "      <td>['https://www.thehindu.com/books/', 'https://w...</td>\n",
              "      <td>Book Reviews, Launches, Author Interviews, Exc...</td>\n",
              "    </tr>\n",
              "    <tr>\n",
              "      <th>7</th>\n",
              "      <td>https://www.thehindu.com/Children/</td>\n",
              "      <td>Children</td>\n",
              "      <td>['Children']</td>\n",
              "      <td>['https://www.thehindu.com/Children/']</td>\n",
              "      <td>Children News - The Hindu</td>\n",
              "    </tr>\n",
              "    <tr>\n",
              "      <th>8</th>\n",
              "      <td>https://www.thehindu.com/Life-and-Style/</td>\n",
              "      <td>Life-and-Style</td>\n",
              "      <td>['LIFE &amp; STYLE', 'FASHION', 'FITNESS', 'FOOD',...</td>\n",
              "      <td>['https://www.thehindu.com/life-and-style/', '...</td>\n",
              "      <td>Lifestyle News, Fashion News, Lifestyle And He...</td>\n",
              "    </tr>\n",
              "    <tr>\n",
              "      <th>9</th>\n",
              "      <td>https://www.thehindu.com/Technology/</td>\n",
              "      <td>Technology</td>\n",
              "      <td>['Technology']</td>\n",
              "      <td>['https://www.thehindu.com/Technology/']</td>\n",
              "      <td>Page not found News - The Hindu</td>\n",
              "    </tr>\n",
              "    <tr>\n",
              "      <th>10</th>\n",
              "      <td>https://www.thehindu.com/Sci-Tech/</td>\n",
              "      <td>Sci-Tech</td>\n",
              "      <td>['SCI-TECH', 'SCIENCE', 'TECHNOLOGY', 'HEALTH'...</td>\n",
              "      <td>['https://www.thehindu.com/sci-tech/', 'https:...</td>\n",
              "      <td>Science News, Nature, Technology, Gadgets - Th...</td>\n",
              "    </tr>\n",
              "    <tr>\n",
              "      <th>11</th>\n",
              "      <td>https://www.thehindu.com/Education/</td>\n",
              "      <td>Education</td>\n",
              "      <td>['EDUCATION', 'CAREERS', 'COLLEGES', 'SCHOOLS']</td>\n",
              "      <td>['https://www.thehindu.com/education/', 'https...</td>\n",
              "      <td>Education News, Schools, Colleges, Higher Educ...</td>\n",
              "    </tr>\n",
              "  </tbody>\n",
              "</table>\n",
              "</div>"
            ],
            "text/plain": [
              "                                         url  ...                                               tags\n",
              "0         https://www.thehindu.com/Business/  ...  Business News, Finance News, Market News, Stoc...\n",
              "1      https://www.thehindu.com/Real-Estate/  ...                       Real Estate News - The Hindu\n",
              "2        https://www.thehindu.com/Elections/  ...  Assembly Elections 2020 latest news, updates, ...\n",
              "3            https://www.thehindu.com/Sport/  ...  Live Scores, Latest Sports News, Results, Cric...\n",
              "4    https://www.thehindu.com/Entertainment/  ...  Entertainment News, Cinema News, Movie Reviews...\n",
              "5          https://www.thehindu.com/Society/  ...  Society News, Religion, History, Culture, Monu...\n",
              "6            https://www.thehindu.com/Books/  ...  Book Reviews, Launches, Author Interviews, Exc...\n",
              "7         https://www.thehindu.com/Children/  ...                          Children News - The Hindu\n",
              "8   https://www.thehindu.com/Life-and-Style/  ...  Lifestyle News, Fashion News, Lifestyle And He...\n",
              "9       https://www.thehindu.com/Technology/  ...                    Page not found News - The Hindu\n",
              "10        https://www.thehindu.com/Sci-Tech/  ...  Science News, Nature, Technology, Gadgets - Th...\n",
              "11       https://www.thehindu.com/Education/  ...  Education News, Schools, Colleges, Higher Educ...\n",
              "\n",
              "[12 rows x 5 columns]"
            ]
          },
          "metadata": {
            "tags": []
          },
          "execution_count": 57
        }
      ]
    },
    {
      "cell_type": "code",
      "metadata": {
        "id": "UeNL94pxWBtw",
        "colab": {
          "base_uri": "https://localhost:8080/",
          "height": 574
        },
        "outputId": "86399575-7ab3-4f86-9e42-4fb5f49c0de5"
      },
      "source": [
        "hindu_df = hindu_df.replace({'sub_categories': '\\]', 'sub_category_urls': '\\]'},'', regex=True)\r\n",
        "hindu_df = hindu_df.replace({'sub_categories': '\\[', 'sub_category_urls': '\\['},'', regex=True)\r\n",
        "hindu_df = hindu_df.replace({'sub_categories': \"\\'\", 'sub_category_urls': \"\\'\"},'', regex=True)\r\n",
        "hindu_df"
      ],
      "execution_count": 58,
      "outputs": [
        {
          "output_type": "execute_result",
          "data": {
            "text/html": [
              "<div>\n",
              "<style scoped>\n",
              "    .dataframe tbody tr th:only-of-type {\n",
              "        vertical-align: middle;\n",
              "    }\n",
              "\n",
              "    .dataframe tbody tr th {\n",
              "        vertical-align: top;\n",
              "    }\n",
              "\n",
              "    .dataframe thead th {\n",
              "        text-align: right;\n",
              "    }\n",
              "</style>\n",
              "<table border=\"1\" class=\"dataframe\">\n",
              "  <thead>\n",
              "    <tr style=\"text-align: right;\">\n",
              "      <th></th>\n",
              "      <th>url</th>\n",
              "      <th>category</th>\n",
              "      <th>sub_categories</th>\n",
              "      <th>sub_category_urls</th>\n",
              "      <th>tags</th>\n",
              "    </tr>\n",
              "  </thead>\n",
              "  <tbody>\n",
              "    <tr>\n",
              "      <th>0</th>\n",
              "      <td>https://www.thehindu.com/Business/</td>\n",
              "      <td>Business</td>\n",
              "      <td>BUSINESS, AGRI-BUSINESS, INDUSTRY, ECONOMY, MA...</td>\n",
              "      <td>https://www.thehindu.com/business/, https://ww...</td>\n",
              "      <td>Business News, Finance News, Market News, Stoc...</td>\n",
              "    </tr>\n",
              "    <tr>\n",
              "      <th>1</th>\n",
              "      <td>https://www.thehindu.com/Real-Estate/</td>\n",
              "      <td>Real-Estate</td>\n",
              "      <td>Real-Estate</td>\n",
              "      <td>https://www.thehindu.com/Real-Estate/</td>\n",
              "      <td>Real Estate News - The Hindu</td>\n",
              "    </tr>\n",
              "    <tr>\n",
              "      <th>2</th>\n",
              "      <td>https://www.thehindu.com/Elections/</td>\n",
              "      <td>Elections</td>\n",
              "      <td>Elections</td>\n",
              "      <td>https://www.thehindu.com/Elections/</td>\n",
              "      <td>Assembly Elections 2020 latest news, updates, ...</td>\n",
              "    </tr>\n",
              "    <tr>\n",
              "      <th>3</th>\n",
              "      <td>https://www.thehindu.com/Sport/</td>\n",
              "      <td>Sport</td>\n",
              "      <td>SPORT, CRICKET, FOOTBALL, HOCKEY, TENNIS, ATHL...</td>\n",
              "      <td>https://www.thehindu.com/sport/, https://www.t...</td>\n",
              "      <td>Live Scores, Latest Sports News, Results, Cric...</td>\n",
              "    </tr>\n",
              "    <tr>\n",
              "      <th>4</th>\n",
              "      <td>https://www.thehindu.com/Entertainment/</td>\n",
              "      <td>Entertainment</td>\n",
              "      <td>ENTERTAINMENT, ART, DANCE, MOVIES, MUSIC, REVI...</td>\n",
              "      <td>https://www.thehindu.com/entertainment/, https...</td>\n",
              "      <td>Entertainment News, Cinema News, Movie Reviews...</td>\n",
              "    </tr>\n",
              "    <tr>\n",
              "      <th>5</th>\n",
              "      <td>https://www.thehindu.com/Society/</td>\n",
              "      <td>Society</td>\n",
              "      <td>SOCIETY, FAITH, HISTORY &amp; CULTURE</td>\n",
              "      <td>https://www.thehindu.com/society/, https://www...</td>\n",
              "      <td>Society News, Religion, History, Culture, Monu...</td>\n",
              "    </tr>\n",
              "    <tr>\n",
              "      <th>6</th>\n",
              "      <td>https://www.thehindu.com/Books/</td>\n",
              "      <td>Books</td>\n",
              "      <td>BOOKS, REVIEWS, AUTHORS</td>\n",
              "      <td>https://www.thehindu.com/books/, https://www.t...</td>\n",
              "      <td>Book Reviews, Launches, Author Interviews, Exc...</td>\n",
              "    </tr>\n",
              "    <tr>\n",
              "      <th>7</th>\n",
              "      <td>https://www.thehindu.com/Children/</td>\n",
              "      <td>Children</td>\n",
              "      <td>Children</td>\n",
              "      <td>https://www.thehindu.com/Children/</td>\n",
              "      <td>Children News - The Hindu</td>\n",
              "    </tr>\n",
              "    <tr>\n",
              "      <th>8</th>\n",
              "      <td>https://www.thehindu.com/Life-and-Style/</td>\n",
              "      <td>Life-and-Style</td>\n",
              "      <td>LIFE &amp; STYLE, FASHION, FITNESS, FOOD, MOTORING...</td>\n",
              "      <td>https://www.thehindu.com/life-and-style/, http...</td>\n",
              "      <td>Lifestyle News, Fashion News, Lifestyle And He...</td>\n",
              "    </tr>\n",
              "    <tr>\n",
              "      <th>9</th>\n",
              "      <td>https://www.thehindu.com/Technology/</td>\n",
              "      <td>Technology</td>\n",
              "      <td>Technology</td>\n",
              "      <td>https://www.thehindu.com/Technology/</td>\n",
              "      <td>Page not found News - The Hindu</td>\n",
              "    </tr>\n",
              "    <tr>\n",
              "      <th>10</th>\n",
              "      <td>https://www.thehindu.com/Sci-Tech/</td>\n",
              "      <td>Sci-Tech</td>\n",
              "      <td>SCI-TECH, SCIENCE, TECHNOLOGY, HEALTH, AGRICUL...</td>\n",
              "      <td>https://www.thehindu.com/sci-tech/, https://ww...</td>\n",
              "      <td>Science News, Nature, Technology, Gadgets - Th...</td>\n",
              "    </tr>\n",
              "    <tr>\n",
              "      <th>11</th>\n",
              "      <td>https://www.thehindu.com/Education/</td>\n",
              "      <td>Education</td>\n",
              "      <td>EDUCATION, CAREERS, COLLEGES, SCHOOLS</td>\n",
              "      <td>https://www.thehindu.com/education/, https://w...</td>\n",
              "      <td>Education News, Schools, Colleges, Higher Educ...</td>\n",
              "    </tr>\n",
              "  </tbody>\n",
              "</table>\n",
              "</div>"
            ],
            "text/plain": [
              "                                         url  ...                                               tags\n",
              "0         https://www.thehindu.com/Business/  ...  Business News, Finance News, Market News, Stoc...\n",
              "1      https://www.thehindu.com/Real-Estate/  ...                       Real Estate News - The Hindu\n",
              "2        https://www.thehindu.com/Elections/  ...  Assembly Elections 2020 latest news, updates, ...\n",
              "3            https://www.thehindu.com/Sport/  ...  Live Scores, Latest Sports News, Results, Cric...\n",
              "4    https://www.thehindu.com/Entertainment/  ...  Entertainment News, Cinema News, Movie Reviews...\n",
              "5          https://www.thehindu.com/Society/  ...  Society News, Religion, History, Culture, Monu...\n",
              "6            https://www.thehindu.com/Books/  ...  Book Reviews, Launches, Author Interviews, Exc...\n",
              "7         https://www.thehindu.com/Children/  ...                          Children News - The Hindu\n",
              "8   https://www.thehindu.com/Life-and-Style/  ...  Lifestyle News, Fashion News, Lifestyle And He...\n",
              "9       https://www.thehindu.com/Technology/  ...                    Page not found News - The Hindu\n",
              "10        https://www.thehindu.com/Sci-Tech/  ...  Science News, Nature, Technology, Gadgets - Th...\n",
              "11       https://www.thehindu.com/Education/  ...  Education News, Schools, Colleges, Higher Educ...\n",
              "\n",
              "[12 rows x 5 columns]"
            ]
          },
          "metadata": {
            "tags": []
          },
          "execution_count": 58
        }
      ]
    },
    {
      "cell_type": "code",
      "metadata": {
        "id": "9U57j7e7Flhf",
        "colab": {
          "base_uri": "https://localhost:8080/"
        },
        "outputId": "6751d009-61bd-4ac0-c0cd-1a03792ad6cb"
      },
      "source": [
        "cat = hindu_df['sub_category_urls'].iloc[0]\r\n",
        "links = cat.split(',')\r\n",
        "for i in links:\r\n",
        "  print(i)"
      ],
      "execution_count": 66,
      "outputs": [
        {
          "output_type": "stream",
          "text": [
            "https://www.thehindu.com/business/\n",
            " https://www.thehindu.com/business/agri-business/\n",
            " https://www.thehindu.com/business/Industry/\n",
            " https://www.thehindu.com/business/Economy/\n",
            " https://www.thehindu.com/business/markets/\n",
            " https://www.thehindu.com/business/budget/\n"
          ],
          "name": "stdout"
        }
      ]
    },
    {
      "cell_type": "code",
      "metadata": {
        "id": "qc4t97nYUN07"
      },
      "source": [
        "article = {\r\n",
        "    'category': 'cd',\r\n",
        "    'sub_category':'dc',\r\n",
        "    'sub_category_url':'cd' ,\r\n",
        "    'Article_url':'c'\r\n",
        "}"
      ],
      "execution_count": 106,
      "outputs": []
    },
    {
      "cell_type": "code",
      "metadata": {
        "colab": {
          "base_uri": "https://localhost:8080/"
        },
        "id": "PPnzH0lJeda1",
        "outputId": "26d39407-07f5-4780-be50-8d015e856526"
      },
      "source": [
        "article"
      ],
      "execution_count": 107,
      "outputs": [
        {
          "output_type": "execute_result",
          "data": {
            "text/plain": [
              "{'Article_url': 'c',\n",
              " 'category': 'cd',\n",
              " 'sub_category': 'dc',\n",
              " 'sub_category_url': 'cd'}"
            ]
          },
          "metadata": {
            "tags": []
          },
          "execution_count": 107
        }
      ]
    },
    {
      "cell_type": "code",
      "metadata": {
        "colab": {
          "base_uri": "https://localhost:8080/"
        },
        "id": "jqZrxjtAfd7x",
        "outputId": "00ca1a14-ca3f-4d24-a1cf-1e3eaf95d307"
      },
      "source": [
        "hindu_df.iloc[1][2].split(',')"
      ],
      "execution_count": 94,
      "outputs": [
        {
          "output_type": "execute_result",
          "data": {
            "text/plain": [
              "['Real-Estate']"
            ]
          },
          "metadata": {
            "tags": []
          },
          "execution_count": 94
        }
      ]
    },
    {
      "cell_type": "code",
      "metadata": {
        "colab": {
          "base_uri": "https://localhost:8080/",
          "height": 80
        },
        "id": "EnQc4a3FgUFJ",
        "outputId": "b0a666f6-12fb-42ed-8261-1a9949f898e8"
      },
      "source": [
        "df = pd.DataFrame(article, index=[0])\r\n",
        "df "
      ],
      "execution_count": 123,
      "outputs": [
        {
          "output_type": "execute_result",
          "data": {
            "text/html": [
              "<div>\n",
              "<style scoped>\n",
              "    .dataframe tbody tr th:only-of-type {\n",
              "        vertical-align: middle;\n",
              "    }\n",
              "\n",
              "    .dataframe tbody tr th {\n",
              "        vertical-align: top;\n",
              "    }\n",
              "\n",
              "    .dataframe thead th {\n",
              "        text-align: right;\n",
              "    }\n",
              "</style>\n",
              "<table border=\"1\" class=\"dataframe\">\n",
              "  <thead>\n",
              "    <tr style=\"text-align: right;\">\n",
              "      <th></th>\n",
              "      <th>category</th>\n",
              "      <th>sub_category</th>\n",
              "      <th>sub_category_url</th>\n",
              "      <th>Article_url</th>\n",
              "    </tr>\n",
              "  </thead>\n",
              "  <tbody>\n",
              "    <tr>\n",
              "      <th>0</th>\n",
              "      <td>cd</td>\n",
              "      <td>dc</td>\n",
              "      <td>cd</td>\n",
              "      <td>c</td>\n",
              "    </tr>\n",
              "  </tbody>\n",
              "</table>\n",
              "</div>"
            ],
            "text/plain": [
              "  category sub_category sub_category_url Article_url\n",
              "0       cd           dc               cd           c"
            ]
          },
          "metadata": {
            "tags": []
          },
          "execution_count": 123
        }
      ]
    },
    {
      "cell_type": "code",
      "metadata": {
        "colab": {
          "base_uri": "https://localhost:8080/",
          "height": 49
        },
        "id": "uY8vJxNlmY1i",
        "outputId": "856d601f-a9fb-4725-eac2-bbda335981d1"
      },
      "source": [
        "df1 = pd.DataFrame(columns= ['category', 'sub_category', 'sub_category_url', 'Article_url'])\r\n",
        "df1"
      ],
      "execution_count": 132,
      "outputs": [
        {
          "output_type": "execute_result",
          "data": {
            "text/html": [
              "<div>\n",
              "<style scoped>\n",
              "    .dataframe tbody tr th:only-of-type {\n",
              "        vertical-align: middle;\n",
              "    }\n",
              "\n",
              "    .dataframe tbody tr th {\n",
              "        vertical-align: top;\n",
              "    }\n",
              "\n",
              "    .dataframe thead th {\n",
              "        text-align: right;\n",
              "    }\n",
              "</style>\n",
              "<table border=\"1\" class=\"dataframe\">\n",
              "  <thead>\n",
              "    <tr style=\"text-align: right;\">\n",
              "      <th></th>\n",
              "      <th>category</th>\n",
              "      <th>sub_category</th>\n",
              "      <th>sub_category_url</th>\n",
              "      <th>Article_url</th>\n",
              "    </tr>\n",
              "  </thead>\n",
              "  <tbody>\n",
              "  </tbody>\n",
              "</table>\n",
              "</div>"
            ],
            "text/plain": [
              "Empty DataFrame\n",
              "Columns: [category, sub_category, sub_category_url, Article_url]\n",
              "Index: []"
            ]
          },
          "metadata": {
            "tags": []
          },
          "execution_count": 132
        }
      ]
    },
    {
      "cell_type": "code",
      "metadata": {
        "colab": {
          "base_uri": "https://localhost:8080/",
          "height": 111
        },
        "id": "GnqpCYFjkCY8",
        "outputId": "9e5b2d2c-242a-4b44-8ae4-4526884c9ac0"
      },
      "source": [
        "dt = pd.concat([df1,df])\r\n",
        "dt = pd.concat([dt,df])\r\n",
        "dt"
      ],
      "execution_count": 135,
      "outputs": [
        {
          "output_type": "execute_result",
          "data": {
            "text/html": [
              "<div>\n",
              "<style scoped>\n",
              "    .dataframe tbody tr th:only-of-type {\n",
              "        vertical-align: middle;\n",
              "    }\n",
              "\n",
              "    .dataframe tbody tr th {\n",
              "        vertical-align: top;\n",
              "    }\n",
              "\n",
              "    .dataframe thead th {\n",
              "        text-align: right;\n",
              "    }\n",
              "</style>\n",
              "<table border=\"1\" class=\"dataframe\">\n",
              "  <thead>\n",
              "    <tr style=\"text-align: right;\">\n",
              "      <th></th>\n",
              "      <th>category</th>\n",
              "      <th>sub_category</th>\n",
              "      <th>sub_category_url</th>\n",
              "      <th>Article_url</th>\n",
              "    </tr>\n",
              "  </thead>\n",
              "  <tbody>\n",
              "    <tr>\n",
              "      <th>0</th>\n",
              "      <td>cd</td>\n",
              "      <td>dc</td>\n",
              "      <td>cd</td>\n",
              "      <td>c</td>\n",
              "    </tr>\n",
              "    <tr>\n",
              "      <th>0</th>\n",
              "      <td>cd</td>\n",
              "      <td>dc</td>\n",
              "      <td>cd</td>\n",
              "      <td>c</td>\n",
              "    </tr>\n",
              "  </tbody>\n",
              "</table>\n",
              "</div>"
            ],
            "text/plain": [
              "  category sub_category sub_category_url Article_url\n",
              "0       cd           dc               cd           c\n",
              "0       cd           dc               cd           c"
            ]
          },
          "metadata": {
            "tags": []
          },
          "execution_count": 135
        }
      ]
    },
    {
      "cell_type": "code",
      "metadata": {
        "colab": {
          "base_uri": "https://localhost:8080/",
          "height": 357
        },
        "id": "1Ii1l8lMhoT7",
        "outputId": "bc79de5d-d84a-4a07-c1a2-4b93290370d1"
      },
      "source": [
        "df['category'] = df['category'].append('dsdc')\r\n",
        "df['sub_category'] = 'dsdcdsd'\r\n",
        "df['sub_category_url'] = 'dsdcsxsxs'\r\n",
        "df['Article_url'] = 4\r\n",
        "df"
      ],
      "execution_count": 104,
      "outputs": [
        {
          "output_type": "error",
          "ename": "TypeError",
          "evalue": "ignored",
          "traceback": [
            "\u001b[0;31m---------------------------------------------------------------------------\u001b[0m",
            "\u001b[0;31mTypeError\u001b[0m                                 Traceback (most recent call last)",
            "\u001b[0;32m<ipython-input-104-ef0a9aaf6449>\u001b[0m in \u001b[0;36m<module>\u001b[0;34m()\u001b[0m\n\u001b[0;32m----> 1\u001b[0;31m \u001b[0mdf\u001b[0m\u001b[0;34m[\u001b[0m\u001b[0;34m'category'\u001b[0m\u001b[0;34m]\u001b[0m \u001b[0;34m=\u001b[0m \u001b[0mdf\u001b[0m\u001b[0;34m[\u001b[0m\u001b[0;34m'category'\u001b[0m\u001b[0;34m]\u001b[0m\u001b[0;34m.\u001b[0m\u001b[0mappend\u001b[0m\u001b[0;34m(\u001b[0m\u001b[0;34m'dsdc'\u001b[0m\u001b[0;34m)\u001b[0m\u001b[0;34m\u001b[0m\u001b[0;34m\u001b[0m\u001b[0m\n\u001b[0m\u001b[1;32m      2\u001b[0m \u001b[0;34m\u001b[0m\u001b[0m\n\u001b[1;32m      3\u001b[0m \u001b[0mdf\u001b[0m\u001b[0;34m\u001b[0m\u001b[0;34m\u001b[0m\u001b[0m\n",
            "\u001b[0;32m/usr/local/lib/python3.7/dist-packages/pandas/core/series.py\u001b[0m in \u001b[0;36mappend\u001b[0;34m(self, to_append, ignore_index, verify_integrity)\u001b[0m\n\u001b[1;32m   2700\u001b[0m             \u001b[0;32mraise\u001b[0m \u001b[0mTypeError\u001b[0m\u001b[0;34m(\u001b[0m\u001b[0mmsg\u001b[0m\u001b[0;34m)\u001b[0m\u001b[0;34m\u001b[0m\u001b[0;34m\u001b[0m\u001b[0m\n\u001b[1;32m   2701\u001b[0m         return concat(\n\u001b[0;32m-> 2702\u001b[0;31m             \u001b[0mto_concat\u001b[0m\u001b[0;34m,\u001b[0m \u001b[0mignore_index\u001b[0m\u001b[0;34m=\u001b[0m\u001b[0mignore_index\u001b[0m\u001b[0;34m,\u001b[0m \u001b[0mverify_integrity\u001b[0m\u001b[0;34m=\u001b[0m\u001b[0mverify_integrity\u001b[0m\u001b[0;34m\u001b[0m\u001b[0;34m\u001b[0m\u001b[0m\n\u001b[0m\u001b[1;32m   2703\u001b[0m         )\n\u001b[1;32m   2704\u001b[0m \u001b[0;34m\u001b[0m\u001b[0m\n",
            "\u001b[0;32m/usr/local/lib/python3.7/dist-packages/pandas/core/reshape/concat.py\u001b[0m in \u001b[0;36mconcat\u001b[0;34m(objs, axis, join, ignore_index, keys, levels, names, verify_integrity, sort, copy)\u001b[0m\n\u001b[1;32m    282\u001b[0m         \u001b[0mverify_integrity\u001b[0m\u001b[0;34m=\u001b[0m\u001b[0mverify_integrity\u001b[0m\u001b[0;34m,\u001b[0m\u001b[0;34m\u001b[0m\u001b[0;34m\u001b[0m\u001b[0m\n\u001b[1;32m    283\u001b[0m         \u001b[0mcopy\u001b[0m\u001b[0;34m=\u001b[0m\u001b[0mcopy\u001b[0m\u001b[0;34m,\u001b[0m\u001b[0;34m\u001b[0m\u001b[0;34m\u001b[0m\u001b[0m\n\u001b[0;32m--> 284\u001b[0;31m         \u001b[0msort\u001b[0m\u001b[0;34m=\u001b[0m\u001b[0msort\u001b[0m\u001b[0;34m,\u001b[0m\u001b[0;34m\u001b[0m\u001b[0;34m\u001b[0m\u001b[0m\n\u001b[0m\u001b[1;32m    285\u001b[0m     )\n\u001b[1;32m    286\u001b[0m \u001b[0;34m\u001b[0m\u001b[0m\n",
            "\u001b[0;32m/usr/local/lib/python3.7/dist-packages/pandas/core/reshape/concat.py\u001b[0m in \u001b[0;36m__init__\u001b[0;34m(self, objs, axis, join, keys, levels, names, ignore_index, verify_integrity, copy, sort)\u001b[0m\n\u001b[1;32m    357\u001b[0m                     \u001b[0;34m\"only Series and DataFrame objs are valid\"\u001b[0m\u001b[0;34m\u001b[0m\u001b[0;34m\u001b[0m\u001b[0m\n\u001b[1;32m    358\u001b[0m                 )\n\u001b[0;32m--> 359\u001b[0;31m                 \u001b[0;32mraise\u001b[0m \u001b[0mTypeError\u001b[0m\u001b[0;34m(\u001b[0m\u001b[0mmsg\u001b[0m\u001b[0;34m)\u001b[0m\u001b[0;34m\u001b[0m\u001b[0;34m\u001b[0m\u001b[0m\n\u001b[0m\u001b[1;32m    360\u001b[0m \u001b[0;34m\u001b[0m\u001b[0m\n\u001b[1;32m    361\u001b[0m             \u001b[0;31m# consolidate\u001b[0m\u001b[0;34m\u001b[0m\u001b[0;34m\u001b[0m\u001b[0;34m\u001b[0m\u001b[0m\n",
            "\u001b[0;31mTypeError\u001b[0m: cannot concatenate object of type '<class 'str'>'; only Series and DataFrame objs are valid"
          ]
        }
      ]
    },
    {
      "cell_type": "code",
      "metadata": {
        "colab": {
          "base_uri": "https://localhost:8080/"
        },
        "id": "3_2enrzbc9Md",
        "outputId": "2d6ea820-15c6-434a-d468-614a0164f3df"
      },
      "source": [
        "for index in range(len(hindu_df)):\r\n",
        "\r\n",
        "  #article['category'] = hindu_df.iloc[index][1]\r\n",
        "  \r\n",
        "  sub_category_list = hindu_df.iloc[index][2].split(',')\r\n",
        "  if len(sub_category_list) > 1:\r\n",
        "    for sub_category in sub_category_list[1:]:\r\n",
        "      article['sub_category'] = sub_category\r\n",
        "  \r\n",
        "  else:\r\n",
        "    print(sub_category_list[0])"
      ],
      "execution_count": 96,
      "outputs": [
        {
          "output_type": "stream",
          "text": [
            " AGRI-BUSINESS\n",
            " INDUSTRY\n",
            " ECONOMY\n",
            " MARKETS\n",
            " BUDGET 2021\n",
            " \n",
            "Real-Estate\n",
            "Elections\n",
            " CRICKET\n",
            " FOOTBALL\n",
            " HOCKEY\n",
            " TENNIS\n",
            " ATHLETICS\n",
            " \n",
            " \n",
            " \n",
            " ART\n",
            " DANCE\n",
            " MOVIES\n",
            " MUSIC\n",
            " REVIEWS\n",
            " \n",
            " FAITH\n",
            " HISTORY & CULTURE\n",
            " REVIEWS\n",
            " AUTHORS\n",
            "Children\n",
            " FASHION\n",
            " FITNESS\n",
            " FOOD\n",
            " MOTORING\n",
            " TRAVEL\n",
            " \n",
            " \n",
            "Technology\n",
            " SCIENCE\n",
            " TECHNOLOGY\n",
            " HEALTH\n",
            " AGRICULTURE\n",
            " ENVIRONMENT\n",
            " \n",
            " \n",
            " CAREERS\n",
            " COLLEGES\n",
            " SCHOOLS\n"
          ],
          "name": "stdout"
        }
      ]
    },
    {
      "cell_type": "code",
      "metadata": {
        "id": "R8pJp97pc9KD"
      },
      "source": [
        ""
      ],
      "execution_count": null,
      "outputs": []
    },
    {
      "cell_type": "code",
      "metadata": {
        "id": "vVmy7vFYc9HR"
      },
      "source": [
        ""
      ],
      "execution_count": null,
      "outputs": []
    },
    {
      "cell_type": "code",
      "metadata": {
        "id": "ZdXA38aq0uYt",
        "colab": {
          "base_uri": "https://localhost:8080/",
          "height": 35
        },
        "outputId": "219aa8f8-e472-45c0-9f3d-7c9bc9001a30"
      },
      "source": [
        "#https://www.thehindu.com/entertainment/\r\n",
        "driver.get('https://www.thehindu.com/business/agri-business/')\r\n",
        "driver.title"
      ],
      "execution_count": 67,
      "outputs": [
        {
          "output_type": "execute_result",
          "data": {
            "application/vnd.google.colaboratory.intrinsic+json": {
              "type": "string"
            },
            "text/plain": [
              "'Latest Agricultural News, Crop Prices, Farming News, Agri Business - The Hindu'"
            ]
          },
          "metadata": {
            "tags": []
          },
          "execution_count": 67
        }
      ]
    },
    {
      "cell_type": "code",
      "metadata": {
        "colab": {
          "base_uri": "https://localhost:8080/"
        },
        "id": "22y1G2IG_783",
        "outputId": "754713cf-0459-4804-f40c-ee878b17c91a"
      },
      "source": [
        "x = driver.find_elements_by_class_name('Other-StoryCard')\r\n",
        "x\r\n"
      ],
      "execution_count": 68,
      "outputs": [
        {
          "output_type": "execute_result",
          "data": {
            "text/plain": [
              "[<selenium.webdriver.remote.webelement.WebElement (session=\"95d9ebf2835d0bcf33ae142bb9177b46\", element=\"1b318eb6-1b9c-45a1-a760-7428ecf2a3b0\")>,\n",
              " <selenium.webdriver.remote.webelement.WebElement (session=\"95d9ebf2835d0bcf33ae142bb9177b46\", element=\"3071092c-bf5b-4be3-897f-3f5590bfefa3\")>,\n",
              " <selenium.webdriver.remote.webelement.WebElement (session=\"95d9ebf2835d0bcf33ae142bb9177b46\", element=\"f696bff0-4c54-49a4-b2a6-5c74cf4ef1f6\")>,\n",
              " <selenium.webdriver.remote.webelement.WebElement (session=\"95d9ebf2835d0bcf33ae142bb9177b46\", element=\"5a2009a0-db37-4f6c-9862-d6fbdbab227e\")>,\n",
              " <selenium.webdriver.remote.webelement.WebElement (session=\"95d9ebf2835d0bcf33ae142bb9177b46\", element=\"644780d7-816a-438d-9d48-a46ceacb7b51\")>,\n",
              " <selenium.webdriver.remote.webelement.WebElement (session=\"95d9ebf2835d0bcf33ae142bb9177b46\", element=\"09fddff1-c473-494e-b509-0e807a190443\")>,\n",
              " <selenium.webdriver.remote.webelement.WebElement (session=\"95d9ebf2835d0bcf33ae142bb9177b46\", element=\"318efac3-8102-40f7-a90a-37576385e18c\")>,\n",
              " <selenium.webdriver.remote.webelement.WebElement (session=\"95d9ebf2835d0bcf33ae142bb9177b46\", element=\"aab66226-3401-4511-8c7e-83ef5918b3fd\")>,\n",
              " <selenium.webdriver.remote.webelement.WebElement (session=\"95d9ebf2835d0bcf33ae142bb9177b46\", element=\"25670499-21ad-4703-a4d2-3ca64c332b57\")>,\n",
              " <selenium.webdriver.remote.webelement.WebElement (session=\"95d9ebf2835d0bcf33ae142bb9177b46\", element=\"b35a697c-095e-4c93-abb1-92a67a91a466\")>,\n",
              " <selenium.webdriver.remote.webelement.WebElement (session=\"95d9ebf2835d0bcf33ae142bb9177b46\", element=\"e3c5dda1-896b-46f5-a82f-63bcd011659a\")>,\n",
              " <selenium.webdriver.remote.webelement.WebElement (session=\"95d9ebf2835d0bcf33ae142bb9177b46\", element=\"53bb2a59-991d-4a57-87a0-007f2bd35dcf\")>,\n",
              " <selenium.webdriver.remote.webelement.WebElement (session=\"95d9ebf2835d0bcf33ae142bb9177b46\", element=\"520f4afe-9c60-4223-a223-a9c1e3901dac\")>,\n",
              " <selenium.webdriver.remote.webelement.WebElement (session=\"95d9ebf2835d0bcf33ae142bb9177b46\", element=\"233beafb-0d3d-4cd3-90f8-03543f34ce8b\")>,\n",
              " <selenium.webdriver.remote.webelement.WebElement (session=\"95d9ebf2835d0bcf33ae142bb9177b46\", element=\"46f7c090-1cfa-4ed4-9eee-c924eb4f4e10\")>,\n",
              " <selenium.webdriver.remote.webelement.WebElement (session=\"95d9ebf2835d0bcf33ae142bb9177b46\", element=\"0c92ce00-0426-4613-a27c-1eb863995e7f\")>,\n",
              " <selenium.webdriver.remote.webelement.WebElement (session=\"95d9ebf2835d0bcf33ae142bb9177b46\", element=\"88b74b10-2b1b-4edb-805c-cb523f5d7c2c\")>,\n",
              " <selenium.webdriver.remote.webelement.WebElement (session=\"95d9ebf2835d0bcf33ae142bb9177b46\", element=\"f07646fa-0262-40d0-bc2a-d27921b03110\")>,\n",
              " <selenium.webdriver.remote.webelement.WebElement (session=\"95d9ebf2835d0bcf33ae142bb9177b46\", element=\"b79bf833-e6b5-437d-a7fb-1d1945fbaefd\")>,\n",
              " <selenium.webdriver.remote.webelement.WebElement (session=\"95d9ebf2835d0bcf33ae142bb9177b46\", element=\"722a4065-a2da-4437-b20b-67625dea037b\")>,\n",
              " <selenium.webdriver.remote.webelement.WebElement (session=\"95d9ebf2835d0bcf33ae142bb9177b46\", element=\"194d07fd-0140-4c9e-9584-9247093ba092\")>,\n",
              " <selenium.webdriver.remote.webelement.WebElement (session=\"95d9ebf2835d0bcf33ae142bb9177b46\", element=\"e34d7c4f-6d08-447f-ab8e-96252815f19f\")>,\n",
              " <selenium.webdriver.remote.webelement.WebElement (session=\"95d9ebf2835d0bcf33ae142bb9177b46\", element=\"deed2a25-ac37-4f57-b59c-671155c4b3af\")>,\n",
              " <selenium.webdriver.remote.webelement.WebElement (session=\"95d9ebf2835d0bcf33ae142bb9177b46\", element=\"6a2b6e6a-070a-48dd-834c-8335235efe5d\")>,\n",
              " <selenium.webdriver.remote.webelement.WebElement (session=\"95d9ebf2835d0bcf33ae142bb9177b46\", element=\"89107046-3d67-465d-982a-7e51cda38e65\")>,\n",
              " <selenium.webdriver.remote.webelement.WebElement (session=\"95d9ebf2835d0bcf33ae142bb9177b46\", element=\"6ebc5d84-0aee-4446-bfa6-38ee6c10ec82\")>,\n",
              " <selenium.webdriver.remote.webelement.WebElement (session=\"95d9ebf2835d0bcf33ae142bb9177b46\", element=\"09d275b5-be2c-46ab-84cc-dffe0d4c8caf\")>,\n",
              " <selenium.webdriver.remote.webelement.WebElement (session=\"95d9ebf2835d0bcf33ae142bb9177b46\", element=\"4c7d68de-be64-4ee2-ba10-de9952e7d1ae\")>,\n",
              " <selenium.webdriver.remote.webelement.WebElement (session=\"95d9ebf2835d0bcf33ae142bb9177b46\", element=\"10e2ccf6-3882-4d46-b068-8ba186a06e30\")>,\n",
              " <selenium.webdriver.remote.webelement.WebElement (session=\"95d9ebf2835d0bcf33ae142bb9177b46\", element=\"c52bf42d-4089-4b81-8855-ddac2d93bfbb\")>,\n",
              " <selenium.webdriver.remote.webelement.WebElement (session=\"95d9ebf2835d0bcf33ae142bb9177b46\", element=\"60a9f52d-eba3-4ca9-92af-138ed480e7f1\")>,\n",
              " <selenium.webdriver.remote.webelement.WebElement (session=\"95d9ebf2835d0bcf33ae142bb9177b46\", element=\"f613b830-ce3c-4fd3-955d-cb9463fe78bf\")>,\n",
              " <selenium.webdriver.remote.webelement.WebElement (session=\"95d9ebf2835d0bcf33ae142bb9177b46\", element=\"a027bfb2-110d-45ae-8ce4-74914d488027\")>,\n",
              " <selenium.webdriver.remote.webelement.WebElement (session=\"95d9ebf2835d0bcf33ae142bb9177b46\", element=\"3c7f1b14-58a9-4bc4-8dda-a1f0f1f1a6fa\")>,\n",
              " <selenium.webdriver.remote.webelement.WebElement (session=\"95d9ebf2835d0bcf33ae142bb9177b46\", element=\"e9f55360-9bb3-4ed9-9afb-732f7556240a\")>,\n",
              " <selenium.webdriver.remote.webelement.WebElement (session=\"95d9ebf2835d0bcf33ae142bb9177b46\", element=\"69872b57-2b2a-4486-8e59-979257931e7a\")>,\n",
              " <selenium.webdriver.remote.webelement.WebElement (session=\"95d9ebf2835d0bcf33ae142bb9177b46\", element=\"9f088386-9757-4bb0-bab9-f7867e80b008\")>,\n",
              " <selenium.webdriver.remote.webelement.WebElement (session=\"95d9ebf2835d0bcf33ae142bb9177b46\", element=\"3e231461-0fec-4971-8e02-b0e403f42cb3\")>,\n",
              " <selenium.webdriver.remote.webelement.WebElement (session=\"95d9ebf2835d0bcf33ae142bb9177b46\", element=\"2e08142e-59cf-4192-98cf-311bc5fa0e8b\")>,\n",
              " <selenium.webdriver.remote.webelement.WebElement (session=\"95d9ebf2835d0bcf33ae142bb9177b46\", element=\"723ff779-7d57-462f-b5ec-fd8747fea343\")>,\n",
              " <selenium.webdriver.remote.webelement.WebElement (session=\"95d9ebf2835d0bcf33ae142bb9177b46\", element=\"35e0d71c-e575-48c2-af89-3456e29c2c5d\")>,\n",
              " <selenium.webdriver.remote.webelement.WebElement (session=\"95d9ebf2835d0bcf33ae142bb9177b46\", element=\"653d5a94-5f93-4630-9da1-2d4498d5224d\")>]"
            ]
          },
          "metadata": {
            "tags": []
          },
          "execution_count": 68
        }
      ]
    },
    {
      "cell_type": "code",
      "metadata": {
        "colab": {
          "base_uri": "https://localhost:8080/",
          "height": 52
        },
        "id": "HCsoYj98_7Ns",
        "outputId": "69723393-187c-494f-c8ad-57586c18de6a"
      },
      "source": [
        "x[0].text"
      ],
      "execution_count": 69,
      "outputs": [
        {
          "output_type": "execute_result",
          "data": {
            "application/vnd.google.colaboratory.intrinsic+json": {
              "type": "string"
            },
            "text/plain": [
              "'Govt. extends relaxed norms for onion imports till Jan. 31\\nOnion prices have started moderating to some extent in some parts of the country with the arrival of the new crop.'"
            ]
          },
          "metadata": {
            "tags": []
          },
          "execution_count": 69
        }
      ]
    },
    {
      "cell_type": "code",
      "metadata": {
        "colab": {
          "base_uri": "https://localhost:8080/",
          "height": 35
        },
        "id": "aJTsLNSG_7K4",
        "outputId": "32dfb88e-029a-42dc-ad36-a03c042e1ac9"
      },
      "source": [
        "anchorElement = x[0].find_element_by_tag_name('a')\r\n",
        "anchorElement.get_attribute(\"href\")"
      ],
      "execution_count": 71,
      "outputs": [
        {
          "output_type": "execute_result",
          "data": {
            "application/vnd.google.colaboratory.intrinsic+json": {
              "type": "string"
            },
            "text/plain": [
              "'https://www.thehindu.com/business/agri-business/govt-extends-relaxed-norms-for-onion-imports-till-jan-31/article33355071.ece'"
            ]
          },
          "metadata": {
            "tags": []
          },
          "execution_count": 71
        }
      ]
    },
    {
      "cell_type": "code",
      "metadata": {
        "colab": {
          "base_uri": "https://localhost:8080/"
        },
        "id": "QaEQIWqqdQGj",
        "outputId": "29506e51-30b4-42c8-a172-009a266142e7"
      },
      "source": [
        "len(x)"
      ],
      "execution_count": 75,
      "outputs": [
        {
          "output_type": "execute_result",
          "data": {
            "text/plain": [
              "42"
            ]
          },
          "metadata": {
            "tags": []
          },
          "execution_count": 75
        }
      ]
    },
    {
      "cell_type": "markdown",
      "metadata": {
        "id": "qDIYhvIciCQj"
      },
      "source": [
        "## Page Indian Express"
      ]
    },
    {
      "cell_type": "code",
      "metadata": {
        "id": "wXDC8zwb_7Hq"
      },
      "source": [
        "# https://indianexpress.com/section/cities/\r\n",
        "\r\n",
        "# https://indianexpress.com/parenting/\r\n",
        "\r\n",
        "'''\r\n",
        "//*[@id=\"section\"]/div/div[2]/div[1]/div[2]/ul/li[2]/a\r\n",
        "\r\n",
        "//*[@id=\"section\"]/div/div[2]/div[1]/div[2]/ul/li[3]/a\r\n",
        "'''"
      ],
      "execution_count": null,
      "outputs": []
    },
    {
      "cell_type": "code",
      "metadata": {
        "id": "rHRR3W_w_7GH"
      },
      "source": [
        ""
      ],
      "execution_count": null,
      "outputs": []
    },
    {
      "cell_type": "code",
      "metadata": {
        "id": "PeEaAk-PhzGX"
      },
      "source": [
        ""
      ],
      "execution_count": null,
      "outputs": []
    },
    {
      "cell_type": "code",
      "metadata": {
        "id": "0J6Ra7DnhzEQ"
      },
      "source": [
        ""
      ],
      "execution_count": null,
      "outputs": []
    },
    {
      "cell_type": "code",
      "metadata": {
        "id": "ZcTx0oy7hzB5"
      },
      "source": [
        ""
      ],
      "execution_count": null,
      "outputs": []
    }
  ]
}
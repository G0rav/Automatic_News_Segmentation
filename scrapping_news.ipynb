{
  "nbformat": 4,
  "nbformat_minor": 0,
  "metadata": {
    "colab": {
      "name": "scrapping_news.ipynb",
      "provenance": [],
      "authorship_tag": "ABX9TyOEO5LoAS6joujt/lPOH/3l"
    },
    "kernelspec": {
      "name": "python3",
      "display_name": "Python 3"
    }
  },
  "cells": [
    {
      "cell_type": "markdown",
      "metadata": {
        "id": "1MwksbNXoSNG"
      },
      "source": [
        "# Mounting Google Drive and import necessary libraries\r\n"
      ]
    },
    {
      "cell_type": "code",
      "metadata": {
        "colab": {
          "base_uri": "https://localhost:8080/"
        },
        "id": "KtCLrk46ht8A",
        "outputId": "e46446d6-b5d6-49a2-ed31-3ffc66343475"
      },
      "source": [
        "from google.colab import drive\r\n",
        "drive.mount('/content/drive')"
      ],
      "execution_count": 1,
      "outputs": [
        {
          "output_type": "stream",
          "text": [
            "Mounted at /content/drive\n"
          ],
          "name": "stdout"
        }
      ]
    },
    {
      "cell_type": "code",
      "metadata": {
        "colab": {
          "base_uri": "https://localhost:8080/"
        },
        "id": "OmHb9vJNoOwz",
        "outputId": "48600ab3-bb4f-4a16-830c-c055f23110c8"
      },
      "source": [
        "#install required Packages\r\n",
        "!pip install selenium\r\n",
        "!apt-get update \r\n",
        "!apt install chromium-chromedriver"
      ],
      "execution_count": 3,
      "outputs": [
        {
          "output_type": "stream",
          "text": [
            "Collecting selenium\n",
            "\u001b[?25l  Downloading https://files.pythonhosted.org/packages/80/d6/4294f0b4bce4de0abf13e17190289f9d0613b0a44e5dd6a7f5ca98459853/selenium-3.141.0-py2.py3-none-any.whl (904kB)\n",
            "\u001b[K     |████████████████████████████████| 911kB 11.8MB/s \n",
            "\u001b[?25hRequirement already satisfied: urllib3 in /usr/local/lib/python3.7/dist-packages (from selenium) (1.24.3)\n",
            "Installing collected packages: selenium\n",
            "Successfully installed selenium-3.141.0\n",
            "Hit:1 http://archive.ubuntu.com/ubuntu bionic InRelease\n",
            "Get:2 http://archive.ubuntu.com/ubuntu bionic-updates InRelease [88.7 kB]\n",
            "Get:3 http://ppa.launchpad.net/c2d4u.team/c2d4u4.0+/ubuntu bionic InRelease [15.9 kB]\n",
            "Hit:4 http://ppa.launchpad.net/cran/libgit2/ubuntu bionic InRelease\n",
            "Get:5 http://archive.ubuntu.com/ubuntu bionic-backports InRelease [74.6 kB]\n",
            "Hit:6 http://ppa.launchpad.net/deadsnakes/ppa/ubuntu bionic InRelease\n",
            "Get:7 https://cloud.r-project.org/bin/linux/ubuntu bionic-cran40/ InRelease [3,626 B]\n",
            "Hit:8 http://ppa.launchpad.net/graphics-drivers/ppa/ubuntu bionic InRelease\n",
            "Get:9 http://security.ubuntu.com/ubuntu bionic-security InRelease [88.7 kB]\n",
            "Ign:10 https://developer.download.nvidia.com/compute/cuda/repos/ubuntu1804/x86_64  InRelease\n",
            "Ign:11 https://developer.download.nvidia.com/compute/machine-learning/repos/ubuntu1804/x86_64  InRelease\n",
            "Hit:12 https://developer.download.nvidia.com/compute/cuda/repos/ubuntu1804/x86_64  Release\n",
            "Hit:13 https://developer.download.nvidia.com/compute/machine-learning/repos/ubuntu1804/x86_64  Release\n",
            "Get:14 http://archive.ubuntu.com/ubuntu bionic-updates/main amd64 Packages [2,394 kB]\n",
            "Get:15 http://archive.ubuntu.com/ubuntu bionic-updates/universe amd64 Packages [2,163 kB]\n",
            "Get:16 http://ppa.launchpad.net/c2d4u.team/c2d4u4.0+/ubuntu bionic/main Sources [1,738 kB]\n",
            "Get:17 http://ppa.launchpad.net/c2d4u.team/c2d4u4.0+/ubuntu bionic/main amd64 Packages [889 kB]\n",
            "Get:18 http://security.ubuntu.com/ubuntu bionic-security/universe amd64 Packages [1,392 kB]\n",
            "Get:21 http://security.ubuntu.com/ubuntu bionic-security/main amd64 Packages [1,963 kB]\n",
            "Fetched 10.8 MB in 3s (3,555 kB/s)\n",
            "Reading package lists... Done\n",
            "Reading package lists... Done\n",
            "Building dependency tree       \n",
            "Reading state information... Done\n",
            "The following additional packages will be installed:\n",
            "  chromium-browser chromium-browser-l10n chromium-codecs-ffmpeg-extra\n",
            "Suggested packages:\n",
            "  webaccounts-chromium-extension unity-chromium-extension adobe-flashplugin\n",
            "The following NEW packages will be installed:\n",
            "  chromium-browser chromium-browser-l10n chromium-chromedriver\n",
            "  chromium-codecs-ffmpeg-extra\n",
            "0 upgraded, 4 newly installed, 0 to remove and 32 not upgraded.\n",
            "Need to get 81.0 MB of archives.\n",
            "After this operation, 273 MB of additional disk space will be used.\n",
            "Get:1 http://archive.ubuntu.com/ubuntu bionic-updates/universe amd64 chromium-codecs-ffmpeg-extra amd64 87.0.4280.66-0ubuntu0.18.04.1 [1,122 kB]\n",
            "Get:2 http://archive.ubuntu.com/ubuntu bionic-updates/universe amd64 chromium-browser amd64 87.0.4280.66-0ubuntu0.18.04.1 [71.7 MB]\n",
            "Get:3 http://archive.ubuntu.com/ubuntu bionic-updates/universe amd64 chromium-browser-l10n all 87.0.4280.66-0ubuntu0.18.04.1 [3,716 kB]\n",
            "Get:4 http://archive.ubuntu.com/ubuntu bionic-updates/universe amd64 chromium-chromedriver amd64 87.0.4280.66-0ubuntu0.18.04.1 [4,488 kB]\n",
            "Fetched 81.0 MB in 1s (54.3 MB/s)\n",
            "Selecting previously unselected package chromium-codecs-ffmpeg-extra.\n",
            "(Reading database ... 149406 files and directories currently installed.)\n",
            "Preparing to unpack .../chromium-codecs-ffmpeg-extra_87.0.4280.66-0ubuntu0.18.04.1_amd64.deb ...\n",
            "Unpacking chromium-codecs-ffmpeg-extra (87.0.4280.66-0ubuntu0.18.04.1) ...\n",
            "Selecting previously unselected package chromium-browser.\n",
            "Preparing to unpack .../chromium-browser_87.0.4280.66-0ubuntu0.18.04.1_amd64.deb ...\n",
            "Unpacking chromium-browser (87.0.4280.66-0ubuntu0.18.04.1) ...\n",
            "Selecting previously unselected package chromium-browser-l10n.\n",
            "Preparing to unpack .../chromium-browser-l10n_87.0.4280.66-0ubuntu0.18.04.1_all.deb ...\n",
            "Unpacking chromium-browser-l10n (87.0.4280.66-0ubuntu0.18.04.1) ...\n",
            "Selecting previously unselected package chromium-chromedriver.\n",
            "Preparing to unpack .../chromium-chromedriver_87.0.4280.66-0ubuntu0.18.04.1_amd64.deb ...\n",
            "Unpacking chromium-chromedriver (87.0.4280.66-0ubuntu0.18.04.1) ...\n",
            "Setting up chromium-codecs-ffmpeg-extra (87.0.4280.66-0ubuntu0.18.04.1) ...\n",
            "Setting up chromium-browser (87.0.4280.66-0ubuntu0.18.04.1) ...\n",
            "update-alternatives: using /usr/bin/chromium-browser to provide /usr/bin/x-www-browser (x-www-browser) in auto mode\n",
            "update-alternatives: using /usr/bin/chromium-browser to provide /usr/bin/gnome-www-browser (gnome-www-browser) in auto mode\n",
            "Setting up chromium-chromedriver (87.0.4280.66-0ubuntu0.18.04.1) ...\n",
            "Setting up chromium-browser-l10n (87.0.4280.66-0ubuntu0.18.04.1) ...\n",
            "Processing triggers for hicolor-icon-theme (0.17-2) ...\n",
            "Processing triggers for mime-support (3.60ubuntu1) ...\n",
            "Processing triggers for man-db (2.8.3-2ubuntu0.1) ...\n"
          ],
          "name": "stdout"
        }
      ]
    },
    {
      "cell_type": "code",
      "metadata": {
        "colab": {
          "base_uri": "https://localhost:8080/"
        },
        "id": "0eqPbxn1oHc1",
        "outputId": "e3549644-eaf9-4c33-f564-fdf4016470c2"
      },
      "source": [
        "from selenium import webdriver\r\n",
        "chrome_options = webdriver.ChromeOptions()\r\n",
        "chrome_options.add_argument('--headless')\r\n",
        "chrome_options.add_argument('--no-sandbox')\r\n",
        "chrome_options.add_argument('--disable-dev-shm-usage')\r\n",
        "chrome_options.add_argument('incognito')\r\n",
        " \r\n",
        "driver = webdriver.Chrome('chromedriver',chrome_options=chrome_options)"
      ],
      "execution_count": 4,
      "outputs": [
        {
          "output_type": "stream",
          "text": [
            "/usr/local/lib/python3.7/dist-packages/ipykernel_launcher.py:8: DeprecationWarning: use options instead of chrome_options\n",
            "  \n"
          ],
          "name": "stderr"
        }
      ]
    },
    {
      "cell_type": "code",
      "metadata": {
        "id": "9Xl7EttkoZel"
      },
      "source": [
        "import time\r\n",
        "from datetime import datetime\r\n",
        "import pandas as pd"
      ],
      "execution_count": 5,
      "outputs": []
    },
    {
      "cell_type": "markdown",
      "metadata": {
        "id": "q8Ki7UQvh17h"
      },
      "source": [
        "# The hindu"
      ]
    },
    {
      "cell_type": "code",
      "metadata": {
        "colab": {
          "base_uri": "https://localhost:8080/",
          "height": 574
        },
        "id": "Qt7SDmmrn1ps",
        "outputId": "53995eae-4324-4fbc-9f90-b73cc56c78ee"
      },
      "source": [
        "hindu_df = pd.read_csv('/content/drive/MyDrive/Datasets/News_Scrap/The_Hindu_urls.csv')\r\n",
        "hindu_df"
      ],
      "execution_count": 6,
      "outputs": [
        {
          "output_type": "execute_result",
          "data": {
            "text/html": [
              "<div>\n",
              "<style scoped>\n",
              "    .dataframe tbody tr th:only-of-type {\n",
              "        vertical-align: middle;\n",
              "    }\n",
              "\n",
              "    .dataframe tbody tr th {\n",
              "        vertical-align: top;\n",
              "    }\n",
              "\n",
              "    .dataframe thead th {\n",
              "        text-align: right;\n",
              "    }\n",
              "</style>\n",
              "<table border=\"1\" class=\"dataframe\">\n",
              "  <thead>\n",
              "    <tr style=\"text-align: right;\">\n",
              "      <th></th>\n",
              "      <th>url</th>\n",
              "      <th>category</th>\n",
              "      <th>sub_categories</th>\n",
              "      <th>sub_category_urls</th>\n",
              "      <th>tags</th>\n",
              "    </tr>\n",
              "  </thead>\n",
              "  <tbody>\n",
              "    <tr>\n",
              "      <th>0</th>\n",
              "      <td>https://www.thehindu.com/Business/</td>\n",
              "      <td>Business</td>\n",
              "      <td>['BUSINESS', 'AGRI-BUSINESS', 'INDUSTRY', 'ECO...</td>\n",
              "      <td>['https://www.thehindu.com/business/', 'https:...</td>\n",
              "      <td>Business News, Finance News, Market News, Stoc...</td>\n",
              "    </tr>\n",
              "    <tr>\n",
              "      <th>1</th>\n",
              "      <td>https://www.thehindu.com/Real-Estate/</td>\n",
              "      <td>Real-Estate</td>\n",
              "      <td>['Real-Estate']</td>\n",
              "      <td>['https://www.thehindu.com/Real-Estate/']</td>\n",
              "      <td>Real Estate News - The Hindu</td>\n",
              "    </tr>\n",
              "    <tr>\n",
              "      <th>2</th>\n",
              "      <td>https://www.thehindu.com/Elections/</td>\n",
              "      <td>Elections</td>\n",
              "      <td>['Elections']</td>\n",
              "      <td>['https://www.thehindu.com/Elections/']</td>\n",
              "      <td>Assembly Elections 2020 latest news, updates, ...</td>\n",
              "    </tr>\n",
              "    <tr>\n",
              "      <th>3</th>\n",
              "      <td>https://www.thehindu.com/Sport/</td>\n",
              "      <td>Sport</td>\n",
              "      <td>['SPORT', 'CRICKET', 'FOOTBALL', 'HOCKEY', 'TE...</td>\n",
              "      <td>['https://www.thehindu.com/sport/', 'https://w...</td>\n",
              "      <td>Live Scores, Latest Sports News, Results, Cric...</td>\n",
              "    </tr>\n",
              "    <tr>\n",
              "      <th>4</th>\n",
              "      <td>https://www.thehindu.com/Entertainment/</td>\n",
              "      <td>Entertainment</td>\n",
              "      <td>['ENTERTAINMENT', 'ART', 'DANCE', 'MOVIES', 'M...</td>\n",
              "      <td>['https://www.thehindu.com/entertainment/', 'h...</td>\n",
              "      <td>Entertainment News, Cinema News, Movie Reviews...</td>\n",
              "    </tr>\n",
              "    <tr>\n",
              "      <th>5</th>\n",
              "      <td>https://www.thehindu.com/Society/</td>\n",
              "      <td>Society</td>\n",
              "      <td>['SOCIETY', 'FAITH', 'HISTORY &amp; CULTURE']</td>\n",
              "      <td>['https://www.thehindu.com/society/', 'https:/...</td>\n",
              "      <td>Society News, Religion, History, Culture, Monu...</td>\n",
              "    </tr>\n",
              "    <tr>\n",
              "      <th>6</th>\n",
              "      <td>https://www.thehindu.com/Books/</td>\n",
              "      <td>Books</td>\n",
              "      <td>['BOOKS', 'REVIEWS', 'AUTHORS']</td>\n",
              "      <td>['https://www.thehindu.com/books/', 'https://w...</td>\n",
              "      <td>Book Reviews, Launches, Author Interviews, Exc...</td>\n",
              "    </tr>\n",
              "    <tr>\n",
              "      <th>7</th>\n",
              "      <td>https://www.thehindu.com/Children/</td>\n",
              "      <td>Children</td>\n",
              "      <td>['Children']</td>\n",
              "      <td>['https://www.thehindu.com/Children/']</td>\n",
              "      <td>Children News - The Hindu</td>\n",
              "    </tr>\n",
              "    <tr>\n",
              "      <th>8</th>\n",
              "      <td>https://www.thehindu.com/Life-and-Style/</td>\n",
              "      <td>Life-and-Style</td>\n",
              "      <td>['LIFE &amp; STYLE', 'FASHION', 'FITNESS', 'FOOD',...</td>\n",
              "      <td>['https://www.thehindu.com/life-and-style/', '...</td>\n",
              "      <td>Lifestyle News, Fashion News, Lifestyle And He...</td>\n",
              "    </tr>\n",
              "    <tr>\n",
              "      <th>9</th>\n",
              "      <td>https://www.thehindu.com/Technology/</td>\n",
              "      <td>Technology</td>\n",
              "      <td>['Technology']</td>\n",
              "      <td>['https://www.thehindu.com/Technology/']</td>\n",
              "      <td>Page not found News - The Hindu</td>\n",
              "    </tr>\n",
              "    <tr>\n",
              "      <th>10</th>\n",
              "      <td>https://www.thehindu.com/Sci-Tech/</td>\n",
              "      <td>Sci-Tech</td>\n",
              "      <td>['SCI-TECH', 'SCIENCE', 'TECHNOLOGY', 'HEALTH'...</td>\n",
              "      <td>['https://www.thehindu.com/sci-tech/', 'https:...</td>\n",
              "      <td>Science News, Nature, Technology, Gadgets - Th...</td>\n",
              "    </tr>\n",
              "    <tr>\n",
              "      <th>11</th>\n",
              "      <td>https://www.thehindu.com/Education/</td>\n",
              "      <td>Education</td>\n",
              "      <td>['EDUCATION', 'CAREERS', 'COLLEGES', 'SCHOOLS']</td>\n",
              "      <td>['https://www.thehindu.com/education/', 'https...</td>\n",
              "      <td>Education News, Schools, Colleges, Higher Educ...</td>\n",
              "    </tr>\n",
              "  </tbody>\n",
              "</table>\n",
              "</div>"
            ],
            "text/plain": [
              "                                         url  ...                                               tags\n",
              "0         https://www.thehindu.com/Business/  ...  Business News, Finance News, Market News, Stoc...\n",
              "1      https://www.thehindu.com/Real-Estate/  ...                       Real Estate News - The Hindu\n",
              "2        https://www.thehindu.com/Elections/  ...  Assembly Elections 2020 latest news, updates, ...\n",
              "3            https://www.thehindu.com/Sport/  ...  Live Scores, Latest Sports News, Results, Cric...\n",
              "4    https://www.thehindu.com/Entertainment/  ...  Entertainment News, Cinema News, Movie Reviews...\n",
              "5          https://www.thehindu.com/Society/  ...  Society News, Religion, History, Culture, Monu...\n",
              "6            https://www.thehindu.com/Books/  ...  Book Reviews, Launches, Author Interviews, Exc...\n",
              "7         https://www.thehindu.com/Children/  ...                          Children News - The Hindu\n",
              "8   https://www.thehindu.com/Life-and-Style/  ...  Lifestyle News, Fashion News, Lifestyle And He...\n",
              "9       https://www.thehindu.com/Technology/  ...                    Page not found News - The Hindu\n",
              "10        https://www.thehindu.com/Sci-Tech/  ...  Science News, Nature, Technology, Gadgets - Th...\n",
              "11       https://www.thehindu.com/Education/  ...  Education News, Schools, Colleges, Higher Educ...\n",
              "\n",
              "[12 rows x 5 columns]"
            ]
          },
          "metadata": {
            "tags": []
          },
          "execution_count": 6
        }
      ]
    },
    {
      "cell_type": "code",
      "metadata": {
        "id": "9U57j7e7Flhf"
      },
      "source": [
        "#category page sub category links\r\n",
        "/html/body/div[2]/header/div/div/div/nav[3]/div[1]/nav/ul/li[1]/a\r\n",
        "/html/body/div[2]/header/div/div/div/nav[3]/div[1]/nav/ul/li[2]/a\r\n",
        "\r\n",
        "/html/body/div[2]/header/div/div/div/nav[3]/div[1]/nav/ul/li[2]/a"
      ],
      "execution_count": null,
      "outputs": []
    },
    {
      "cell_type": "code",
      "metadata": {
        "id": "ZdXA38aq0uYt",
        "colab": {
          "base_uri": "https://localhost:8080/",
          "height": 35
        },
        "outputId": "ad993a2b-1019-4eb4-dc9d-e7b66a116d3b"
      },
      "source": [
        "#https://www.thehindu.com/entertainment/\r\n",
        "driver.get('https://www.thehindu.com/sport/cricket/')\r\n",
        "driver.title"
      ],
      "execution_count": null,
      "outputs": [
        {
          "output_type": "execute_result",
          "data": {
            "application/vnd.google.colaboratory.intrinsic+json": {
              "type": "string"
            },
            "text/plain": [
              "'Live Cricket Scores, Cricket News, Analysis, Results & More - The Hindu'"
            ]
          },
          "metadata": {
            "tags": []
          },
          "execution_count": 13
        }
      ]
    },
    {
      "cell_type": "code",
      "metadata": {
        "colab": {
          "base_uri": "https://localhost:8080/"
        },
        "id": "22y1G2IG_783",
        "outputId": "359e30b8-9bbe-413a-cb49-5e613485f1a7"
      },
      "source": [
        "x = driver.find_elements_by_class_name('Other-StoryCard')\r\n",
        "x\r\n"
      ],
      "execution_count": null,
      "outputs": [
        {
          "output_type": "execute_result",
          "data": {
            "text/plain": [
              "[<selenium.webdriver.remote.webelement.WebElement (session=\"6f171d98272e62f8e33ed5804cfbc072\", element=\"da3782cd-7958-4fbe-805e-7d4d537f9838\")>,\n",
              " <selenium.webdriver.remote.webelement.WebElement (session=\"6f171d98272e62f8e33ed5804cfbc072\", element=\"0971ada0-1cb4-4271-bf64-73dc70b51d4d\")>,\n",
              " <selenium.webdriver.remote.webelement.WebElement (session=\"6f171d98272e62f8e33ed5804cfbc072\", element=\"73d6e99e-86cd-4022-b93a-f64817e245c1\")>,\n",
              " <selenium.webdriver.remote.webelement.WebElement (session=\"6f171d98272e62f8e33ed5804cfbc072\", element=\"35fb5e71-54d6-42d6-b050-7740f814784c\")>,\n",
              " <selenium.webdriver.remote.webelement.WebElement (session=\"6f171d98272e62f8e33ed5804cfbc072\", element=\"005912c7-2b86-4731-bc5f-6758d215ccc7\")>,\n",
              " <selenium.webdriver.remote.webelement.WebElement (session=\"6f171d98272e62f8e33ed5804cfbc072\", element=\"0fd58738-47d9-48e0-9e9c-68c794a732db\")>,\n",
              " <selenium.webdriver.remote.webelement.WebElement (session=\"6f171d98272e62f8e33ed5804cfbc072\", element=\"86217aee-ddfa-48f4-ac68-cf1e38359ec4\")>,\n",
              " <selenium.webdriver.remote.webelement.WebElement (session=\"6f171d98272e62f8e33ed5804cfbc072\", element=\"3c32ecd5-40bf-4545-877e-e6f573ac16f7\")>,\n",
              " <selenium.webdriver.remote.webelement.WebElement (session=\"6f171d98272e62f8e33ed5804cfbc072\", element=\"9fb9cd91-4824-4c2a-9096-17d8f3f6fc82\")>,\n",
              " <selenium.webdriver.remote.webelement.WebElement (session=\"6f171d98272e62f8e33ed5804cfbc072\", element=\"f21396df-216a-40c1-8f42-153e21458f1b\")>,\n",
              " <selenium.webdriver.remote.webelement.WebElement (session=\"6f171d98272e62f8e33ed5804cfbc072\", element=\"0f320866-fe11-4a42-87b0-2acbaf7acd61\")>,\n",
              " <selenium.webdriver.remote.webelement.WebElement (session=\"6f171d98272e62f8e33ed5804cfbc072\", element=\"a593bd4f-943d-4820-bf00-79def852bb7c\")>,\n",
              " <selenium.webdriver.remote.webelement.WebElement (session=\"6f171d98272e62f8e33ed5804cfbc072\", element=\"6427c114-17f5-4f2c-be0a-e098a2fd383c\")>,\n",
              " <selenium.webdriver.remote.webelement.WebElement (session=\"6f171d98272e62f8e33ed5804cfbc072\", element=\"0ba5ea5b-f84f-4adc-936c-7fe33f7aaf7a\")>,\n",
              " <selenium.webdriver.remote.webelement.WebElement (session=\"6f171d98272e62f8e33ed5804cfbc072\", element=\"09eee24c-5428-40bd-a941-715a7e8a80d9\")>,\n",
              " <selenium.webdriver.remote.webelement.WebElement (session=\"6f171d98272e62f8e33ed5804cfbc072\", element=\"214a6df3-485a-42d8-8557-ccee7a296c5e\")>,\n",
              " <selenium.webdriver.remote.webelement.WebElement (session=\"6f171d98272e62f8e33ed5804cfbc072\", element=\"ebc8b38a-8638-423f-b6c2-0dba6260c05d\")>,\n",
              " <selenium.webdriver.remote.webelement.WebElement (session=\"6f171d98272e62f8e33ed5804cfbc072\", element=\"c3ad8542-3d49-4a4e-a3df-9cfe45a8b1ac\")>,\n",
              " <selenium.webdriver.remote.webelement.WebElement (session=\"6f171d98272e62f8e33ed5804cfbc072\", element=\"3029d9d2-b11d-4813-b46f-bc3f144e3b2c\")>,\n",
              " <selenium.webdriver.remote.webelement.WebElement (session=\"6f171d98272e62f8e33ed5804cfbc072\", element=\"d29c7c73-a729-4074-b257-3386a33dfb50\")>,\n",
              " <selenium.webdriver.remote.webelement.WebElement (session=\"6f171d98272e62f8e33ed5804cfbc072\", element=\"e5d1822a-bd0c-47f5-be98-9274bb187496\")>,\n",
              " <selenium.webdriver.remote.webelement.WebElement (session=\"6f171d98272e62f8e33ed5804cfbc072\", element=\"bae5ddc0-9ab4-4133-b5c9-5ca69a603669\")>,\n",
              " <selenium.webdriver.remote.webelement.WebElement (session=\"6f171d98272e62f8e33ed5804cfbc072\", element=\"17e94982-ea97-4d16-9070-af5b5a35522f\")>,\n",
              " <selenium.webdriver.remote.webelement.WebElement (session=\"6f171d98272e62f8e33ed5804cfbc072\", element=\"bd62ec8a-74a3-4d7b-9eb1-c12364b005b8\")>,\n",
              " <selenium.webdriver.remote.webelement.WebElement (session=\"6f171d98272e62f8e33ed5804cfbc072\", element=\"ccf75ffe-131f-4e39-9638-2c620edab7ff\")>,\n",
              " <selenium.webdriver.remote.webelement.WebElement (session=\"6f171d98272e62f8e33ed5804cfbc072\", element=\"975084f0-062a-46ae-ba8d-c87db5eec266\")>,\n",
              " <selenium.webdriver.remote.webelement.WebElement (session=\"6f171d98272e62f8e33ed5804cfbc072\", element=\"bc256482-4248-42c3-a55b-c5b820ba0d20\")>,\n",
              " <selenium.webdriver.remote.webelement.WebElement (session=\"6f171d98272e62f8e33ed5804cfbc072\", element=\"85ba28f8-5a94-4e95-94fc-753536cbc75c\")>,\n",
              " <selenium.webdriver.remote.webelement.WebElement (session=\"6f171d98272e62f8e33ed5804cfbc072\", element=\"17b27c3a-355d-40c8-97bd-d3b012cef7fb\")>,\n",
              " <selenium.webdriver.remote.webelement.WebElement (session=\"6f171d98272e62f8e33ed5804cfbc072\", element=\"38cd88e5-388b-41ff-ad7c-2bb910953c7d\")>,\n",
              " <selenium.webdriver.remote.webelement.WebElement (session=\"6f171d98272e62f8e33ed5804cfbc072\", element=\"f7d669b0-80cc-4872-a002-197f27f93067\")>,\n",
              " <selenium.webdriver.remote.webelement.WebElement (session=\"6f171d98272e62f8e33ed5804cfbc072\", element=\"6fe04ac0-d03b-4147-8661-e105d3efea5b\")>,\n",
              " <selenium.webdriver.remote.webelement.WebElement (session=\"6f171d98272e62f8e33ed5804cfbc072\", element=\"4070f36c-87ea-48ed-ad44-8f89c0e8f72c\")>,\n",
              " <selenium.webdriver.remote.webelement.WebElement (session=\"6f171d98272e62f8e33ed5804cfbc072\", element=\"6e6c2e38-5f0b-4fef-8909-3b46ed46bd9d\")>,\n",
              " <selenium.webdriver.remote.webelement.WebElement (session=\"6f171d98272e62f8e33ed5804cfbc072\", element=\"f95500e9-7969-45ac-a1d0-af8e3cf88340\")>,\n",
              " <selenium.webdriver.remote.webelement.WebElement (session=\"6f171d98272e62f8e33ed5804cfbc072\", element=\"535fbf15-504d-4602-a33c-9b7987127c1a\")>,\n",
              " <selenium.webdriver.remote.webelement.WebElement (session=\"6f171d98272e62f8e33ed5804cfbc072\", element=\"3a699419-5346-4e59-9a51-b94f1daf3b48\")>,\n",
              " <selenium.webdriver.remote.webelement.WebElement (session=\"6f171d98272e62f8e33ed5804cfbc072\", element=\"a8ec10b9-6742-41ee-b6a8-d8070bcd2f5c\")>,\n",
              " <selenium.webdriver.remote.webelement.WebElement (session=\"6f171d98272e62f8e33ed5804cfbc072\", element=\"74aed849-72c7-40ae-aec9-0c1824d95d56\")>,\n",
              " <selenium.webdriver.remote.webelement.WebElement (session=\"6f171d98272e62f8e33ed5804cfbc072\", element=\"465733bc-dfaf-4936-9fd7-535475d4be40\")>,\n",
              " <selenium.webdriver.remote.webelement.WebElement (session=\"6f171d98272e62f8e33ed5804cfbc072\", element=\"1860b879-245c-4ffc-b3a4-d81003db34a2\")>,\n",
              " <selenium.webdriver.remote.webelement.WebElement (session=\"6f171d98272e62f8e33ed5804cfbc072\", element=\"9aa8d528-5baa-4ece-9d43-276c6a2cdca8\")>]"
            ]
          },
          "metadata": {
            "tags": []
          },
          "execution_count": 17
        }
      ]
    },
    {
      "cell_type": "code",
      "metadata": {
        "colab": {
          "base_uri": "https://localhost:8080/",
          "height": 52
        },
        "id": "HCsoYj98_7Ns",
        "outputId": "35fafb91-5211-4df0-b0a3-9e0bb77a9da4"
      },
      "source": [
        "x[0].text"
      ],
      "execution_count": null,
      "outputs": [
        {
          "output_type": "execute_result",
          "data": {
            "application/vnd.google.colaboratory.intrinsic+json": {
              "type": "string"
            },
            "text/plain": [
              "'Indian can win against odds in all conditions, a mark of all great teams, says Hayden\\nThe wickets in Chennai and Ahmedabad came in for sharp criticism during the second and third Test of the ongoing series.'"
            ]
          },
          "metadata": {
            "tags": []
          },
          "execution_count": 16
        }
      ]
    },
    {
      "cell_type": "code",
      "metadata": {
        "colab": {
          "base_uri": "https://localhost:8080/",
          "height": 35
        },
        "id": "aJTsLNSG_7K4",
        "outputId": "e91be0b3-ade0-46d0-8413-0f10ad3c6b09"
      },
      "source": [
        "anchorElement = x[1].find_element_by_tag_name('a')\r\n",
        "anchorElement.get_attribute(\"href\")"
      ],
      "execution_count": null,
      "outputs": [
        {
          "output_type": "execute_result",
          "data": {
            "application/vnd.google.colaboratory.intrinsic+json": {
              "type": "string"
            },
            "text/plain": [
              "'https://www.thehindu.com/sport/cricket/section-of-english-media-blames-team-for-motera-debacle-others-point-fingers-at-pitch/article33941055.ece'"
            ]
          },
          "metadata": {
            "tags": []
          },
          "execution_count": 24
        }
      ]
    },
    {
      "cell_type": "markdown",
      "metadata": {
        "id": "qDIYhvIciCQj"
      },
      "source": [
        "## Page Indian Express"
      ]
    },
    {
      "cell_type": "code",
      "metadata": {
        "id": "wXDC8zwb_7Hq"
      },
      "source": [
        "# https://indianexpress.com/section/cities/\r\n",
        "\r\n",
        "# https://indianexpress.com/parenting/\r\n",
        "\r\n",
        "'''\r\n",
        "//*[@id=\"section\"]/div/div[2]/div[1]/div[2]/ul/li[2]/a\r\n",
        "\r\n",
        "//*[@id=\"section\"]/div/div[2]/div[1]/div[2]/ul/li[3]/a\r\n",
        "'''"
      ],
      "execution_count": null,
      "outputs": []
    },
    {
      "cell_type": "code",
      "metadata": {
        "id": "rHRR3W_w_7GH"
      },
      "source": [
        ""
      ],
      "execution_count": null,
      "outputs": []
    },
    {
      "cell_type": "code",
      "metadata": {
        "id": "PeEaAk-PhzGX"
      },
      "source": [
        ""
      ],
      "execution_count": null,
      "outputs": []
    },
    {
      "cell_type": "code",
      "metadata": {
        "id": "0J6Ra7DnhzEQ"
      },
      "source": [
        ""
      ],
      "execution_count": null,
      "outputs": []
    },
    {
      "cell_type": "code",
      "metadata": {
        "id": "ZcTx0oy7hzB5"
      },
      "source": [
        ""
      ],
      "execution_count": null,
      "outputs": []
    }
  ]
}